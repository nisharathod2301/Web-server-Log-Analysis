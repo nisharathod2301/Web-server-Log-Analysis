{
 "cells": [
  {
   "cell_type": "markdown",
   "metadata": {},
   "source": [
    "\n",
    "# Web Server Log Analysis\n",
    " \n",
    "##### This example demonstrates parsing (including incorrectly formated strings) and analysis of web server log data . \n",
    "\n",
    "The lines may look like\n",
    "\n",
    "* local - - [24/Oct/1994:13:41:41 -0600] \"GET index.html HTTP/1.0\" 200 150\n",
    "* remote - - [27/Oct/1994:23:17:17 -0600] \"GET index.html 200 3185\n",
    "* local - - [27/Oct/1994:15:28:10 -0600] \"GET index.html Inch Nails HTTP/1.0\" 404 -\n",
    "\n",
    "\n",
    "Out of 726739 log-lines, 723267 are parsed with protocol info, 1847 are parsed without protocol info, 1419 are of the \"local index.html\"-type and carry no useful information, and 206 lines are left unparsed till further decision.\n",
    "\n",
    "##### The analysis includes:\n",
    "\n",
    "1. Step-by-step parsing of log lines to arrive at final \"production\" parsing code\n",
    "\n",
    "2. Exploratory data analysis and visualizations\n",
    "\n",
    "3. Analysis of \"notFound\" (404) response codes and visualizations\n",
    "\n",
    "The data are taken from [here](http://ita.ee.lbl.gov/html/contrib/Calgary-HTTP.html). The code assumes that the file \"calgary_access_log.gz\" is downloaded, gunziped and put into \"data\" subdirectory."
   ]
  },
  {
   "cell_type": "markdown",
   "metadata": {},
   "source": [
    "# 1. Parsing"
   ]
  },
  {
   "cell_type": "markdown",
   "metadata": {},
   "source": [
    "We create \"logFileRDD\" of the file by reading it as a collection of lines. For a start we have a look at the first several lines"
   ]
  },
  {
   "cell_type": "code",
   "execution_count": 1,
   "metadata": {
    "collapsed": false
   },
   "outputs": [
    {
     "data": {
      "text/plain": [
       "[u'local - - [24/Oct/1994:13:41:41 -0600] \"GET index.html HTTP/1.0\" 200 150',\n",
       " u'local - - [24/Oct/1994:13:41:41 -0600] \"GET 1.gif HTTP/1.0\" 200 1210',\n",
       " u'local - - [24/Oct/1994:13:43:13 -0600] \"GET index.html HTTP/1.0\" 200 3185',\n",
       " u'local - - [24/Oct/1994:13:43:14 -0600] \"GET 2.gif HTTP/1.0\" 200 2555',\n",
       " u'local - - [24/Oct/1994:13:43:15 -0600] \"GET 3.gif HTTP/1.0\" 200 36403']"
      ]
     },
     "execution_count": 1,
     "metadata": {},
     "output_type": "execute_result"
    }
   ],
   "source": [
    "import os\n",
    "logFile = os.path.join('data', 'calgary_access_log')\n",
    "logFileRDD = sc.textFile(logFile, 4).cache()\n",
    "logFileRDD.take(5)"
   ]
  },
  {
   "cell_type": "markdown",
   "metadata": {},
   "source": [
    "These lines comply to [Apache Common Log Format (CLF)](http://httpd.apache.org/docs/1.3/logs.html#common).\n",
    "We briefly summarize the content of the fields\n",
    "\n",
    "1. IP address of the client (\"local\" in the example above)\n",
    "\n",
    "2. RFC 1413 identity of the client (The \"hyphen\" in the output indicates that the requested piece of information is not available)\n",
    "\n",
    "3. userid of the person requesting the document\n",
    "\n",
    "4. time that the server finished processing the request\n",
    "\n",
    "5. method used by the client in the request line (\"GET\") \n",
    "\n",
    "6. resource requested by the client (\"index.html\" or various GIF files)\n",
    "\n",
    "7. protocol used by the client (HTTP/1.0)\n",
    "\n",
    "8. response code according to [HTTP Specification](http://www.w3.org/Protocols/rfc2616/rfc2616-sec10.html) that the server sends back to the client (200 means OK, the request has succeded)\n",
    "\n",
    "9. the size of the content returned to the client\n",
    "\n",
    "Let us parse each line of our RDD accordingly"
   ]
  },
  {
   "cell_type": "code",
   "execution_count": 2,
   "metadata": {
    "collapsed": false
   },
   "outputs": [],
   "source": [
    "# A regular expression pattern to extract fields from the log line\n",
    "APACHE_ACCESS_LOG_PATTERN = '^(\\S+) (\\S+) (\\S+) \\[([\\w:/]+\\s[+\\-]\\d{4})\\] \"(\\S+) (\\S+) (\\S+)\" (\\d{3}) (\\S+)'"
   ]
  },
  {
   "cell_type": "code",
   "execution_count": 3,
   "metadata": {
    "collapsed": false
   },
   "outputs": [
    {
     "name": "stdout",
     "output_type": "stream",
     "text": [
      "1994-10-24 13:41:41\n"
     ]
    }
   ],
   "source": [
    "# check correct pattern for datetime - we neglect the time zone shift for the moment\n",
    "import datetime\n",
    "stri = \"24/Oct/1994:13:41:41 -0600\"\n",
    "dt = datetime.datetime.strptime(stri[:20], \"%d/%b/%Y:%H:%M:%S\")\n",
    "print dt"
   ]
  },
  {
   "cell_type": "code",
   "execution_count": 4,
   "metadata": {
    "collapsed": false
   },
   "outputs": [],
   "source": [
    "import re\n",
    "from pyspark.sql import Row\n",
    "\n",
    "def parseApacheLogLine(logline):\n",
    "    \"\"\" Parse a line in the Apache Common Log format\n",
    "    Inputs:\n",
    "        logline (str): a line of text in the Apache Common Log format\n",
    "    Outputs:\n",
    "        tuple: either a dictionary containing the parts of the Apache Access Log and 1,\n",
    "               or the original invalid log line and 0\n",
    "    \"\"\"\n",
    "    match = re.search(APACHE_ACCESS_LOG_PATTERN, logline)\n",
    "    if match is None:\n",
    "        return (logline, 0)\n",
    "    size_field = match.group(9)\n",
    "    if size_field == '-':\n",
    "        size = long(0)\n",
    "    else:\n",
    "        size = long(match.group(9))\n",
    "    return (Row(\n",
    "        host          = match.group(1),\n",
    "        client_id = match.group(2),\n",
    "        user_id       = match.group(3),\n",
    "        date_time     = datetime.datetime.strptime(match.group(4)[:20], \"%d/%b/%Y:%H:%M:%S\"), #parse_apache_time(match.group(4)),\n",
    "        method        = match.group(5), #.toupper()\n",
    "        request      = match.group(6),\n",
    "        protocol      = match.group(7),\n",
    "        response_code = int(match.group(8)),\n",
    "        content_size  = size\n",
    "    ), 1)"
   ]
  },
  {
   "cell_type": "markdown",
   "metadata": {},
   "source": [
    "We will keep track of correctly parsed and failed logs are returned those as two RDDs"
   ]
  },
  {
   "cell_type": "code",
   "execution_count": 5,
   "metadata": {
    "collapsed": true
   },
   "outputs": [],
   "source": [
    "def access_fail_logs(parsed_logs):\n",
    "    \"\"\" Read and parse log file, print a 20-sample of failed log-lines\n",
    "    Inputs:\n",
    "        parsed_logs (RDD): an RDD obtained via parseApacheLogLine(...)\n",
    "    Outputs:\n",
    "        tuple of RDDs: access_logs, failed_logs\n",
    "    \"\"\"\n",
    "    access_logs = (parsed_logs\n",
    "                   .filter(lambda s: s[1] == 1)\n",
    "                   .map(lambda s: s[0])\n",
    "                   .cache())\n",
    "\n",
    "    failed_logs = (parsed_logs\n",
    "                   .filter(lambda s: s[1] == 0)\n",
    "                   .map(lambda s: s[0]))\n",
    "    failed_logs_count = failed_logs.count()\n",
    "    if failed_logs_count > 0:\n",
    "        print 'Number of invalid logline: %d' % failed_logs.count()\n",
    "        for line in failed_logs.take(20):\n",
    "            print 'Invalid logline: %s' % line\n",
    "\n",
    "    print 'Read %d lines, successfully parsed %d lines, failed to parse %d lines' % (parsed_logs.count(), access_logs.count(), failed_logs.count())\n",
    "    return access_logs, failed_logs"
   ]
  },
  {
   "cell_type": "markdown",
   "metadata": {},
   "source": [
    "Now that our functions are ready let us start with parsing lines"
   ]
  },
  {
   "cell_type": "code",
   "execution_count": 6,
   "metadata": {
    "collapsed": false
   },
   "outputs": [
    {
     "name": "stdout",
     "output_type": "stream",
     "text": [
      "Number of invalid logline: 4459\n",
      "Invalid logline: local 780     index.html\n",
      "Invalid logline: local      index.html\n",
      "Invalid logline: remote - - [24/Oct/1994:17:18:19 -0600] \"GET 155.gif\" 200 2555\n",
      "Invalid logline: remote - - [24/Oct/1994:17:18:55 -0600] \"GET 156.gif\" 200 36403\n",
      "Invalid logline: remote - - [24/Oct/1994:17:19:02 -0600] \"GET 157.gif\" 200 441\n",
      "Invalid logline: local      index.html\n",
      "Invalid logline: remote - - [27/Oct/1994:12:42:44 -0600] \"GET 576.html tp:// HTTP/1.0\" 404 -\n",
      "Invalid logline: local - - [27/Oct/1994:15:28:10 -0600] \"GET index.html Inch Nails HTTP/1.0\" 404 -\n",
      "Invalid logline: local - - [27/Oct/1994:15:29:14 -0600] \"GET index.html Inch Nails HTTP/1.0\" 404 -\n",
      "Invalid logline: remote - - [27/Oct/1994:18:51:50 -0600] \"GET index.html 200 3185\n",
      "Invalid logline: remote - - [27/Oct/1994:23:17:17 -0600] \"GET index.html 200 3185\n",
      "Invalid logline: local - - [28/Oct/1994:00:23:22 -0600] \"GET 619.html\" 404 -\n",
      "Invalid logline: local - - [28/Oct/1994:00:24:32 -0600] \"GET 620.html\" 404 -\n",
      "Invalid logline: local - - [28/Oct/1994:00:25:18 -0600] \"GET index.html 200 514\n",
      "Invalid logline: local - - [28/Oct/1994:00:25:19 -0600] \"GET 621.gif\" 200 541\n",
      "Invalid logline: local - - [28/Oct/1994:00:25:32 -0600] \"GET 622.html\" 200 1811\n",
      "Invalid logline: local - - [28/Oct/1994:09:07:50 -0600] \"GET\" index.html -\n",
      "Invalid logline: local - - [28/Oct/1994:09:08:28 -0600] \"GET index.html 302 -\n",
      "Invalid logline: local - - [28/Oct/1994:09:09:35 -0600] \"GET index.html 200 3185\n",
      "Invalid logline: local - - [28/Oct/1994:09:10:21 -0600] \"GET 628.html\" 200 1530\n",
      "Read 726739 lines, successfully parsed 722280 lines, failed to parse 4459 lines\n"
     ]
    }
   ],
   "source": [
    "parsedLogsRDD = logFileRDD.map(parseApacheLogLine).cache()\n",
    "accessLogsRDD, failedLogsRDD = access_fail_logs(parsedLogsRDD)"
   ]
  },
  {
   "cell_type": "markdown",
   "metadata": {},
   "source": [
    "There are many lines that failed to parse. Some of them (like \"local 780 index.html\") seems to be not important for our analysis and can be dropped. Others contain useful unformation though. Before dealing with this issue, let us check if parsed results are meaningful. "
   ]
  },
  {
   "cell_type": "markdown",
   "metadata": {},
   "source": [
    "### Start Data Cleaning\n",
    "\n",
    "How can we be sure that our parsing delivered meaningful results? Let us have a look at the unique values of the \"method\", \"response code\", and \"protocol\". "
   ]
  },
  {
   "cell_type": "code",
   "execution_count": 7,
   "metadata": {
    "collapsed": true
   },
   "outputs": [],
   "source": [
    "def distinct_methods_responsecodes_protocols(accessLogsRDD):\n",
    "    \"\"\"\n",
    "    Prints distinct values for methods, response codes and protocols\n",
    "    Inputs:\n",
    "        accessLogsRDD \n",
    "    \"\"\"\n",
    "    MethodsRDD = accessLogsRDD.map(lambda log: log.method)\n",
    "    uniqueMethodsRDD = MethodsRDD.distinct()\n",
    "    print \"Methods are\", sorted(uniqueMethodsRDD.collect())\n",
    "    ResponseCodesRDD = accessLogsRDD.map(lambda log: log.response_code)\n",
    "    uniqueResponseCodesRDD = ResponseCodesRDD.distinct()\n",
    "    print \"Response codes are\", sorted(uniqueResponseCodesRDD.collect())\n",
    "    ProtocolsRDD = accessLogsRDD.map(lambda log: log.protocol)\n",
    "    uniqueProtocolsRDD = ProtocolsRDD.distinct()\n",
    "    print \"Protocols are\", sorted(uniqueProtocolsRDD.collect())\n",
    "    #return MethodsRDD, ResponseCodesRDD, ProtocolsRDD"
   ]
  },
  {
   "cell_type": "code",
   "execution_count": 8,
   "metadata": {
    "collapsed": false
   },
   "outputs": [
    {
     "name": "stdout",
     "output_type": "stream",
     "text": [
      "Methods are [u'GET', u'HEAD', u'POST']\n",
      "Response codes are [200, 302, 304, 400, 401, 403, 404, 500, 501]\n",
      "Protocols are [u'Bentley)</a>', u'Engines</a><br>', u'HTTP/0', u'HTTP/1.0', u'HTTP/V1.0', u'Parkhill</A><br>', u'Zhang</A>,']\n"
     ]
    }
   ],
   "source": [
    "def distinct_methods_responsecodes_protocols(accessLogsRDD):\n",
    "    \"\"\"\n",
    "    Prints distinct values for methods, response codes and protocols\n",
    "    Inputs:\n",
    "        accessLogsRDD \n",
    "    \"\"\"\n",
    "    MethodsRDD = accessLogsRDD.map(lambda log: log.method)\n",
    "    uniqueMethodsRDD = MethodsRDD.distinct()\n",
    "    print \"Methods are\", sorted(uniqueMethodsRDD.collect())\n",
    "    ResponseCodesRDD = accessLogsRDD.map(lambda log: log.response_code)\n",
    "    uniqueResponseCodesRDD = ResponseCodesRDD.distinct()\n",
    "    print \"Response codes are\", sorted(uniqueResponseCodesRDD.collect())\n",
    "    ProtocolsRDD = accessLogsRDD.map(lambda log: log.protocol)\n",
    "    uniqueProtocolsRDD = ProtocolsRDD.distinct()\n",
    "    print \"Protocols are\", sorted(uniqueProtocolsRDD.collect())\n",
    "    #return MethodsRDD, ResponseCodesRDD, ProtocolsRDD\n",
    "\n",
    "distinct_methods_responsecodes_protocols(accessLogsRDD)"
   ]
  },
  {
   "cell_type": "markdown",
   "metadata": {},
   "source": [
    "All methods look reasonable\n",
    "\n",
    "All response codes are as expected from correct parsing:\n",
    "\n",
    "* 200 OK\n",
    "* 302 Found\n",
    "* 304 Not Modified\n",
    "* 400 Bad Request\n",
    "* 401 Unauthorized\n",
    "* 403 Forbidden\n",
    "* 404 Not Found\n",
    "* 500 Internal Server Error\n",
    "* 501 Not Implemented\n",
    "\n",
    "For protocols some results definitely belong not to protocols but to the previous \"request\" field (so that \"request\" can consist of more than one word). Moreover, all valid protocols seems to be some variations of HTTP. Let us try to parse protocol as a field with \"TP\" letters in it and refine our regex accordingly"
   ]
  },
  {
   "cell_type": "code",
   "execution_count": 9,
   "metadata": {
    "collapsed": false
   },
   "outputs": [
    {
     "name": "stdout",
     "output_type": "stream",
     "text": [
      "Number of invalid logline: 3499\n",
      "Invalid logline: local 780     index.html\n",
      "Invalid logline: local      index.html\n",
      "Invalid logline: remote - - [24/Oct/1994:17:18:19 -0600] \"GET 155.gif\" 200 2555\n",
      "Invalid logline: remote - - [24/Oct/1994:17:18:55 -0600] \"GET 156.gif\" 200 36403\n",
      "Invalid logline: remote - - [24/Oct/1994:17:19:02 -0600] \"GET 157.gif\" 200 441\n",
      "Invalid logline: local      index.html\n",
      "Invalid logline: remote - - [27/Oct/1994:18:51:50 -0600] \"GET index.html 200 3185\n",
      "Invalid logline: remote - - [27/Oct/1994:23:17:17 -0600] \"GET index.html 200 3185\n",
      "Invalid logline: local - - [28/Oct/1994:00:23:22 -0600] \"GET 619.html\" 404 -\n",
      "Invalid logline: local - - [28/Oct/1994:00:24:32 -0600] \"GET 620.html\" 404 -\n",
      "Invalid logline: local - - [28/Oct/1994:00:25:18 -0600] \"GET index.html 200 514\n",
      "Invalid logline: local - - [28/Oct/1994:00:25:19 -0600] \"GET 621.gif\" 200 541\n",
      "Invalid logline: local - - [28/Oct/1994:00:25:32 -0600] \"GET 622.html\" 200 1811\n",
      "Invalid logline: local - - [28/Oct/1994:09:07:50 -0600] \"GET\" index.html -\n",
      "Invalid logline: local - - [28/Oct/1994:09:08:28 -0600] \"GET index.html 302 -\n",
      "Invalid logline: local - - [28/Oct/1994:09:09:35 -0600] \"GET index.html 200 3185\n",
      "Invalid logline: local - - [28/Oct/1994:09:10:21 -0600] \"GET 628.html\" 200 1530\n",
      "Invalid logline: local - - [28/Oct/1994:09:10:55 -0600] \"GET 629.html\" 404 -\n",
      "Invalid logline: local      index.html\n",
      "Invalid logline: remote - - [29/Oct/1994:12:37:21 -0600] \"GET 746.html\" 200 2830\n",
      "Read 726739 lines, successfully parsed 723240 lines, failed to parse 3499 lines\n"
     ]
    }
   ],
   "source": [
    "# This was originally '^(\\S+) (\\S+) (\\S+) \\[([\\w:/]+\\s[+\\-]\\d{4})\\] \"(\\S+) (\\S+)\\s*(\\S*)\" (\\d{3}) (\\S+)'\n",
    "APACHE_ACCESS_LOG_PATTERN = r'^(\\S+) (\\S+) (\\S+) \\[([\\w:/]+\\s[+\\-]\\d{4})\\] \"(\\S+) (\\S+.*) (\\S+[Tt][Pp]\\S*)\" (\\d{3}) (\\S+)$'\n",
    "parsedLogsRDD1 = logFileRDD.map(parseApacheLogLine).cache()\n",
    "accessLogsRDD1, failedLogsRDD1 = access_fail_logs(parsedLogsRDD1)"
   ]
  },
  {
   "cell_type": "markdown",
   "metadata": {},
   "source": [
    "Checking again that results are meaningful"
   ]
  },
  {
   "cell_type": "code",
   "execution_count": 10,
   "metadata": {
    "collapsed": false
   },
   "outputs": [
    {
     "name": "stdout",
     "output_type": "stream",
     "text": [
      "Methods are [u'GET', u'HEAD', u'POST']\n",
      "Response codes are [200, 302, 304, 400, 401, 403, 404, 500, 501]\n",
      "Protocols are [u'HTTP/0', u'HTTP/1.0', u'HTTP/V1.0']\n"
     ]
    }
   ],
   "source": [
    "distinct_methods_responsecodes_protocols(accessLogsRDD1)"
   ]
  },
  {
   "cell_type": "markdown",
   "metadata": {},
   "source": [
    "All the protocols above are one and the same protocol \"HTTP/1.0\", so we should adjust our \"parseApacheLogLine\" accordingly (or neglect  this field since it carries no useful information). We will do this later. Now, as promised above, let us return to the \"failed\" lines. Some of them are without protocol but contain many other fields. We create new pattern to process only the previously failed lines"
   ]
  },
  {
   "cell_type": "code",
   "execution_count": 11,
   "metadata": {
    "collapsed": false
   },
   "outputs": [
    {
     "name": "stdout",
     "output_type": "stream",
     "text": [
      "Number of invalid logline: 1652\n",
      "Invalid logline: local 780     index.html\n",
      "Invalid logline: local      index.html\n",
      "Invalid logline: local      index.html\n",
      "Invalid logline: local - - [28/Oct/1994:09:07:50 -0600] \"GET\" index.html -\n",
      "Invalid logline: local      index.html\n",
      "Invalid logline: local      index.html\n",
      "Invalid logline: local      index.html\n",
      "Invalid logline: local      index.html\n",
      "Invalid logline: local      index.html\n",
      "Invalid logline: remote 200 329    index.html\n",
      "Invalid logline: local      index.html\n",
      "Invalid logline: local      index.html\n",
      "Invalid logline: local      index.html\n",
      "Invalid logline: local      index.html\n",
      "Invalid logline: local      index.html\n",
      "Invalid logline: local      index.html\n",
      "Invalid logline: local      index.html\n",
      "Invalid logline: local 579     index.html\n",
      "Invalid logline: local      index.html\n",
      "Invalid logline: local      index.html\n",
      "Read 3499 lines, successfully parsed 1847 lines, failed to parse 1652 lines\n"
     ]
    }
   ],
   "source": [
    "APACHE_ACCESS_LOG_PATTERN = r'^(\\S+) (\\S+) (\\S+) \\[([\\w:/]+\\s[+\\-]\\d{4})\\] \"(\\S+) (\\S+.*)\\s*(\\S*)\"* (\\d{3}) (\\S+)$'\n",
    "parsedLogsRDD2 = failedLogsRDD1.map(parseApacheLogLine).cache() # apply to previously failed lines\n",
    "accessLogsRDD2, failedLogsRDD2 = access_fail_logs(parsedLogsRDD2)"
   ]
  },
  {
   "cell_type": "markdown",
   "metadata": {},
   "source": [
    "Again we check that the results are reasonable"
   ]
  },
  {
   "cell_type": "code",
   "execution_count": 12,
   "metadata": {
    "collapsed": false
   },
   "outputs": [
    {
     "name": "stdout",
     "output_type": "stream",
     "text": [
      "Methods are [u'GET', u'HEAD', u'get']\n",
      "Response codes are [200, 302, 400, 404]\n",
      "Protocols are [u'']\n"
     ]
    }
   ],
   "source": [
    "distinct_methods_responsecodes_protocols(accessLogsRDD2)"
   ]
  },
  {
   "cell_type": "markdown",
   "metadata": {},
   "source": [
    "Methods are meaningful, we only need to adjust our \"parseApacheLogLine\" to be case insensitive. Responses are meaningful.\n",
    "\n",
    "The most of failed lines look like \"local index.html\" and thus look irrelevant to our purpose. We consider dropping them. To be on the safe side, however, let us process what we can by using this \"local index.html\"-like two-word pattern and have a look at the rest"
   ]
  },
  {
   "cell_type": "code",
   "execution_count": 13,
   "metadata": {
    "collapsed": false
   },
   "outputs": [
    {
     "name": "stdout",
     "output_type": "stream",
     "text": [
      "Number of invalid logline: 233\n",
      "Invalid logline: local 780     index.html\n",
      "Invalid logline: local - - [28/Oct/1994:09:07:50 -0600] \"GET\" index.html -\n",
      "Invalid logline: remote 200 329    index.html\n",
      "Invalid logline: local 579     index.html\n",
      "Invalid logline: remote 302 -    index.html\n",
      "Invalid logline: remote 304 0    index.html\n",
      "Invalid logline: remote HTTP/1.0\" 200 55124   index.html\n",
      "Invalid logline: local HTTP/1.0\" 302 -   index.html\n",
      "Invalid logline: remote HTTP/1.0\" 200 506   index.html\n",
      "Invalid logline: local HTTP/1.0\" 200 9154   index.html\n",
      "Invalid logline: remote 200 1619    index.html\n",
      "Invalid logline: local HTTP/1.0\" 200 732   index.html\n",
      "Invalid logline: local - [16/Dec/1994:11:18:51 -0700] \"GET / 1350.0\" 200 3185\n",
      "Invalid logline: local - [16/Dec/1994:11:19:04 -0700] \"GET /info/people.html 1350.0\" 200 593\n",
      "Invalid logline: local - [16/Dec/1994:11:19:07 -0700] \"GET /info/academic.html 1350.0\" 200 819\n",
      "Invalid logline: local - [16/Dec/1994:11:19:17 -0700] \"GET /~eberly/home.html 1350.0\" 200 167\n",
      "Invalid logline: local - [16/Dec/1994:11:19:48 -0700] \"GET /info/research_brochure/meet_the_faculty.html 1350.0\" 200 1268\n",
      "Invalid logline: local - [16/Dec/1994:11:19:55 -0700] \"GET /info/research_brochure/bshouty.html 1350.0\" 200 1469\n",
      "Invalid logline: local - [16/Dec/1994:11:20:03 -0700] \"GET /info/research_brochure/bshouty.gif 1350.0\" 200 17188\n",
      "Invalid logline: remote HTTP/1.0\" 404 -   index.html\n",
      "Read 1652 lines, successfully parsed 1419 lines, failed to parse 233 lines\n"
     ]
    }
   ],
   "source": [
    "def parseHELine(logline):\n",
    "    \"\"\" Parse a \"host-request\" line in the format like 'local index.html'\n",
    "    Inputs:\n",
    "        logline (str): a line of text \n",
    "    Outputs:\n",
    "        tuple: either a dictionary containing (host, endpoint) and 1,\n",
    "               or the original invalid log line and 0\n",
    "    \"\"\"\n",
    "    match = re.search(r'^(\\S+)\\s+(\\S+)$', logline)\n",
    "    if match is None:\n",
    "        return (logline, 0)\n",
    "    return (Row(\n",
    "        host          = match.group(1),\n",
    "        request      = match.group(2)\n",
    "    ), 1)\n",
    "\n",
    "parsedLogsRDD3 = failedLogsRDD2.map(parseHELine).cache()\n",
    "accessLogsRDD3, failedLogsRDD3 = access_fail_logs(parsedLogsRDD3)"
   ]
  },
  {
   "cell_type": "markdown",
   "metadata": {},
   "source": [
    "We found several nicely looking lines with \"1350.0\" at the protocol field. They are probably referring to the \"TCP Port 1350\". In this case we shoud go back to the protocol-specification step and change the pattern accordingly. As to the other lines, we decide to discard them."
   ]
  },
  {
   "cell_type": "markdown",
   "metadata": {},
   "source": [
    "### Going to final production code\n",
    "\n",
    "So, let us go back and redefine all steps starting from protocol identification"
   ]
  },
  {
   "cell_type": "code",
   "execution_count": 14,
   "metadata": {
    "collapsed": false
   },
   "outputs": [
    {
     "name": "stdout",
     "output_type": "stream",
     "text": [
      "Number of invalid logline: 3472\n",
      "Invalid logline: local 780     index.html\n",
      "Invalid logline: local      index.html\n",
      "Invalid logline: remote - - [24/Oct/1994:17:18:19 -0600] \"GET 155.gif\" 200 2555\n",
      "Invalid logline: remote - - [24/Oct/1994:17:18:55 -0600] \"GET 156.gif\" 200 36403\n",
      "Invalid logline: remote - - [24/Oct/1994:17:19:02 -0600] \"GET 157.gif\" 200 441\n",
      "Invalid logline: local      index.html\n",
      "Invalid logline: remote - - [27/Oct/1994:18:51:50 -0600] \"GET index.html 200 3185\n",
      "Invalid logline: remote - - [27/Oct/1994:23:17:17 -0600] \"GET index.html 200 3185\n",
      "Invalid logline: local - - [28/Oct/1994:00:23:22 -0600] \"GET 619.html\" 404 -\n",
      "Invalid logline: local - - [28/Oct/1994:00:24:32 -0600] \"GET 620.html\" 404 -\n",
      "Invalid logline: local - - [28/Oct/1994:00:25:18 -0600] \"GET index.html 200 514\n",
      "Invalid logline: local - - [28/Oct/1994:00:25:19 -0600] \"GET 621.gif\" 200 541\n",
      "Invalid logline: local - - [28/Oct/1994:00:25:32 -0600] \"GET 622.html\" 200 1811\n",
      "Invalid logline: local - - [28/Oct/1994:09:07:50 -0600] \"GET\" index.html -\n",
      "Invalid logline: local - - [28/Oct/1994:09:08:28 -0600] \"GET index.html 302 -\n",
      "Invalid logline: local - - [28/Oct/1994:09:09:35 -0600] \"GET index.html 200 3185\n",
      "Invalid logline: local - - [28/Oct/1994:09:10:21 -0600] \"GET 628.html\" 200 1530\n",
      "Invalid logline: local - - [28/Oct/1994:09:10:55 -0600] \"GET 629.html\" 404 -\n",
      "Invalid logline: local      index.html\n",
      "Invalid logline: remote - - [29/Oct/1994:12:37:21 -0600] \"GET 746.html\" 200 2830\n",
      "Read 726739 lines, successfully parsed 723267 lines, failed to parse 3472 lines\n",
      "Methods are [u'GET', u'HEAD', u'POST']\n",
      "Response codes are [200, 302, 304, 400, 401, 403, 404, 500, 501]\n",
      "Protocols are [u'1350', u'HTTP']\n"
     ]
    }
   ],
   "source": [
    "# This was originally  APACHE_ACCESS_LOG_PATTERN = r'^(\\S+) (\\S+) (\\S+) \\[([\\w:/]+\\s[+\\-]\\d{4})\\] \"(\\S+) (\\S+.*) (\\S+[Tt][Pp]\\S*)\" (\\d{3}) (\\S+)$'\n",
    "APACHE_ACCESS_LOG_PATTERN =  r'^(\\S+) (\\S+) (\\S*)\\s*\\[([\\w:/]+\\s[+\\-]\\d{4})\\] \"(\\S+) (\\S+.*) (HTTP|1350)\\S*\" (\\d{3}) (\\S+)$'\n",
    "parsedLogsRDD1 = logFileRDD.map(parseApacheLogLine).cache()\n",
    "accessLogsRDD1, failedLogsRDD1 = access_fail_logs(parsedLogsRDD1)\n",
    "distinct_methods_responsecodes_protocols(accessLogsRDD1)"
   ]
  },
  {
   "cell_type": "markdown",
   "metadata": {},
   "source": [
    "Now parsing records without protocol information"
   ]
  },
  {
   "cell_type": "code",
   "execution_count": 15,
   "metadata": {
    "collapsed": false
   },
   "outputs": [
    {
     "name": "stdout",
     "output_type": "stream",
     "text": [
      "Number of invalid logline: 1625\n",
      "Invalid logline: local 780     index.html\n",
      "Invalid logline: local      index.html\n",
      "Invalid logline: local      index.html\n",
      "Invalid logline: local - - [28/Oct/1994:09:07:50 -0600] \"GET\" index.html -\n",
      "Invalid logline: local      index.html\n",
      "Invalid logline: local      index.html\n",
      "Invalid logline: local      index.html\n",
      "Invalid logline: local      index.html\n",
      "Invalid logline: local      index.html\n",
      "Invalid logline: remote 200 329    index.html\n",
      "Invalid logline: local      index.html\n",
      "Invalid logline: local      index.html\n",
      "Invalid logline: local      index.html\n",
      "Invalid logline: local      index.html\n",
      "Invalid logline: local      index.html\n",
      "Invalid logline: local      index.html\n",
      "Invalid logline: local      index.html\n",
      "Invalid logline: local 579     index.html\n",
      "Invalid logline: local      index.html\n",
      "Invalid logline: local      index.html\n",
      "Read 3472 lines, successfully parsed 1847 lines, failed to parse 1625 lines\n",
      "Methods are [u'GET', u'HEAD', u'get']\n",
      "Response codes are [200, 302, 400, 404]\n",
      "Protocols are [u'']\n"
     ]
    }
   ],
   "source": [
    "APACHE_ACCESS_LOG_PATTERN = r'^(\\S+) (\\S+) (\\S+) \\[([\\w:/]+\\s[+\\-]\\d{4})\\] \"(\\S+) (\\S+.*)\\s*(\\S*)\"* (\\d{3}) (\\S+)$'\n",
    "parsedLogsRDD2 = failedLogsRDD1.map(parseApacheLogLine).cache()\n",
    "accessLogsRDD2, failedLogsRDD2 = access_fail_logs(parsedLogsRDD2)\n",
    "distinct_methods_responsecodes_protocols(accessLogsRDD2)"
   ]
  },
  {
   "cell_type": "markdown",
   "metadata": {},
   "source": [
    "Final check what is left after removing \"local index.html\"-type lines"
   ]
  },
  {
   "cell_type": "code",
   "execution_count": 16,
   "metadata": {
    "collapsed": false
   },
   "outputs": [
    {
     "name": "stdout",
     "output_type": "stream",
     "text": [
      "Number of invalid logline: 206\n",
      "Invalid logline: local 780     index.html\n",
      "Invalid logline: local - - [28/Oct/1994:09:07:50 -0600] \"GET\" index.html -\n",
      "Invalid logline: remote 200 329    index.html\n",
      "Invalid logline: local 579     index.html\n",
      "Invalid logline: remote 302 -    index.html\n",
      "Invalid logline: remote 304 0    index.html\n",
      "Invalid logline: remote HTTP/1.0\" 200 55124   index.html\n",
      "Invalid logline: local HTTP/1.0\" 302 -   index.html\n",
      "Invalid logline: remote HTTP/1.0\" 200 506   index.html\n",
      "Invalid logline: local HTTP/1.0\" 200 9154   index.html\n",
      "Invalid logline: remote 200 1619    index.html\n",
      "Invalid logline: local HTTP/1.0\" 200 732   index.html\n",
      "Invalid logline: remote HTTP/1.0\" 404 -   index.html\n",
      "Invalid logline: remote 200 3207    index.html\n",
      "Invalid logline: local 8192     index.html\n",
      "Invalid logline: remote 302 -    index.html\n",
      "Invalid logline: local 530     index.html\n",
      "Invalid logline: remote HTTP/1.0\" 200 2227   index.html\n",
      "Invalid logline: local 26048     index.html\n",
      "Invalid logline: remote HTTP/1.0\" 200 1268   index.html\n",
      "Read 1625 lines, successfully parsed 1419 lines, failed to parse 206 lines\n"
     ]
    }
   ],
   "source": [
    "parsedLogsRDD3 = failedLogsRDD2.map(parseHELine).cache()\n",
    "accessLogsRDD3, failedLogsRDD3 = access_fail_logs(parsedLogsRDD3)"
   ]
  },
  {
   "cell_type": "markdown",
   "metadata": {},
   "source": [
    "To summarize: out of 726739 log-lines, 723267 are parsed with protocol info, 1847 are parsed without protocol info, 1625-206=1419 are of the \"local index.html\"-type, and 206 lines (like those 20 above) are left unparsed."
   ]
  },
  {
   "cell_type": "markdown",
   "metadata": {},
   "source": [
    "# 2. Exploratory Data Analysis and Visualizations\n",
    "\n",
    "After we processes data , we can merge two access RDDs."
   ]
  },
  {
   "cell_type": "code",
   "execution_count": 17,
   "metadata": {
    "collapsed": true
   },
   "outputs": [],
   "source": [
    "accessLogsRDD = accessLogsRDD1.union(accessLogsRDD2).cache()"
   ]
  },
  {
   "cell_type": "markdown",
   "metadata": {},
   "source": [
    "#### Time Series\n",
    "\n",
    "Let us have a look at the time series for number of requests per day. As the first step, we want curves separately for response codes \"ok\", \"not Found\" and all other codes collected under \"others\". We aggregate the data and collect them to pandas DataFrame."
   ]
  },
  {
   "cell_type": "code",
   "execution_count": 18,
   "metadata": {
    "collapsed": true
   },
   "outputs": [],
   "source": [
    "requestsPerDayRDD = accessLogsRDD.map(lambda log: (log.date_time.date(), log.response_code)).cache()\n",
    "#print requestsPerDayRDD.take(3)\n",
    "import pandas as pd\n",
    "requestsPerDayRDD = (accessLogsRDD\n",
    "                     .map(lambda log: (log.date_time.date(), log.response_code))\n",
    "                     .combineByKey(lambda v: (1, int(v==200), int(v==404)),\n",
    "                                   lambda x,v: (x[0]+1, x[1]+int(v==200), x[2]+int(v==404)),\n",
    "                                   lambda x,y: (x[0]+y[0], x[1]+y[1], x[2]+y[2]))\n",
    "                     .map(lambda (k,v): (k, v[0], v[1], v[2]))\n",
    "                     .cache()) # date,code pair\n",
    "#print requestsPerDayRDD.take(4)"
   ]
  },
  {
   "cell_type": "markdown",
   "metadata": {},
   "source": [
    "Collecting columns brings a part of RDD to the driver node (fetch to a single machine). Therefore the collected data should fit in memory of the driver\n"
   ]
  },
  {
   "cell_type": "code",
   "execution_count": 19,
   "metadata": {
    "collapsed": false
   },
   "outputs": [
    {
     "name": "stdout",
     "output_type": "stream",
     "text": [
      "Number of requests per day\n"
     ]
    },
    {
     "data": {
      "text/html": [
       "<div>\n",
       "<table border=\"1\" class=\"dataframe\">\n",
       "  <thead>\n",
       "    <tr style=\"text-align: right;\">\n",
       "      <th></th>\n",
       "      <th>all</th>\n",
       "      <th>ok</th>\n",
       "      <th>notFound</th>\n",
       "      <th>others</th>\n",
       "    </tr>\n",
       "    <tr>\n",
       "      <th>date</th>\n",
       "      <th></th>\n",
       "      <th></th>\n",
       "      <th></th>\n",
       "      <th></th>\n",
       "    </tr>\n",
       "  </thead>\n",
       "  <tbody>\n",
       "    <tr>\n",
       "      <th>1994-10-24</th>\n",
       "      <td>705</td>\n",
       "      <td>660</td>\n",
       "      <td>20</td>\n",
       "      <td>25</td>\n",
       "    </tr>\n",
       "    <tr>\n",
       "      <th>1994-10-25</th>\n",
       "      <td>1194</td>\n",
       "      <td>1107</td>\n",
       "      <td>36</td>\n",
       "      <td>51</td>\n",
       "    </tr>\n",
       "    <tr>\n",
       "      <th>1994-10-26</th>\n",
       "      <td>1680</td>\n",
       "      <td>1431</td>\n",
       "      <td>144</td>\n",
       "      <td>105</td>\n",
       "    </tr>\n",
       "    <tr>\n",
       "      <th>1994-10-27</th>\n",
       "      <td>1889</td>\n",
       "      <td>1714</td>\n",
       "      <td>49</td>\n",
       "      <td>126</td>\n",
       "    </tr>\n",
       "    <tr>\n",
       "      <th>1994-10-28</th>\n",
       "      <td>1816</td>\n",
       "      <td>1632</td>\n",
       "      <td>56</td>\n",
       "      <td>128</td>\n",
       "    </tr>\n",
       "  </tbody>\n",
       "</table>\n",
       "</div>"
      ],
      "text/plain": [
       "             all    ok  notFound  others\n",
       "date                                    \n",
       "1994-10-24   705   660        20      25\n",
       "1994-10-25  1194  1107        36      51\n",
       "1994-10-26  1680  1431       144     105\n",
       "1994-10-27  1889  1714        49     126\n",
       "1994-10-28  1816  1632        56     128"
      ]
     },
     "execution_count": 19,
     "metadata": {},
     "output_type": "execute_result"
    }
   ],
   "source": [
    "requestsPerDay = pd.DataFrame(requestsPerDayRDD.collect(), columns=['date', 'all', 'ok', 'notFound'])\n",
    "requestsPerDay.set_index(keys='date', drop=True, inplace=True); requestsPerDay.sort_index(inplace=True)\n",
    "#requestsPerDay.sort_values(by=\"date\", inplace=True)\n",
    "requestsPerDay['others'] = requestsPerDay['all'] - requestsPerDay['notFound'] - requestsPerDay['ok']\n",
    "#requestsPerDay['date'] = requestsPerDay.index.format()\n",
    "print \"Number of requests per day\"\n",
    "requestsPerDay.head()"
   ]
  },
  {
   "cell_type": "code",
   "execution_count": 20,
   "metadata": {
    "collapsed": false
   },
   "outputs": [
    {
     "data": {
      "text/html": [
       "\n",
       "\n",
       "    <script type=\"text/javascript\">\n",
       "      \n",
       "      (function(global) {\n",
       "        function now() {\n",
       "          return new Date();\n",
       "        }\n",
       "      \n",
       "        if (typeof (window._bokeh_onload_callbacks) === \"undefined\") {\n",
       "          window._bokeh_onload_callbacks = [];\n",
       "        }\n",
       "      \n",
       "        function run_callbacks() {\n",
       "          window._bokeh_onload_callbacks.forEach(function(callback) { callback() });\n",
       "          delete window._bokeh_onload_callbacks\n",
       "          console.info(\"Bokeh: all callbacks have finished\");\n",
       "        }\n",
       "      \n",
       "        function load_libs(js_urls, callback) {\n",
       "          window._bokeh_onload_callbacks.push(callback);\n",
       "          if (window._bokeh_is_loading > 0) {\n",
       "            console.log(\"Bokeh: BokehJS is being loaded, scheduling callback at\", now());\n",
       "            return null;\n",
       "          }\n",
       "          if (js_urls == null || js_urls.length === 0) {\n",
       "            run_callbacks();\n",
       "            return null;\n",
       "          }\n",
       "          console.log(\"Bokeh: BokehJS not loaded, scheduling load and callback at\", now());\n",
       "          window._bokeh_is_loading = js_urls.length;\n",
       "          for (var i = 0; i < js_urls.length; i++) {\n",
       "            var url = js_urls[i];\n",
       "            var s = document.createElement('script');\n",
       "            s.src = url;\n",
       "            s.async = false;\n",
       "            s.onreadystatechange = s.onload = function() {\n",
       "              window._bokeh_is_loading--;\n",
       "              if (window._bokeh_is_loading === 0) {\n",
       "                console.log(\"Bokeh: all BokehJS libraries loaded\");\n",
       "                run_callbacks()\n",
       "              }\n",
       "            };\n",
       "            s.onerror = function() {\n",
       "              console.warn(\"failed to load library \" + url);\n",
       "            };\n",
       "            console.log(\"Bokeh: injecting script tag for BokehJS library: \", url);\n",
       "            document.getElementsByTagName(\"head\")[0].appendChild(s);\n",
       "          }\n",
       "        };var js_urls = ['https://cdn.pydata.org/bokeh/release/bokeh-0.11.0.min.js', 'https://cdn.pydata.org/bokeh/release/bokeh-widgets-0.11.0.min.js', 'https://cdn.pydata.org/bokeh/release/bokeh-compiler-0.11.0.min.js'];\n",
       "      \n",
       "        var inline_js = [\n",
       "          function(Bokeh) {\n",
       "            Bokeh.set_log_level(\"info\");\n",
       "          },\n",
       "          function(Bokeh) {\n",
       "            console.log(\"Bokeh: injecting CSS: https://cdn.pydata.org/bokeh/release/bokeh-0.11.0.min.css\");\n",
       "            Bokeh.embed.inject_css(\"https://cdn.pydata.org/bokeh/release/bokeh-0.11.0.min.css\");\n",
       "            console.log(\"Bokeh: injecting CSS: https://cdn.pydata.org/bokeh/release/bokeh-widgets-0.11.0.min.css\");\n",
       "            Bokeh.embed.inject_css(\"https://cdn.pydata.org/bokeh/release/bokeh-widgets-0.11.0.min.css\");\n",
       "          }\n",
       "        ];\n",
       "      \n",
       "        function run_inline_js() {\n",
       "          for (var i = 0; i < inline_js.length; i++) {\n",
       "            inline_js[i](window.Bokeh);\n",
       "          }\n",
       "        }\n",
       "      \n",
       "        if (window._bokeh_is_loading === 0) {\n",
       "          console.log(\"Bokeh: BokehJS loaded, going straight to plotting\");\n",
       "          run_inline_js();\n",
       "        } else {\n",
       "          load_libs(js_urls, function() {\n",
       "            console.log(\"Bokeh: BokehJS plotting callback run at\", now());\n",
       "            run_inline_js();\n",
       "          });\n",
       "        }\n",
       "      }(this));\n",
       "    </script>\n",
       "    <div>\n",
       "        <a href=\"http://bokeh.pydata.org\" target=\"_blank\" class=\"bk-logo bk-logo-small bk-logo-notebook\"></a>\n",
       "        <span>BokehJS successfully loaded.</span>\n",
       "    </div>"
      ]
     },
     "metadata": {},
     "output_type": "display_data"
    },
    {
     "data": {
      "text/html": [
       "\n",
       "\n",
       "    <div class=\"plotdiv\" id=\"3e675f7f-c18c-43be-9a56-035fba073621\"></div>\n",
       "<script type=\"text/javascript\">\n",
       "  \n",
       "  (function(global) {\n",
       "    function now() {\n",
       "      return new Date();\n",
       "    }\n",
       "  \n",
       "    if (typeof (window._bokeh_onload_callbacks) === \"undefined\") {\n",
       "      window._bokeh_onload_callbacks = [];\n",
       "    }\n",
       "  \n",
       "    function run_callbacks() {\n",
       "      window._bokeh_onload_callbacks.forEach(function(callback) { callback() });\n",
       "      delete window._bokeh_onload_callbacks\n",
       "      console.info(\"Bokeh: all callbacks have finished\");\n",
       "    }\n",
       "  \n",
       "    function load_libs(js_urls, callback) {\n",
       "      window._bokeh_onload_callbacks.push(callback);\n",
       "      if (window._bokeh_is_loading > 0) {\n",
       "        console.log(\"Bokeh: BokehJS is being loaded, scheduling callback at\", now());\n",
       "        return null;\n",
       "      }\n",
       "      if (js_urls == null || js_urls.length === 0) {\n",
       "        run_callbacks();\n",
       "        return null;\n",
       "      }\n",
       "      console.log(\"Bokeh: BokehJS not loaded, scheduling load and callback at\", now());\n",
       "      window._bokeh_is_loading = js_urls.length;\n",
       "      for (var i = 0; i < js_urls.length; i++) {\n",
       "        var url = js_urls[i];\n",
       "        var s = document.createElement('script');\n",
       "        s.src = url;\n",
       "        s.async = false;\n",
       "        s.onreadystatechange = s.onload = function() {\n",
       "          window._bokeh_is_loading--;\n",
       "          if (window._bokeh_is_loading === 0) {\n",
       "            console.log(\"Bokeh: all BokehJS libraries loaded\");\n",
       "            run_callbacks()\n",
       "          }\n",
       "        };\n",
       "        s.onerror = function() {\n",
       "          console.warn(\"failed to load library \" + url);\n",
       "        };\n",
       "        console.log(\"Bokeh: injecting script tag for BokehJS library: \", url);\n",
       "        document.getElementsByTagName(\"head\")[0].appendChild(s);\n",
       "      }\n",
       "    };var element = document.getElementById(\"3e675f7f-c18c-43be-9a56-035fba073621\");\n",
       "    if (element == null) {\n",
       "      console.log(\"Bokeh: ERROR: autoload.js configured with elementid '3e675f7f-c18c-43be-9a56-035fba073621' but no matching script tag was found. \")\n",
       "      return false;\n",
       "    }var js_urls = [];\n",
       "  \n",
       "    var inline_js = [\n",
       "      function(Bokeh) {\n",
       "        Bokeh.$(function() {\n",
       "            var docs_json = {\"73a3b3f4-bcf0-483c-b286-56ff294b5497\": {\"version\": \"0.11.0\", \"roots\": {\"root_ids\": [\"697fad15-f78d-41f5-885f-559cadf8c023\"], \"references\": [{\"attributes\": {\"plot\": {\"subtype\": \"Figure\", \"type\": \"Plot\", \"id\": \"697fad15-f78d-41f5-885f-559cadf8c023\"}, \"overlay\": {\"type\": \"BoxAnnotation\", \"id\": \"6adbfaca-a241-433f-b00e-d81b0fcb1e72\"}}, \"type\": \"BoxZoomTool\", \"id\": \"e07e17fb-5177-459a-b5cf-3e0c06f85f8d\"}, {\"attributes\": {\"line_color\": {\"value\": \"blue\"}, \"x\": {\"field\": \"date\"}, \"y\": {\"field\": \"all\"}}, \"type\": \"Line\", \"id\": \"325fe298-cef5-4d50-8c46-16d396cce267\"}, {\"attributes\": {\"nonselection_glyph\": {\"type\": \"Line\", \"id\": \"99ac3698-3d9c-4785-b746-642a7324ed9a\"}, \"data_source\": {\"type\": \"ColumnDataSource\", \"id\": \"c901bc38-f802-42a9-9c0b-fa9058d54cec\"}, \"selection_glyph\": null, \"hover_glyph\": null, \"glyph\": {\"type\": \"Line\", \"id\": \"325fe298-cef5-4d50-8c46-16d396cce267\"}}, \"type\": \"GlyphRenderer\", \"id\": \"132476fa-a318-49eb-908d-f309619958c0\"}, {\"attributes\": {\"line_color\": {\"value\": \"#1f77b4\"}, \"line_alpha\": {\"value\": 0.1}, \"y\": {\"field\": \"notFound\"}, \"x\": {\"field\": \"date\"}}, \"type\": \"Line\", \"id\": \"4c7f104c-f208-4d85-b23f-2e24681c1e02\"}, {\"attributes\": {\"plot\": {\"subtype\": \"Figure\", \"type\": \"Plot\", \"id\": \"697fad15-f78d-41f5-885f-559cadf8c023\"}, \"ticker\": {\"type\": \"DatetimeTicker\", \"id\": \"4896287e-b17c-4229-bc7c-cf36df47267f\"}}, \"type\": \"Grid\", \"id\": \"20e67809-839e-4ad8-b2e3-bbfb68b9824d\"}, {\"attributes\": {\"plot\": {\"subtype\": \"Figure\", \"type\": \"Plot\", \"id\": \"697fad15-f78d-41f5-885f-559cadf8c023\"}}, \"type\": \"ResetTool\", \"id\": \"c7f991c6-348c-4f10-aeda-e3722362ee28\"}, {\"attributes\": {\"line_color\": {\"value\": \"#1f77b4\"}, \"line_alpha\": {\"value\": 0.1}, \"y\": {\"field\": \"others\"}, \"x\": {\"field\": \"date\"}}, \"type\": \"Line\", \"id\": \"a5090fb4-fab2-46dd-954f-f072e95992b0\"}, {\"attributes\": {}, \"type\": \"ToolEvents\", \"id\": \"bc05d0d9-1e61-452d-96b4-3d52ea8fbdcc\"}, {\"attributes\": {\"days\": [1, 4, 7, 10, 13, 16, 19, 22, 25, 28]}, \"type\": \"DaysTicker\", \"id\": \"0391fece-3ff3-4497-8940-7e1dade41785\"}, {\"attributes\": {\"callback\": null}, \"type\": \"DataRange1d\", \"id\": \"e1139bb4-bcc6-4e72-be99-d06e8b9e2908\"}, {\"attributes\": {\"tooltips\": [[\"date\", \"@textDate\"], [\"all\", \"@all\"], [\"ok\", \"@ok\"], [\"notFound\", \"@notFound\"], [\"others\", \"@others\"]], \"callback\": null, \"plot\": {\"subtype\": \"Figure\", \"type\": \"Plot\", \"id\": \"697fad15-f78d-41f5-885f-559cadf8c023\"}}, \"type\": \"HoverTool\", \"id\": \"d3f1ec27-f1f5-4155-aa7b-a36d6b88741e\"}, {\"attributes\": {}, \"type\": \"DatetimeTickFormatter\", \"id\": \"2cb30ba7-57f3-4a98-a024-4dbc645d27d8\"}, {\"attributes\": {\"callback\": null, \"end\": 813369600000.0, \"start\": 782956800000.0}, \"type\": \"Range1d\", \"id\": \"cbb646aa-fa3d-4f46-83ca-04216582bd4a\"}, {\"attributes\": {\"plot\": {\"subtype\": \"Figure\", \"type\": \"Plot\", \"id\": \"697fad15-f78d-41f5-885f-559cadf8c023\"}, \"axis_label\": \"date\", \"formatter\": {\"type\": \"DatetimeTickFormatter\", \"id\": \"2cb30ba7-57f3-4a98-a024-4dbc645d27d8\"}, \"ticker\": {\"type\": \"DatetimeTicker\", \"id\": \"4896287e-b17c-4229-bc7c-cf36df47267f\"}}, \"type\": \"DatetimeAxis\", \"id\": \"67e8e13f-933d-460c-8e97-7a363919fdb9\"}, {\"attributes\": {\"line_color\": {\"value\": \"#1f77b4\"}, \"line_alpha\": {\"value\": 0.1}, \"y\": {\"field\": \"ok\"}, \"x\": {\"field\": \"date\"}}, \"type\": \"Line\", \"id\": \"0e74c916-191d-4fa0-bc5b-8ff5d302d4da\"}, {\"attributes\": {\"max_interval\": 500.0, \"num_minor_ticks\": 0}, \"type\": \"AdaptiveTicker\", \"id\": \"e3a7a87e-09b9-40b3-a1c9-0c90ed76047e\"}, {\"attributes\": {\"plot\": {\"subtype\": \"Figure\", \"type\": \"Plot\", \"id\": \"697fad15-f78d-41f5-885f-559cadf8c023\"}}, \"type\": \"PreviewSaveTool\", \"id\": \"30fd0b07-4a08-4cc0-8696-d7575fccd158\"}, {\"attributes\": {\"nonselection_glyph\": {\"type\": \"Line\", \"id\": \"0e74c916-191d-4fa0-bc5b-8ff5d302d4da\"}, \"data_source\": {\"type\": \"ColumnDataSource\", \"id\": \"c901bc38-f802-42a9-9c0b-fa9058d54cec\"}, \"selection_glyph\": null, \"hover_glyph\": null, \"glyph\": {\"type\": \"Line\", \"id\": \"7de48fa3-d669-43db-b190-b034e4c330f6\"}}, \"type\": \"GlyphRenderer\", \"id\": \"afb6cf73-1989-483f-874d-d6e81dd8abeb\"}, {\"attributes\": {\"months\": [0, 2, 4, 6, 8, 10]}, \"type\": \"MonthsTicker\", \"id\": \"d90c5217-5049-4096-b314-661405ba55a5\"}, {\"attributes\": {}, \"type\": \"BasicTickFormatter\", \"id\": \"e730ab6f-d919-4fee-bb10-a6d11c11e677\"}, {\"attributes\": {}, \"type\": \"BasicTicker\", \"id\": \"df7ca083-d9f1-4ce5-9dea-86af735d8328\"}, {\"attributes\": {\"min_interval\": 1000.0, \"mantissas\": [1, 2, 5, 10, 15, 20, 30], \"base\": 60, \"max_interval\": 1800000.0, \"num_minor_ticks\": 0}, \"type\": \"AdaptiveTicker\", \"id\": \"6a35a662-5b3b-4622-b657-ec950a8e8085\"}, {\"attributes\": {\"line_color\": {\"value\": \"red\"}, \"x\": {\"field\": \"date\"}, \"y\": {\"field\": \"notFound\"}}, \"type\": \"Line\", \"id\": \"a51a2248-aeb7-48e1-a71e-ce0934c44459\"}, {\"attributes\": {}, \"type\": \"YearsTicker\", \"id\": \"2271a059-2ad9-447b-af96-74ed313c2b0d\"}, {\"attributes\": {\"line_color\": {\"value\": \"black\"}, \"line_alpha\": {\"value\": 1.0}, \"render_mode\": \"css\", \"bottom_units\": \"screen\", \"level\": \"overlay\", \"top_units\": \"screen\", \"fill_alpha\": {\"value\": 0.5}, \"plot\": null, \"left_units\": \"screen\", \"line_dash\": [4, 4], \"line_width\": {\"value\": 2}, \"right_units\": \"screen\", \"fill_color\": {\"value\": \"lightgrey\"}}, \"type\": \"BoxAnnotation\", \"id\": \"6adbfaca-a241-433f-b00e-d81b0fcb1e72\"}, {\"attributes\": {\"months\": [0, 4, 8]}, \"type\": \"MonthsTicker\", \"id\": \"f4c30dce-6dca-46c1-aa3e-981e0cd322b4\"}, {\"attributes\": {\"x_range\": {\"type\": \"Range1d\", \"id\": \"cbb646aa-fa3d-4f46-83ca-04216582bd4a\"}, \"title\": \"Number of requests with various response codes over time\", \"y_range\": {\"type\": \"DataRange1d\", \"id\": \"e1139bb4-bcc6-4e72-be99-d06e8b9e2908\"}, \"renderers\": [{\"type\": \"DatetimeAxis\", \"id\": \"67e8e13f-933d-460c-8e97-7a363919fdb9\"}, {\"type\": \"Grid\", \"id\": \"20e67809-839e-4ad8-b2e3-bbfb68b9824d\"}, {\"type\": \"LinearAxis\", \"id\": \"1f50bc01-9197-4200-bb25-ad9560a82c42\"}, {\"type\": \"Grid\", \"id\": \"84a6f820-4318-48c3-826d-d1fa64ab2d54\"}, {\"type\": \"BoxAnnotation\", \"id\": \"6adbfaca-a241-433f-b00e-d81b0fcb1e72\"}, {\"type\": \"Legend\", \"id\": \"2b08f16e-5919-4214-b740-b2cd8c081a3f\"}, {\"type\": \"GlyphRenderer\", \"id\": \"132476fa-a318-49eb-908d-f309619958c0\"}, {\"type\": \"GlyphRenderer\", \"id\": \"afb6cf73-1989-483f-874d-d6e81dd8abeb\"}, {\"type\": \"GlyphRenderer\", \"id\": \"ecf714ae-f7ce-4af5-8ce8-f14cbc7ff296\"}, {\"type\": \"GlyphRenderer\", \"id\": \"267e8a43-7dec-41b2-8a3b-11085027f03e\"}], \"plot_width\": 1000, \"below\": [{\"type\": \"DatetimeAxis\", \"id\": \"67e8e13f-933d-460c-8e97-7a363919fdb9\"}], \"tool_events\": {\"type\": \"ToolEvents\", \"id\": \"bc05d0d9-1e61-452d-96b4-3d52ea8fbdcc\"}, \"plot_height\": 400, \"tools\": [{\"type\": \"ResetTool\", \"id\": \"c7f991c6-348c-4f10-aeda-e3722362ee28\"}, {\"type\": \"BoxZoomTool\", \"id\": \"e07e17fb-5177-459a-b5cf-3e0c06f85f8d\"}, {\"type\": \"PreviewSaveTool\", \"id\": \"30fd0b07-4a08-4cc0-8696-d7575fccd158\"}, {\"type\": \"HoverTool\", \"id\": \"d3f1ec27-f1f5-4155-aa7b-a36d6b88741e\"}], \"left\": [{\"type\": \"LinearAxis\", \"id\": \"1f50bc01-9197-4200-bb25-ad9560a82c42\"}]}, \"type\": \"Plot\", \"id\": \"697fad15-f78d-41f5-885f-559cadf8c023\", \"subtype\": \"Figure\"}, {\"attributes\": {\"callback\": null, \"column_names\": [\"notFound\", \"all\", \"ok\", \"textDate\", \"others\", \"date\"], \"data\": {\"notFound\": [20, 36, 144, 49, 56, 33, 11, 38, 45, 53, 94, 43, 16, 15, 28, 16, 31, 35, 13, 11, 26, 56, 39, 130, 40, 33, 29, 26, 22, 19, 47, 37, 25, 8, 14, 47, 32, 78, 19, 21, 23, 18, 96, 16, 23, 25, 34, 8, 22, 44, 282, 121, 26, 29, 42, 35, 94, 30, 46, 30, 11, 5, 11, 12, 25, 16, 11, 10, 8, 5, 14, 48, 12, 120, 22, 1, 8, 42, 39, 27, 108, 41, 14, 48, 132, 100, 27, 71, 41, 12, 35, 76, 36, 22, 44, 30, 27, 44, 145, 72, 119, 71, 160, 67, 54, 103, 76, 96, 124, 75, 25, 71, 127, 70, 73, 109, 86, 46, 42, 19, 79, 90, 59, 19, 37, 34, 43, 54, 43, 46, 23, 36, 49, 61, 122, 57, 149, 163, 28, 20, 125, 106, 45, 38, 89, 23, 57, 76, 129, 118, 89, 84, 57, 85, 115, 200, 238, 239, 308, 55, 50, 138, 148, 190, 85, 263, 91, 97, 85, 71, 82, 105, 22, 35, 44, 115, 62, 67, 78, 89, 28, 20, 43, 38, 269, 76, 40, 37, 20, 49, 49, 33, 54, 52, 66, 47, 21, 51, 59, 96, 62, 31, 37, 97, 88, 41, 93, 38, 33, 30, 62, 86, 65, 83, 51, 31, 32, 45, 80, 71, 47, 68, 71, 53, 57, 63, 41, 55, 58, 25, 20, 32, 42, 75, 60, 22, 27, 14, 63, 47, 60, 71, 54, 50, 25, 64, 68, 91, 44, 44, 61, 71, 54, 96, 52, 68, 47, 28, 20, 75, 56, 109, 211, 57, 39, 44, 132, 38, 70, 79, 74, 75, 144, 83, 92, 65, 94, 223, 22, 81, 73, 126, 148, 64, 79, 106, 33, 62, 140, 121, 40, 23, 30, 32, 128, 80, 144, 46, 47, 32, 47, 76, 66, 72, 66, 55, 45, 49, 80, 52, 106, 39, 26, 17, 16, 14, 21, 40, 67, 78, 39, 86, 117, 104, 142, 142, 165, 85, 69, 318, 211, 138, 138, 117, 67, 51, 86, 129, 102, 142, 116, 78, 80, 155, 78, 117, 100, 109, 37, 110, 69, 101, 74], \"all\": [705, 1194, 1680, 1889, 1816, 898, 902, 2083, 1886, 2106, 2112, 1775, 568, 582, 1564, 1260, 1376, 1216, 710, 487, 613, 1330, 1207, 2142, 2266, 1266, 648, 784, 1777, 1753, 1520, 1675, 1349, 681, 588, 1660, 2237, 2113, 992, 1324, 712, 591, 1790, 1378, 1524, 1467, 1413, 489, 603, 1708, 1804, 1265, 1149, 1071, 1143, 1102, 1840, 1249, 1118, 908, 457, 123, 387, 280, 513, 465, 301, 336, 301, 251, 491, 1016, 885, 1104, 587, 346, 450, 1345, 1665, 1346, 1830, 1680, 481, 760, 1958, 1488, 1670, 2306, 1958, 624, 788, 1566, 2237, 1923, 2230, 2005, 1339, 1268, 2825, 3244, 2722, 2845, 2531, 2707, 1930, 3589, 5216, 4409, 5025, 2972, 1003, 1938, 3212, 3393, 3531, 2598, 2133, 1676, 1158, 1555, 1870, 2786, 2445, 1824, 1525, 1267, 2057, 2197, 2153, 2097, 1649, 1414, 1623, 2892, 3139, 2682, 2968, 3373, 1505, 1616, 3964, 4471, 4293, 3686, 1968, 1485, 1345, 4787, 6616, 4169, 4885, 2046, 2435, 2160, 4519, 5376, 6353, 4627, 3463, 1652, 1446, 2915, 3131, 3486, 3523, 4016, 2286, 2501, 3396, 3483, 3867, 2338, 1188, 1029, 1180, 1507, 1703, 2306, 2055, 2229, 1665, 966, 1433, 1545, 2337, 1941, 2006, 1055, 822, 1511, 2078, 2426, 2320, 2402, 3307, 2300, 2268, 3318, 2836, 2400, 1654, 900, 1092, 1787, 1729, 1949, 2274, 2270, 1114, 2505, 2923, 2669, 2159, 3330, 2159, 805, 582, 1271, 1642, 1795, 1944, 1734, 999, 1117, 1734, 2378, 1715, 2061, 1670, 1028, 866, 1801, 1832, 2463, 1841, 1797, 1339, 991, 2815, 2022, 2555, 2369, 1988, 984, 1625, 2245, 2197, 2187, 1819, 1604, 810, 1221, 1740, 2580, 1955, 1747, 1285, 829, 758, 1743, 2215, 1830, 1877, 1818, 1028, 935, 2181, 1740, 1906, 1853, 2070, 1290, 1636, 2185, 2916, 2440, 2468, 2657, 1291, 1559, 2378, 2479, 3138, 2666, 2828, 1714, 1541, 1851, 2796, 2795, 2657, 1995, 1178, 1758, 2804, 2115, 2267, 2175, 2053, 991, 1374, 2219, 2374, 2774, 2318, 2260, 1256, 1242, 2207, 1937, 2297, 2018, 1191, 1019, 654, 1065, 1171, 1749, 2382, 3208, 1602, 1613, 3543, 3287, 4746, 3963, 3764, 1883, 2021, 3494, 4079, 4524, 5471, 3381, 2897, 2853, 4358, 4894, 4153, 4004, 3822, 2304, 2174, 4594, 3818, 3968, 3718, 3853, 1548, 2022, 2814, 3708, 2522], \"ok\": [660, 1107, 1431, 1714, 1632, 823, 825, 1925, 1746, 1901, 1889, 1633, 494, 527, 1441, 1175, 1267, 1110, 654, 437, 526, 1124, 1088, 1846, 1910, 1135, 573, 712, 1567, 1425, 1317, 1345, 1148, 650, 534, 1467, 1968, 1760, 910, 1229, 661, 543, 1362, 1262, 1353, 1330, 1202, 422, 554, 1457, 1312, 952, 971, 941, 972, 905, 1276, 1097, 987, 743, 408, 110, 229, 258, 454, 393, 262, 300, 278, 210, 456, 875, 798, 842, 517, 304, 388, 1131, 1351, 1106, 1591, 1262, 425, 609, 1478, 1186, 1396, 2015, 1696, 538, 638, 1204, 1938, 1669, 1983, 1726, 1196, 1082, 2273, 2741, 2315, 2503, 1986, 2393, 1709, 2979, 4431, 3552, 4228, 2408, 848, 1359, 2280, 2783, 2714, 2017, 1586, 1383, 902, 1289, 1456, 2315, 1987, 1554, 1219, 1099, 1670, 1745, 1712, 1733, 1371, 1029, 1351, 2386, 2504, 2246, 2280, 2651, 1282, 1384, 3330, 3659, 3657, 2979, 1439, 1147, 986, 3999, 5561, 3523, 3956, 1385, 1949, 1680, 3270, 3369, 4049, 3183, 2704, 1072, 1128, 2145, 2177, 2710, 3014, 2541, 1604, 1827, 2674, 2711, 2627, 1652, 1012, 883, 930, 1116, 1379, 1926, 1576, 1708, 1054, 779, 1228, 1299, 1287, 1485, 1575, 904, 709, 1183, 1667, 1721, 1846, 1820, 1278, 1684, 1640, 2501, 1965, 1668, 1327, 658, 633, 1442, 1339, 1492, 1359, 1349, 706, 862, 1383, 1718, 1251, 1332, 1024, 636, 471, 1016, 1229, 1492, 1407, 1403, 845, 914, 1421, 1764, 1426, 1614, 1370, 878, 761, 1422, 1550, 1791, 1367, 1426, 1027, 817, 1820, 1639, 1808, 1650, 1586, 699, 1304, 1727, 1665, 1690, 1490, 1233, 621, 964, 1372, 2067, 1635, 1452, 1082, 670, 544, 1396, 1812, 1385, 1461, 1363, 778, 646, 1637, 1316, 1517, 1526, 1697, 990, 1180, 1609, 2204, 1958, 1703, 1773, 1087, 1153, 2056, 2092, 2443, 2242, 2395, 1422, 1276, 1535, 2158, 2319, 2202, 1752, 898, 1375, 1981, 1796, 1881, 1866, 1751, 886, 1160, 1882, 2019, 2358, 2042, 2062, 1174, 1114, 1918, 1675, 1895, 1713, 1038, 906, 567, 939, 1001, 1466, 1955, 2645, 1309, 1312, 2755, 2779, 3581, 2736, 2866, 1555, 1564, 2438, 3003, 3265, 3417, 2472, 2143, 2029, 3336, 3728, 2912, 3046, 2942, 1714, 1690, 3488, 2927, 2995, 2723, 3086, 972, 1509, 2324, 2944, 1844], \"textDate\": [\"1994-10-24\", \"1994-10-25\", \"1994-10-26\", \"1994-10-27\", \"1994-10-28\", \"1994-10-29\", \"1994-10-30\", \"1994-10-31\", \"1994-11-01\", \"1994-11-02\", \"1994-11-03\", \"1994-11-04\", \"1994-11-05\", \"1994-11-06\", \"1994-11-07\", \"1994-11-08\", \"1994-11-09\", \"1994-11-10\", \"1994-11-11\", \"1994-11-12\", \"1994-11-13\", \"1994-11-14\", \"1994-11-15\", \"1994-11-16\", \"1994-11-17\", \"1994-11-18\", \"1994-11-19\", \"1994-11-20\", \"1994-11-21\", \"1994-11-22\", \"1994-11-23\", \"1994-11-24\", \"1994-11-25\", \"1994-11-26\", \"1994-11-27\", \"1994-11-28\", \"1994-11-29\", \"1994-11-30\", \"1994-12-01\", \"1994-12-02\", \"1994-12-03\", \"1994-12-04\", \"1994-12-05\", \"1994-12-06\", \"1994-12-07\", \"1994-12-08\", \"1994-12-09\", \"1994-12-10\", \"1994-12-11\", \"1994-12-12\", \"1994-12-13\", \"1994-12-14\", \"1994-12-15\", \"1994-12-16\", \"1994-12-17\", \"1994-12-18\", \"1994-12-19\", \"1994-12-20\", \"1994-12-21\", \"1994-12-22\", \"1994-12-23\", \"1994-12-24\", \"1994-12-25\", \"1994-12-26\", \"1994-12-27\", \"1994-12-28\", \"1994-12-29\", \"1994-12-30\", \"1994-12-31\", \"1995-01-01\", \"1995-01-02\", \"1995-01-03\", \"1995-01-04\", \"1995-01-05\", \"1995-01-06\", \"1995-01-07\", \"1995-01-08\", \"1995-01-09\", \"1995-01-10\", \"1995-01-11\", \"1995-01-12\", \"1995-01-13\", \"1995-01-14\", \"1995-01-15\", \"1995-01-16\", \"1995-01-17\", \"1995-01-18\", \"1995-01-19\", \"1995-01-20\", \"1995-01-21\", \"1995-01-22\", \"1995-01-23\", \"1995-01-24\", \"1995-01-25\", \"1995-01-26\", \"1995-01-27\", \"1995-01-28\", \"1995-01-29\", \"1995-01-30\", \"1995-01-31\", \"1995-02-01\", \"1995-02-02\", \"1995-02-03\", \"1995-02-04\", \"1995-02-05\", \"1995-02-06\", \"1995-02-07\", \"1995-02-08\", \"1995-02-09\", \"1995-02-10\", \"1995-02-11\", \"1995-02-12\", \"1995-02-13\", \"1995-02-14\", \"1995-02-15\", \"1995-02-16\", \"1995-02-17\", \"1995-02-18\", \"1995-02-19\", \"1995-02-20\", \"1995-02-21\", \"1995-02-22\", \"1995-02-23\", \"1995-02-24\", \"1995-02-25\", \"1995-02-26\", \"1995-02-27\", \"1995-02-28\", \"1995-03-01\", \"1995-03-02\", \"1995-03-03\", \"1995-03-04\", \"1995-03-05\", \"1995-03-06\", \"1995-03-07\", \"1995-03-08\", \"1995-03-09\", \"1995-03-10\", \"1995-03-11\", \"1995-03-12\", \"1995-03-13\", \"1995-03-14\", \"1995-03-15\", \"1995-03-16\", \"1995-03-17\", \"1995-03-18\", \"1995-03-19\", \"1995-03-20\", \"1995-03-21\", \"1995-03-22\", \"1995-03-23\", \"1995-03-24\", \"1995-03-25\", \"1995-03-26\", \"1995-03-27\", \"1995-03-28\", \"1995-03-29\", \"1995-03-30\", \"1995-03-31\", \"1995-04-01\", \"1995-04-02\", \"1995-04-03\", \"1995-04-04\", \"1995-04-05\", \"1995-04-06\", \"1995-04-07\", \"1995-04-08\", \"1995-04-09\", \"1995-04-10\", \"1995-04-11\", \"1995-04-12\", \"1995-04-13\", \"1995-04-14\", \"1995-04-15\", \"1995-04-16\", \"1995-04-17\", \"1995-04-18\", \"1995-04-19\", \"1995-04-20\", \"1995-04-21\", \"1995-04-22\", \"1995-04-23\", \"1995-04-24\", \"1995-04-25\", \"1995-04-26\", \"1995-04-27\", \"1995-04-28\", \"1995-04-29\", \"1995-04-30\", \"1995-05-01\", \"1995-05-02\", \"1995-05-03\", \"1995-05-04\", \"1995-05-05\", \"1995-05-06\", \"1995-05-07\", \"1995-05-08\", \"1995-05-09\", \"1995-05-10\", \"1995-05-11\", \"1995-05-12\", \"1995-05-13\", \"1995-05-14\", \"1995-05-15\", \"1995-05-16\", \"1995-05-17\", \"1995-05-18\", \"1995-05-19\", \"1995-05-20\", \"1995-05-21\", \"1995-05-22\", \"1995-05-23\", \"1995-05-24\", \"1995-05-25\", \"1995-05-26\", \"1995-05-27\", \"1995-05-28\", \"1995-05-29\", \"1995-05-30\", \"1995-05-31\", \"1995-06-01\", \"1995-06-02\", \"1995-06-03\", \"1995-06-04\", \"1995-06-05\", \"1995-06-06\", \"1995-06-07\", \"1995-06-08\", \"1995-06-09\", \"1995-06-10\", \"1995-06-11\", \"1995-06-12\", \"1995-06-13\", \"1995-06-14\", \"1995-06-15\", \"1995-06-16\", \"1995-06-17\", \"1995-06-18\", \"1995-06-19\", \"1995-06-20\", \"1995-06-21\", \"1995-06-22\", \"1995-06-23\", \"1995-06-24\", \"1995-06-25\", \"1995-06-26\", \"1995-06-27\", \"1995-06-28\", \"1995-06-29\", \"1995-06-30\", \"1995-07-01\", \"1995-07-02\", \"1995-07-03\", \"1995-07-04\", \"1995-07-05\", \"1995-07-06\", \"1995-07-07\", \"1995-07-08\", \"1995-07-09\", \"1995-07-10\", \"1995-07-11\", \"1995-07-12\", \"1995-07-13\", \"1995-07-14\", \"1995-07-15\", \"1995-07-16\", \"1995-07-17\", \"1995-07-18\", \"1995-07-19\", \"1995-07-20\", \"1995-07-21\", \"1995-07-22\", \"1995-07-23\", \"1995-07-24\", \"1995-07-25\", \"1995-07-26\", \"1995-07-27\", \"1995-07-28\", \"1995-07-29\", \"1995-07-30\", \"1995-07-31\", \"1995-08-01\", \"1995-08-02\", \"1995-08-03\", \"1995-08-04\", \"1995-08-05\", \"1995-08-06\", \"1995-08-07\", \"1995-08-08\", \"1995-08-09\", \"1995-08-10\", \"1995-08-11\", \"1995-08-12\", \"1995-08-13\", \"1995-08-14\", \"1995-08-15\", \"1995-08-16\", \"1995-08-17\", \"1995-08-18\", \"1995-08-19\", \"1995-08-20\", \"1995-08-21\", \"1995-08-22\", \"1995-08-23\", \"1995-08-24\", \"1995-08-25\", \"1995-08-26\", \"1995-08-27\", \"1995-08-28\", \"1995-08-29\", \"1995-08-30\", \"1995-08-31\", \"1995-09-01\", \"1995-09-02\", \"1995-09-03\", \"1995-09-04\", \"1995-09-05\", \"1995-09-06\", \"1995-09-07\", \"1995-09-08\", \"1995-09-09\", \"1995-09-10\", \"1995-09-11\", \"1995-09-12\", \"1995-09-13\", \"1995-09-14\", \"1995-09-15\", \"1995-09-16\", \"1995-09-17\", \"1995-09-18\", \"1995-09-19\", \"1995-09-20\", \"1995-09-21\", \"1995-09-22\", \"1995-09-23\", \"1995-09-24\", \"1995-09-25\", \"1995-09-26\", \"1995-09-27\", \"1995-09-28\", \"1995-09-29\", \"1995-09-30\", \"1995-10-01\", \"1995-10-02\", \"1995-10-03\", \"1995-10-04\", \"1995-10-05\", \"1995-10-06\", \"1995-10-07\", \"1995-10-08\", \"1995-10-09\", \"1995-10-10\", \"1995-10-11\"], \"others\": [25, 51, 105, 126, 128, 42, 66, 120, 95, 152, 129, 99, 58, 40, 95, 69, 78, 71, 43, 39, 61, 150, 80, 166, 316, 98, 46, 46, 188, 309, 156, 293, 176, 23, 40, 146, 237, 275, 63, 74, 28, 30, 332, 100, 148, 112, 177, 59, 27, 207, 210, 192, 152, 101, 129, 162, 470, 122, 85, 135, 38, 8, 147, 10, 34, 56, 28, 26, 15, 36, 21, 93, 75, 142, 48, 41, 54, 172, 275, 213, 131, 377, 42, 103, 348, 202, 247, 220, 221, 74, 115, 286, 263, 232, 203, 249, 116, 142, 407, 431, 288, 271, 385, 247, 167, 507, 709, 761, 673, 489, 130, 508, 805, 540, 744, 472, 461, 247, 214, 247, 335, 381, 399, 251, 269, 134, 344, 398, 398, 318, 255, 349, 223, 445, 513, 379, 539, 559, 195, 212, 509, 706, 591, 669, 440, 315, 302, 712, 926, 528, 840, 577, 429, 395, 1134, 1807, 2066, 1205, 451, 525, 268, 632, 806, 586, 424, 1212, 591, 577, 637, 701, 1158, 581, 154, 111, 206, 276, 262, 313, 401, 432, 583, 167, 162, 208, 781, 380, 391, 114, 93, 279, 362, 672, 420, 530, 1963, 569, 607, 766, 812, 636, 265, 211, 422, 248, 302, 416, 822, 883, 375, 1613, 1478, 865, 843, 1915, 1084, 138, 79, 210, 333, 232, 490, 263, 83, 150, 256, 551, 248, 392, 242, 125, 85, 347, 240, 597, 414, 349, 285, 160, 932, 336, 687, 648, 348, 235, 296, 454, 464, 406, 285, 327, 128, 186, 314, 417, 268, 227, 156, 131, 194, 272, 347, 336, 205, 398, 211, 245, 412, 386, 319, 248, 299, 225, 312, 493, 620, 417, 671, 661, 182, 325, 249, 261, 547, 360, 354, 186, 232, 254, 498, 355, 415, 220, 250, 351, 695, 239, 242, 263, 255, 73, 167, 261, 289, 344, 210, 143, 37, 79, 209, 210, 296, 266, 127, 96, 71, 112, 149, 243, 360, 485, 254, 215, 671, 404, 1023, 1085, 733, 243, 388, 738, 865, 1121, 1916, 792, 687, 773, 936, 1037, 1139, 816, 764, 512, 404, 951, 813, 856, 895, 658, 539, 403, 421, 663, 604], \"date\": [782956800000.0, 783043200000.0, 783129600000.0, 783216000000.0, 783302400000.0, 783388800000.0, 783475200000.0, 783561600000.0, 783648000000.0, 783734400000.0, 783820800000.0, 783907200000.0, 783993600000.0, 784080000000.0, 784166400000.0, 784252800000.0, 784339200000.0, 784425600000.0, 784512000000.0, 784598400000.0, 784684800000.0, 784771200000.0, 784857600000.0, 784944000000.0, 785030400000.0, 785116800000.0, 785203200000.0, 785289600000.0, 785376000000.0, 785462400000.0, 785548800000.0, 785635200000.0, 785721600000.0, 785808000000.0, 785894400000.0, 785980800000.0, 786067200000.0, 786153600000.0, 786240000000.0, 786326400000.0, 786412800000.0, 786499200000.0, 786585600000.0, 786672000000.0, 786758400000.0, 786844800000.0, 786931200000.0, 787017600000.0, 787104000000.0, 787190400000.0, 787276800000.0, 787363200000.0, 787449600000.0, 787536000000.0, 787622400000.0, 787708800000.0, 787795200000.0, 787881600000.0, 787968000000.0, 788054400000.0, 788140800000.0, 788227200000.0, 788313600000.0, 788400000000.0, 788486400000.0, 788572800000.0, 788659200000.0, 788745600000.0, 788832000000.0, 788918400000.0, 789004800000.0, 789091200000.0, 789177600000.0, 789264000000.0, 789350400000.0, 789436800000.0, 789523200000.0, 789609600000.0, 789696000000.0, 789782400000.0, 789868800000.0, 789955200000.0, 790041600000.0, 790128000000.0, 790214400000.0, 790300800000.0, 790387200000.0, 790473600000.0, 790560000000.0, 790646400000.0, 790732800000.0, 790819200000.0, 790905600000.0, 790992000000.0, 791078400000.0, 791164800000.0, 791251200000.0, 791337600000.0, 791424000000.0, 791510400000.0, 791596800000.0, 791683200000.0, 791769600000.0, 791856000000.0, 791942400000.0, 792028800000.0, 792115200000.0, 792201600000.0, 792288000000.0, 792374400000.0, 792460800000.0, 792547200000.0, 792633600000.0, 792720000000.0, 792806400000.0, 792892800000.0, 792979200000.0, 793065600000.0, 793152000000.0, 793238400000.0, 793324800000.0, 793411200000.0, 793497600000.0, 793584000000.0, 793670400000.0, 793756800000.0, 793843200000.0, 793929600000.0, 794016000000.0, 794102400000.0, 794188800000.0, 794275200000.0, 794361600000.0, 794448000000.0, 794534400000.0, 794620800000.0, 794707200000.0, 794793600000.0, 794880000000.0, 794966400000.0, 795052800000.0, 795139200000.0, 795225600000.0, 795312000000.0, 795398400000.0, 795484800000.0, 795571200000.0, 795657600000.0, 795744000000.0, 795830400000.0, 795916800000.0, 796003200000.0, 796089600000.0, 796176000000.0, 796262400000.0, 796348800000.0, 796435200000.0, 796521600000.0, 796608000000.0, 796694400000.0, 796780800000.0, 796867200000.0, 796953600000.0, 797040000000.0, 797126400000.0, 797212800000.0, 797299200000.0, 797385600000.0, 797472000000.0, 797558400000.0, 797644800000.0, 797731200000.0, 797817600000.0, 797904000000.0, 797990400000.0, 798076800000.0, 798163200000.0, 798249600000.0, 798336000000.0, 798422400000.0, 798508800000.0, 798595200000.0, 798681600000.0, 798768000000.0, 798854400000.0, 798940800000.0, 799027200000.0, 799113600000.0, 799200000000.0, 799286400000.0, 799372800000.0, 799459200000.0, 799545600000.0, 799632000000.0, 799718400000.0, 799804800000.0, 799891200000.0, 799977600000.0, 800064000000.0, 800150400000.0, 800236800000.0, 800323200000.0, 800409600000.0, 800496000000.0, 800582400000.0, 800668800000.0, 800755200000.0, 800841600000.0, 800928000000.0, 801014400000.0, 801100800000.0, 801187200000.0, 801273600000.0, 801360000000.0, 801446400000.0, 801532800000.0, 801619200000.0, 801705600000.0, 801792000000.0, 801878400000.0, 801964800000.0, 802051200000.0, 802137600000.0, 802224000000.0, 802310400000.0, 802396800000.0, 802483200000.0, 802569600000.0, 802656000000.0, 802742400000.0, 802828800000.0, 802915200000.0, 803001600000.0, 803088000000.0, 803174400000.0, 803260800000.0, 803347200000.0, 803433600000.0, 803520000000.0, 803606400000.0, 803692800000.0, 803779200000.0, 803865600000.0, 803952000000.0, 804038400000.0, 804124800000.0, 804211200000.0, 804297600000.0, 804384000000.0, 804470400000.0, 804556800000.0, 804643200000.0, 804729600000.0, 804816000000.0, 804902400000.0, 804988800000.0, 805075200000.0, 805161600000.0, 805248000000.0, 805334400000.0, 805420800000.0, 805507200000.0, 805593600000.0, 805680000000.0, 805766400000.0, 805852800000.0, 805939200000.0, 806025600000.0, 806112000000.0, 806198400000.0, 806284800000.0, 806371200000.0, 806457600000.0, 806544000000.0, 806630400000.0, 806716800000.0, 806803200000.0, 806889600000.0, 806976000000.0, 807062400000.0, 807148800000.0, 807235200000.0, 807321600000.0, 807408000000.0, 807494400000.0, 807580800000.0, 807667200000.0, 807753600000.0, 807840000000.0, 807926400000.0, 808012800000.0, 808099200000.0, 808185600000.0, 808272000000.0, 808358400000.0, 808444800000.0, 808531200000.0, 808617600000.0, 808704000000.0, 808790400000.0, 808876800000.0, 808963200000.0, 809049600000.0, 809136000000.0, 809222400000.0, 809308800000.0, 809395200000.0, 809481600000.0, 809568000000.0, 809654400000.0, 809740800000.0, 809827200000.0, 809913600000.0, 810000000000.0, 810086400000.0, 810172800000.0, 810259200000.0, 810345600000.0, 810432000000.0, 810518400000.0, 810604800000.0, 810691200000.0, 810777600000.0, 810864000000.0, 810950400000.0, 811036800000.0, 811123200000.0, 811209600000.0, 811296000000.0, 811382400000.0, 811468800000.0, 811555200000.0, 811641600000.0, 811728000000.0, 811814400000.0, 811900800000.0, 811987200000.0, 812073600000.0, 812160000000.0, 812246400000.0, 812332800000.0, 812419200000.0, 812505600000.0, 812592000000.0, 812678400000.0, 812764800000.0, 812851200000.0, 812937600000.0, 813024000000.0, 813110400000.0, 813196800000.0, 813283200000.0, 813369600000.0]}}, \"type\": \"ColumnDataSource\", \"id\": \"c901bc38-f802-42a9-9c0b-fa9058d54cec\"}, {\"attributes\": {\"num_minor_ticks\": 5}, \"type\": \"DatetimeTicker\", \"id\": \"4896287e-b17c-4229-bc7c-cf36df47267f\"}, {\"attributes\": {\"nonselection_glyph\": {\"type\": \"Line\", \"id\": \"4c7f104c-f208-4d85-b23f-2e24681c1e02\"}, \"data_source\": {\"type\": \"ColumnDataSource\", \"id\": \"c901bc38-f802-42a9-9c0b-fa9058d54cec\"}, \"selection_glyph\": null, \"hover_glyph\": null, \"glyph\": {\"type\": \"Line\", \"id\": \"a51a2248-aeb7-48e1-a71e-ce0934c44459\"}}, \"type\": \"GlyphRenderer\", \"id\": \"ecf714ae-f7ce-4af5-8ce8-f14cbc7ff296\"}, {\"attributes\": {\"line_color\": {\"value\": \"green\"}, \"x\": {\"field\": \"date\"}, \"y\": {\"field\": \"ok\"}}, \"type\": \"Line\", \"id\": \"7de48fa3-d669-43db-b190-b034e4c330f6\"}, {\"attributes\": {\"plot\": {\"subtype\": \"Figure\", \"type\": \"Plot\", \"id\": \"697fad15-f78d-41f5-885f-559cadf8c023\"}, \"axis_label\": \"number of requests\", \"formatter\": {\"type\": \"BasicTickFormatter\", \"id\": \"e730ab6f-d919-4fee-bb10-a6d11c11e677\"}, \"ticker\": {\"type\": \"BasicTicker\", \"id\": \"df7ca083-d9f1-4ce5-9dea-86af735d8328\"}}, \"type\": \"LinearAxis\", \"id\": \"1f50bc01-9197-4200-bb25-ad9560a82c42\"}, {\"attributes\": {\"plot\": {\"subtype\": \"Figure\", \"type\": \"Plot\", \"id\": \"697fad15-f78d-41f5-885f-559cadf8c023\"}, \"legends\": [[\"all\", [{\"type\": \"GlyphRenderer\", \"id\": \"132476fa-a318-49eb-908d-f309619958c0\"}]], [\"ok\", [{\"type\": \"GlyphRenderer\", \"id\": \"afb6cf73-1989-483f-874d-d6e81dd8abeb\"}]], [\"notFound\", [{\"type\": \"GlyphRenderer\", \"id\": \"ecf714ae-f7ce-4af5-8ce8-f14cbc7ff296\"}]], [\"others\", [{\"type\": \"GlyphRenderer\", \"id\": \"267e8a43-7dec-41b2-8a3b-11085027f03e\"}]]], \"location\": \"top_left\"}, \"type\": \"Legend\", \"id\": \"2b08f16e-5919-4214-b740-b2cd8c081a3f\"}, {\"attributes\": {\"months\": [0, 1, 2, 3, 4, 5, 6, 7, 8, 9, 10, 11]}, \"type\": \"MonthsTicker\", \"id\": \"7bcb97c4-d217-4b88-b00e-7e1178bfdebc\"}, {\"attributes\": {\"days\": [1, 15]}, \"type\": \"DaysTicker\", \"id\": \"2ad3b54b-0f68-4400-9073-63515915392e\"}, {\"attributes\": {\"plot\": {\"subtype\": \"Figure\", \"type\": \"Plot\", \"id\": \"697fad15-f78d-41f5-885f-559cadf8c023\"}, \"ticker\": {\"type\": \"BasicTicker\", \"id\": \"df7ca083-d9f1-4ce5-9dea-86af735d8328\"}, \"dimension\": 1}, \"type\": \"Grid\", \"id\": \"84a6f820-4318-48c3-826d-d1fa64ab2d54\"}, {\"attributes\": {\"line_color\": {\"value\": \"#1f77b4\"}, \"line_alpha\": {\"value\": 0.1}, \"y\": {\"field\": \"all\"}, \"x\": {\"field\": \"date\"}}, \"type\": \"Line\", \"id\": \"99ac3698-3d9c-4785-b746-642a7324ed9a\"}, {\"attributes\": {\"line_color\": {\"value\": \"cyan\"}, \"x\": {\"field\": \"date\"}, \"y\": {\"field\": \"others\"}}, \"type\": \"Line\", \"id\": \"7304bca2-fa40-4a49-852c-648b93e1b203\"}, {\"attributes\": {\"nonselection_glyph\": {\"type\": \"Line\", \"id\": \"a5090fb4-fab2-46dd-954f-f072e95992b0\"}, \"data_source\": {\"type\": \"ColumnDataSource\", \"id\": \"c901bc38-f802-42a9-9c0b-fa9058d54cec\"}, \"selection_glyph\": null, \"hover_glyph\": null, \"glyph\": {\"type\": \"Line\", \"id\": \"7304bca2-fa40-4a49-852c-648b93e1b203\"}}, \"type\": \"GlyphRenderer\", \"id\": \"267e8a43-7dec-41b2-8a3b-11085027f03e\"}, {\"attributes\": {\"months\": [0, 6]}, \"type\": \"MonthsTicker\", \"id\": \"c8f59491-e0fa-4aae-907c-1fe45cc4ca23\"}, {\"attributes\": {\"min_interval\": 3600000.0, \"mantissas\": [1, 2, 4, 6, 8, 12], \"base\": 24, \"max_interval\": 43200000.0, \"num_minor_ticks\": 0}, \"type\": \"AdaptiveTicker\", \"id\": \"7e079213-f8ce-4e8f-a0ea-455f77bd7ea1\"}, {\"attributes\": {\"days\": [1, 2, 3, 4, 5, 6, 7, 8, 9, 10, 11, 12, 13, 14, 15, 16, 17, 18, 19, 20, 21, 22, 23, 24, 25, 26, 27, 28, 29, 30, 31]}, \"type\": \"DaysTicker\", \"id\": \"17df9911-3508-4fb2-ab0d-f630bc1ed434\"}, {\"attributes\": {\"days\": [1, 8, 15, 22]}, \"type\": \"DaysTicker\", \"id\": \"cedd22a6-cc58-458f-b73e-36c019acf015\"}]}, \"title\": \"Bokeh Application\"}};\n",
       "            var render_items = [{\"notebook_comms_target\": \"2eb7362a-cab4-4225-85e4-7bde0ea5a2be\", \"docid\": \"73a3b3f4-bcf0-483c-b286-56ff294b5497\", \"elementid\": \"3e675f7f-c18c-43be-9a56-035fba073621\", \"modelid\": \"697fad15-f78d-41f5-885f-559cadf8c023\"}];\n",
       "            \n",
       "            Bokeh.embed.embed_items(docs_json, render_items);\n",
       "        });\n",
       "      },\n",
       "      function(Bokeh) {\n",
       "      }\n",
       "    ];\n",
       "  \n",
       "    function run_inline_js() {\n",
       "      for (var i = 0; i < inline_js.length; i++) {\n",
       "        inline_js[i](window.Bokeh);\n",
       "      }\n",
       "    }\n",
       "  \n",
       "    if (window._bokeh_is_loading === 0) {\n",
       "      console.log(\"Bokeh: BokehJS loaded, going straight to plotting\");\n",
       "      run_inline_js();\n",
       "    } else {\n",
       "      load_libs(js_urls, function() {\n",
       "        console.log(\"Bokeh: BokehJS plotting callback run at\", now());\n",
       "        run_inline_js();\n",
       "      });\n",
       "    }\n",
       "  }(this));\n",
       "</script>"
      ]
     },
     "metadata": {},
     "output_type": "display_data"
    },
    {
     "data": {
      "text/plain": [
       "<bokeh.io._CommsHandle at 0x7f683050c4d0>"
      ]
     },
     "execution_count": 20,
     "metadata": {},
     "output_type": "execute_result"
    }
   ],
   "source": [
    "# use bokeh for interactive plots # bokeh-0.11 used \n",
    "from collections import OrderedDict\n",
    "from bokeh.io import output_notebook\n",
    "from bokeh.plotting import figure, show, output_file\n",
    "from bokeh.models import HoverTool\n",
    "from bokeh.models.sources import ColumnDataSource\n",
    "\n",
    "\n",
    "requestsPerDay['textDate'] = requestsPerDay.index.format()\n",
    "source = ColumnDataSource(requestsPerDay)\n",
    "\n",
    "p1 = figure(plot_width=1000, plot_height=400,\n",
    "           #tools=\"pan,box_zoom,reset,resize,save,hover\", \n",
    "           tools=\"reset,box_zoom, save, hover\",\n",
    "           title=\"Number of requests with various response codes over time\",\n",
    "           x_axis_type=\"datetime\",\n",
    "           x_range=[requestsPerDay.index[0], requestsPerDay.index[-1]],\n",
    "           x_axis_label='date', \n",
    "           y_axis_label='number of requests',\n",
    "          )\n",
    "\n",
    "output_notebook()\n",
    "#output_file(\"1.html\")\n",
    "\n",
    "hover_p1 = p1.select(dict(type=HoverTool))\n",
    "hover_p1.tooltips = OrderedDict([('date', '@textDate'),('all', '@all'), ('ok', '@ok'), ('notFound','@notFound'), ('others','@others')])\n",
    "\n",
    "p1.line(x='date', y='all', source=source, legend=\"all\", line_color='blue')\n",
    "p1.line(x='date', y='ok', source=source, legend=\"ok\", line_color=\"green\")\n",
    "p1.line(x='date', y='notFound', source=source,  legend=\"notFound\", line_color=\"red\")\n",
    "p1.line(x='date', y='others', source=source, legend=\"others\", line_color=\"cyan\")\n",
    "\n",
    "p1.legend.location=\"top_left\" \n",
    "\n",
    "show(p1)"
   ]
  },
  {
   "cell_type": "markdown",
   "metadata": {},
   "source": [
    "One clearly sees weekly pattern than can be investigated further if needed. Let us have a look at the percentage of \"notFound\" and \"others\" over the time"
   ]
  },
  {
   "cell_type": "code",
   "execution_count": 21,
   "metadata": {
    "collapsed": false
   },
   "outputs": [
    {
     "data": {
      "text/plain": [
       "<matplotlib.axes._subplots.AxesSubplot at 0x7f68268d7450>"
      ]
     },
     "execution_count": 21,
     "metadata": {},
     "output_type": "execute_result"
    },
    {
     "data": {
      "image/png": "[encoded data removed]",
      "text/plain": [
       "<matplotlib.figure.Figure at 0x7f68268c3c10>"
      ]
     },
     "metadata": {},
     "output_type": "display_data"
    }
   ],
   "source": [
    "# transforming pandas data frame and plotting\n",
    "requestsPerDay['percent_ok'] = requestsPerDay['ok'] / requestsPerDay['all'] \n",
    "requestsPerDay['percent_notFound'] = requestsPerDay['notFound'] / requestsPerDay['all'] \n",
    "requestsPerDay['percent_others'] = requestsPerDay['others'] / requestsPerDay['all'] \n",
    "\n",
    "import matplotlib.pyplot as plt\n",
    "%matplotlib inline\n",
    "plt.rcParams.update({'axes.titlesize': 'xx-large', 'axes.labelsize':'x-large'})\n",
    "\n",
    "requestsPerDay[['percent_ok', 'percent_others', 'percent_notFound']].plot(figsize=(14,6), kind='area',\n",
    "                 fontsize=14, title=\"Percentage of requests with various response codes over time\",\n",
    "                 color=[\"green\", \"cyan\", \"red\"], alpha=0.3, ylim=[0,1], rot=90)"
   ]
  },
  {
   "cell_type": "markdown",
   "metadata": {},
   "source": [
    "### Hosts, Client IDs, methods, requests, protocols, response codes"
   ]
  },
  {
   "cell_type": "code",
   "execution_count": 22,
   "metadata": {
    "collapsed": false
   },
   "outputs": [
    {
     "data": {
      "text/plain": [
       "defaultdict(int, {u'local': 373600, u'remote': 351514})"
      ]
     },
     "execution_count": 22,
     "metadata": {},
     "output_type": "execute_result"
    }
   ],
   "source": [
    "# hosts - only 2 hosts here - local and remote\n",
    "accessLogsRDD.map(lambda log: (log.host, 1)).countByKey()"
   ]
  },
  {
   "cell_type": "code",
   "execution_count": 23,
   "metadata": {
    "collapsed": false
   },
   "outputs": [
    {
     "name": "stdout",
     "output_type": "stream",
     "text": [
      "[u'-']\n"
     ]
    }
   ],
   "source": [
    "# client_id is not available\n",
    "print accessLogsRDD.map(lambda log: log.client_id).distinct().collect()"
   ]
  },
  {
   "cell_type": "code",
   "execution_count": 24,
   "metadata": {
    "collapsed": false
   },
   "outputs": [
    {
     "name": "stdout",
     "output_type": "stream",
     "text": [
      "defaultdict(<type 'int'>, {u'': 27, u'Villain': 37, u'dasfh': 1, u'-': 725048, u'villain': 1})\n"
     ]
    }
   ],
   "source": [
    "# user_id is not available - only two users, most are unavailable \n",
    "print accessLogsRDD.map(lambda log: log.user_id).countByValue()"
   ]
  },
  {
   "cell_type": "code",
   "execution_count": 25,
   "metadata": {
    "collapsed": false
   },
   "outputs": [
    {
     "name": "stdout",
     "output_type": "stream",
     "text": [
      "defaultdict(<type 'int'>, {u'POST': 103, u'get': 1, u'HEAD': 597, u'GET': 724413})\n"
     ]
    }
   ],
   "source": [
    "# methods - POST, GET, HEAD - predominantly GET\n",
    "print accessLogsRDD.map(lambda log: log.method).countByValue()"
   ]
  },
  {
   "cell_type": "code",
   "execution_count": 26,
   "metadata": {
    "collapsed": false
   },
   "outputs": [
    {
     "name": "stdout",
     "output_type": "stream",
     "text": [
      "12315 unique requests in data set\n",
      "[(u'index.html', 139681), (u'3.gif', 24006), (u'2.gif', 23595), (u'4.gif', 8018), (u'244.gif', 5148), (u'5.html', 5009), (u'4097.gif', 4874), (u'8870.jpg', 4492), (u'6733.gif', 4278), (u'8472.gif', 3843)]\n"
     ]
    }
   ],
   "source": [
    "# requests - top-10 most frequent\n",
    "requestsRDD = accessLogsRDD.map(lambda log: (log.request, 1)).reduceByKey(lambda a, b : a + b).cache()\n",
    "print requestsRDD.keys().count(), \"unique requests in data set\"\n",
    "topRequests = requestsRDD.takeOrdered(10, lambda s: -s[1])\n",
    "print topRequests"
   ]
  },
  {
   "cell_type": "code",
   "execution_count": 27,
   "metadata": {
    "collapsed": false
   },
   "outputs": [
    {
     "name": "stdout",
     "output_type": "stream",
     "text": [
      "defaultdict(<type 'int'>, {u'': 1847, u'1350': 27, u'HTTP': 723240})\n"
     ]
    }
   ],
   "source": [
    "# protocols\n",
    "print accessLogsRDD.map(lambda log: log.protocol).countByValue()"
   ]
  },
  {
   "cell_type": "code",
   "execution_count": 28,
   "metadata": {
    "collapsed": false,
    "scrolled": true
   },
   "outputs": [
    {
     "name": "stdout",
     "output_type": "stream",
     "text": [
      "[(200, 568502), (304, 97792), (302, 30325), (404, 23602), (403, 4743), (401, 46), (501, 43), (500, 42), (400, 19)]\n"
     ]
    }
   ],
   "source": [
    "# response codes starting from the most frequent - 200, 304, 302, 404, 403\n",
    "rc = accessLogsRDD.map(lambda log: (log.response_code, 1)).countByKey()\n",
    "print sorted(rc.iteritems(), key=lambda (k,v): v, reverse=True)"
   ]
  },
  {
   "cell_type": "markdown",
   "metadata": {},
   "source": [
    "### Content size\n",
    "\n",
    "First of all check that all non-\"OK\" response codes have zero content_size"
   ]
  },
  {
   "cell_type": "code",
   "execution_count": 29,
   "metadata": {
    "collapsed": false
   },
   "outputs": [
    {
     "name": "stdout",
     "output_type": "stream",
     "text": [
      "(count: 156612, mean: 0.0, stdev: 0.0, max: 0.0, min: 0.0)\n"
     ]
    }
   ],
   "source": [
    "print accessLogsRDD.filter(lambda log: log.response_code!=200).map(lambda log: log.content_size).stats()"
   ]
  },
  {
   "cell_type": "markdown",
   "metadata": {},
   "source": [
    "Are there any record with \"OK\" code but zero size? Lets have a look at statistics"
   ]
  },
  {
   "cell_type": "code",
   "execution_count": 30,
   "metadata": {
    "collapsed": false
   },
   "outputs": [
    {
     "name": "stdout",
     "output_type": "stream",
     "text": [
      "Statistics: (count: 568502, mean: 13978.0481933, stdev: 112052.55538, max: 11855882.0, min: 0.0)\n"
     ]
    }
   ],
   "source": [
    "# content size statistics for response code 200 (\"OK\")\n",
    "code200sizeRDD = accessLogsRDD.filter(lambda log: log.response_code==200).map(lambda log: log.content_size).cache()\n",
    "print \"Statistics:\", code200sizeRDD.stats()"
   ]
  },
  {
   "cell_type": "markdown",
   "metadata": {},
   "source": [
    "Since minimum size is 0, there is at least one sich record. Probably the info about the content size was just missing in those records. Recall, that at the beginning we explicityly set 0 for missing values. If needed, this decision can be reconsidered and the corresponding logs analyzed separately. From now on let us concentrate on logs with nonzero size content."
   ]
  },
  {
   "cell_type": "code",
   "execution_count": 31,
   "metadata": {
    "collapsed": false
   },
   "outputs": [
    {
     "name": "stdout",
     "output_type": "stream",
     "text": [
      "Statistics: (count: 567851, mean: 13994.0730121, stdev: 112115.766958, max: 11855882.0, min: 1.0)\n"
     ]
    }
   ],
   "source": [
    "nonzerosizeRDD = code200sizeRDD.filter(lambda size: size > 0).cache()\n",
    "print \"Statistics:\", nonzerosizeRDD.stats()"
   ]
  },
  {
   "cell_type": "markdown",
   "metadata": {},
   "source": [
    "Statistics of the content size hints that the distribution is most likely to be left-skewed and would need log-scale for both \"content size\" and \"counts\". Let us have a look at the histogram. This is done _without_ bringing the data to the driver und thus is _not_ restricted by the data size. "
   ]
  },
  {
   "cell_type": "code",
   "execution_count": 32,
   "metadata": {
    "collapsed": false
   },
   "outputs": [
    {
     "name": "stdout",
     "output_type": "stream",
     "text": [
      "Histogram:\n",
      "([1, 10, 100, 1000, 10000, 100000, 1000000, 10000000, 100000000],\n",
      " [18, 730, 125189, 321223, 112341, 7618, 722, 10])\n"
     ]
    }
   ],
   "source": [
    "from pprint import pprint\n",
    "x = range(9)\n",
    "nonzerosize_histo = nonzerosizeRDD.histogram([10**i for i in x]) #  \n",
    "print \"Histogram:\"\n",
    "pprint(nonzerosize_histo)"
   ]
  },
  {
   "cell_type": "markdown",
   "metadata": {},
   "source": [
    "This is confirmed by the histogram. Let us plot it."
   ]
  },
  {
   "cell_type": "code",
   "execution_count": 33,
   "metadata": {
    "collapsed": false
   },
   "outputs": [
    {
     "data": {
      "text/html": [
       "\n",
       "\n",
       "    <script type=\"text/javascript\">\n",
       "      \n",
       "      (function(global) {\n",
       "        function now() {\n",
       "          return new Date();\n",
       "        }\n",
       "      \n",
       "        if (typeof (window._bokeh_onload_callbacks) === \"undefined\") {\n",
       "          window._bokeh_onload_callbacks = [];\n",
       "        }\n",
       "      \n",
       "        function run_callbacks() {\n",
       "          window._bokeh_onload_callbacks.forEach(function(callback) { callback() });\n",
       "          delete window._bokeh_onload_callbacks\n",
       "          console.info(\"Bokeh: all callbacks have finished\");\n",
       "        }\n",
       "      \n",
       "        function load_libs(js_urls, callback) {\n",
       "          window._bokeh_onload_callbacks.push(callback);\n",
       "          if (window._bokeh_is_loading > 0) {\n",
       "            console.log(\"Bokeh: BokehJS is being loaded, scheduling callback at\", now());\n",
       "            return null;\n",
       "          }\n",
       "          if (js_urls == null || js_urls.length === 0) {\n",
       "            run_callbacks();\n",
       "            return null;\n",
       "          }\n",
       "          console.log(\"Bokeh: BokehJS not loaded, scheduling load and callback at\", now());\n",
       "          window._bokeh_is_loading = js_urls.length;\n",
       "          for (var i = 0; i < js_urls.length; i++) {\n",
       "            var url = js_urls[i];\n",
       "            var s = document.createElement('script');\n",
       "            s.src = url;\n",
       "            s.async = false;\n",
       "            s.onreadystatechange = s.onload = function() {\n",
       "              window._bokeh_is_loading--;\n",
       "              if (window._bokeh_is_loading === 0) {\n",
       "                console.log(\"Bokeh: all BokehJS libraries loaded\");\n",
       "                run_callbacks()\n",
       "              }\n",
       "            };\n",
       "            s.onerror = function() {\n",
       "              console.warn(\"failed to load library \" + url);\n",
       "            };\n",
       "            console.log(\"Bokeh: injecting script tag for BokehJS library: \", url);\n",
       "            document.getElementsByTagName(\"head\")[0].appendChild(s);\n",
       "          }\n",
       "        };var js_urls = ['https://cdn.pydata.org/bokeh/release/bokeh-0.11.0.min.js', 'https://cdn.pydata.org/bokeh/release/bokeh-widgets-0.11.0.min.js', 'https://cdn.pydata.org/bokeh/release/bokeh-compiler-0.11.0.min.js'];\n",
       "      \n",
       "        var inline_js = [\n",
       "          function(Bokeh) {\n",
       "            Bokeh.set_log_level(\"info\");\n",
       "          },\n",
       "          function(Bokeh) {\n",
       "            console.log(\"Bokeh: injecting CSS: https://cdn.pydata.org/bokeh/release/bokeh-0.11.0.min.css\");\n",
       "            Bokeh.embed.inject_css(\"https://cdn.pydata.org/bokeh/release/bokeh-0.11.0.min.css\");\n",
       "            console.log(\"Bokeh: injecting CSS: https://cdn.pydata.org/bokeh/release/bokeh-widgets-0.11.0.min.css\");\n",
       "            Bokeh.embed.inject_css(\"https://cdn.pydata.org/bokeh/release/bokeh-widgets-0.11.0.min.css\");\n",
       "          }\n",
       "        ];\n",
       "      \n",
       "        function run_inline_js() {\n",
       "          for (var i = 0; i < inline_js.length; i++) {\n",
       "            inline_js[i](window.Bokeh);\n",
       "          }\n",
       "        }\n",
       "      \n",
       "        if (window._bokeh_is_loading === 0) {\n",
       "          console.log(\"Bokeh: BokehJS loaded, going straight to plotting\");\n",
       "          run_inline_js();\n",
       "        } else {\n",
       "          load_libs(js_urls, function() {\n",
       "            console.log(\"Bokeh: BokehJS plotting callback run at\", now());\n",
       "            run_inline_js();\n",
       "          });\n",
       "        }\n",
       "      }(this));\n",
       "    </script>\n",
       "    <div>\n",
       "        <a href=\"http://bokeh.pydata.org\" target=\"_blank\" class=\"bk-logo bk-logo-small bk-logo-notebook\"></a>\n",
       "        <span>BokehJS successfully loaded.</span>\n",
       "    </div>"
      ]
     },
     "metadata": {},
     "output_type": "display_data"
    },
    {
     "data": {
      "text/html": [
       "\n",
       "\n",
       "    <div class=\"plotdiv\" id=\"3c49ee59-9ac4-47ef-8abd-aa878c4153e1\"></div>\n",
       "<script type=\"text/javascript\">\n",
       "  \n",
       "  (function(global) {\n",
       "    function now() {\n",
       "      return new Date();\n",
       "    }\n",
       "  \n",
       "    if (typeof (window._bokeh_onload_callbacks) === \"undefined\") {\n",
       "      window._bokeh_onload_callbacks = [];\n",
       "    }\n",
       "  \n",
       "    function run_callbacks() {\n",
       "      window._bokeh_onload_callbacks.forEach(function(callback) { callback() });\n",
       "      delete window._bokeh_onload_callbacks\n",
       "      console.info(\"Bokeh: all callbacks have finished\");\n",
       "    }\n",
       "  \n",
       "    function load_libs(js_urls, callback) {\n",
       "      window._bokeh_onload_callbacks.push(callback);\n",
       "      if (window._bokeh_is_loading > 0) {\n",
       "        console.log(\"Bokeh: BokehJS is being loaded, scheduling callback at\", now());\n",
       "        return null;\n",
       "      }\n",
       "      if (js_urls == null || js_urls.length === 0) {\n",
       "        run_callbacks();\n",
       "        return null;\n",
       "      }\n",
       "      console.log(\"Bokeh: BokehJS not loaded, scheduling load and callback at\", now());\n",
       "      window._bokeh_is_loading = js_urls.length;\n",
       "      for (var i = 0; i < js_urls.length; i++) {\n",
       "        var url = js_urls[i];\n",
       "        var s = document.createElement('script');\n",
       "        s.src = url;\n",
       "        s.async = false;\n",
       "        s.onreadystatechange = s.onload = function() {\n",
       "          window._bokeh_is_loading--;\n",
       "          if (window._bokeh_is_loading === 0) {\n",
       "            console.log(\"Bokeh: all BokehJS libraries loaded\");\n",
       "            run_callbacks()\n",
       "          }\n",
       "        };\n",
       "        s.onerror = function() {\n",
       "          console.warn(\"failed to load library \" + url);\n",
       "        };\n",
       "        console.log(\"Bokeh: injecting script tag for BokehJS library: \", url);\n",
       "        document.getElementsByTagName(\"head\")[0].appendChild(s);\n",
       "      }\n",
       "    };var element = document.getElementById(\"3c49ee59-9ac4-47ef-8abd-aa878c4153e1\");\n",
       "    if (element == null) {\n",
       "      console.log(\"Bokeh: ERROR: autoload.js configured with elementid '3c49ee59-9ac4-47ef-8abd-aa878c4153e1' but no matching script tag was found. \")\n",
       "      return false;\n",
       "    }var js_urls = [];\n",
       "  \n",
       "    var inline_js = [\n",
       "      function(Bokeh) {\n",
       "        Bokeh.$(function() {\n",
       "            var docs_json = {\"1a97bf41-9e27-4a8c-a77d-e9c1d7721d2f\": {\"version\": \"0.11.0\", \"roots\": {\"root_ids\": [\"697fad15-f78d-41f5-885f-559cadf8c023\", \"f4dd7c56-00f7-4fbe-8889-bc4481e443f7\"], \"references\": [{\"attributes\": {\"plot\": {\"subtype\": \"Figure\", \"type\": \"Plot\", \"id\": \"f4dd7c56-00f7-4fbe-8889-bc4481e443f7\"}}, \"type\": \"PreviewSaveTool\", \"id\": \"5b68de3f-007f-4639-890b-98ece32bde1f\"}, {\"attributes\": {\"plot\": {\"subtype\": \"Figure\", \"type\": \"Plot\", \"id\": \"697fad15-f78d-41f5-885f-559cadf8c023\"}, \"overlay\": {\"type\": \"BoxAnnotation\", \"id\": \"6adbfaca-a241-433f-b00e-d81b0fcb1e72\"}}, \"type\": \"BoxZoomTool\", \"id\": \"e07e17fb-5177-459a-b5cf-3e0c06f85f8d\"}, {\"attributes\": {\"line_color\": {\"value\": \"blue\"}, \"x\": {\"field\": \"date\"}, \"y\": {\"field\": \"all\"}}, \"type\": \"Line\", \"id\": \"325fe298-cef5-4d50-8c46-16d396cce267\"}, {\"attributes\": {\"nonselection_glyph\": {\"type\": \"Line\", \"id\": \"99ac3698-3d9c-4785-b746-642a7324ed9a\"}, \"data_source\": {\"type\": \"ColumnDataSource\", \"id\": \"c901bc38-f802-42a9-9c0b-fa9058d54cec\"}, \"selection_glyph\": null, \"hover_glyph\": null, \"glyph\": {\"type\": \"Line\", \"id\": \"325fe298-cef5-4d50-8c46-16d396cce267\"}}, \"type\": \"GlyphRenderer\", \"id\": \"132476fa-a318-49eb-908d-f309619958c0\"}, {\"attributes\": {\"tooltips\": [[\"size from ... to\", \"(@left, @right)\"], [\"counts\", \"@top\"]], \"callback\": null, \"plot\": {\"subtype\": \"Figure\", \"type\": \"Plot\", \"id\": \"f4dd7c56-00f7-4fbe-8889-bc4481e443f7\"}}, \"type\": \"HoverTool\", \"id\": \"9c388ccb-54da-4531-97dd-4ab92b4eb9ac\"}, {\"attributes\": {\"line_color\": {\"value\": \"#1f77b4\"}, \"line_alpha\": {\"value\": 0.1}, \"y\": {\"field\": \"notFound\"}, \"x\": {\"field\": \"date\"}}, \"type\": \"Line\", \"id\": \"4c7f104c-f208-4d85-b23f-2e24681c1e02\"}, {\"attributes\": {}, \"type\": \"DatetimeTickFormatter\", \"id\": \"2cb30ba7-57f3-4a98-a024-4dbc645d27d8\"}, {\"attributes\": {\"x_range\": {\"type\": \"Range1d\", \"id\": \"901868e2-8fde-4b90-ac15-806f34393840\"}, \"y_mapper_type\": \"log\", \"title\": \"Counting requests with a certain size of the returned content\", \"y_range\": {\"type\": \"Range1d\", \"id\": \"b16e3f6d-3bc9-4c6f-ad50-77e1b8c94c50\"}, \"x_mapper_type\": \"log\", \"renderers\": [{\"type\": \"LogAxis\", \"id\": \"e2da5c61-c94f-4056-9efa-276de2e3e9fe\"}, {\"type\": \"Grid\", \"id\": \"7a32e3f0-cba9-4a70-a87f-a6b15eb486da\"}, {\"type\": \"LogAxis\", \"id\": \"79e72a4d-7f65-4cd8-8e46-cebaab42deee\"}, {\"type\": \"Grid\", \"id\": \"4d3e1129-7f7d-481f-8f2b-328c124e2aa2\"}, {\"type\": \"GlyphRenderer\", \"id\": \"2ddfde7e-873e-4c59-bcd8-da0ac1bdf391\"}], \"plot_width\": 800, \"below\": [{\"type\": \"LogAxis\", \"id\": \"e2da5c61-c94f-4056-9efa-276de2e3e9fe\"}], \"tool_events\": {\"type\": \"ToolEvents\", \"id\": \"c740aa92-abec-4c89-9961-6715387b6eb2\"}, \"plot_height\": 400, \"tools\": [{\"type\": \"PreviewSaveTool\", \"id\": \"5b68de3f-007f-4639-890b-98ece32bde1f\"}, {\"type\": \"HoverTool\", \"id\": \"9c388ccb-54da-4531-97dd-4ab92b4eb9ac\"}], \"left\": [{\"type\": \"LogAxis\", \"id\": \"79e72a4d-7f65-4cd8-8e46-cebaab42deee\"}]}, \"type\": \"Plot\", \"id\": \"f4dd7c56-00f7-4fbe-8889-bc4481e443f7\", \"subtype\": \"Figure\"}, {\"attributes\": {\"plot\": {\"subtype\": \"Figure\", \"type\": \"Plot\", \"id\": \"697fad15-f78d-41f5-885f-559cadf8c023\"}, \"ticker\": {\"type\": \"DatetimeTicker\", \"id\": \"4896287e-b17c-4229-bc7c-cf36df47267f\"}}, \"type\": \"Grid\", \"id\": \"20e67809-839e-4ad8-b2e3-bbfb68b9824d\"}, {\"attributes\": {\"plot\": {\"subtype\": \"Figure\", \"type\": \"Plot\", \"id\": \"697fad15-f78d-41f5-885f-559cadf8c023\"}}, \"type\": \"ResetTool\", \"id\": \"c7f991c6-348c-4f10-aeda-e3722362ee28\"}, {\"attributes\": {\"line_color\": {\"value\": \"#1f77b4\"}, \"line_alpha\": {\"value\": 0.1}, \"y\": {\"field\": \"others\"}, \"x\": {\"field\": \"date\"}}, \"type\": \"Line\", \"id\": \"a5090fb4-fab2-46dd-954f-f072e95992b0\"}, {\"attributes\": {\"ticker\": null}, \"type\": \"LogTickFormatter\", \"id\": \"4f57e896-65f3-4905-8be0-264a26c859bb\"}, {\"attributes\": {}, \"type\": \"ToolEvents\", \"id\": \"bc05d0d9-1e61-452d-96b4-3d52ea8fbdcc\"}, {\"attributes\": {\"days\": [1, 4, 7, 10, 13, 16, 19, 22, 25, 28]}, \"type\": \"DaysTicker\", \"id\": \"0391fece-3ff3-4497-8940-7e1dade41785\"}, {\"attributes\": {\"ticker\": null}, \"type\": \"LogTickFormatter\", \"id\": \"2c2adaf9-9713-4e44-b404-54044ca95fd6\"}, {\"attributes\": {\"callback\": null}, \"type\": \"DataRange1d\", \"id\": \"e1139bb4-bcc6-4e72-be99-d06e8b9e2908\"}, {\"attributes\": {\"tooltips\": [[\"date\", \"@textDate\"], [\"all\", \"@all\"], [\"ok\", \"@ok\"], [\"notFound\", \"@notFound\"], [\"others\", \"@others\"]], \"callback\": null, \"plot\": {\"subtype\": \"Figure\", \"type\": \"Plot\", \"id\": \"697fad15-f78d-41f5-885f-559cadf8c023\"}}, \"type\": \"HoverTool\", \"id\": \"d3f1ec27-f1f5-4155-aa7b-a36d6b88741e\"}, {\"attributes\": {\"num_minor_ticks\": 10}, \"type\": \"LogTicker\", \"id\": \"4bdb8756-46b4-4168-bd87-b94a4d6e2d75\"}, {\"attributes\": {\"callback\": null, \"end\": 813369600000.0, \"start\": 782956800000.0}, \"type\": \"Range1d\", \"id\": \"cbb646aa-fa3d-4f46-83ca-04216582bd4a\"}, {\"attributes\": {\"plot\": {\"subtype\": \"Figure\", \"type\": \"Plot\", \"id\": \"697fad15-f78d-41f5-885f-559cadf8c023\"}, \"axis_label\": \"date\", \"formatter\": {\"type\": \"DatetimeTickFormatter\", \"id\": \"2cb30ba7-57f3-4a98-a024-4dbc645d27d8\"}, \"ticker\": {\"type\": \"DatetimeTicker\", \"id\": \"4896287e-b17c-4229-bc7c-cf36df47267f\"}}, \"type\": \"DatetimeAxis\", \"id\": \"67e8e13f-933d-460c-8e97-7a363919fdb9\"}, {\"attributes\": {\"line_color\": {\"value\": \"#1f77b4\"}, \"line_alpha\": {\"value\": 0.1}, \"y\": {\"field\": \"ok\"}, \"x\": {\"field\": \"date\"}}, \"type\": \"Line\", \"id\": \"0e74c916-191d-4fa0-bc5b-8ff5d302d4da\"}, {\"attributes\": {\"max_interval\": 500.0, \"num_minor_ticks\": 0}, \"type\": \"AdaptiveTicker\", \"id\": \"e3a7a87e-09b9-40b3-a1c9-0c90ed76047e\"}, {\"attributes\": {\"plot\": {\"subtype\": \"Figure\", \"type\": \"Plot\", \"id\": \"697fad15-f78d-41f5-885f-559cadf8c023\"}}, \"type\": \"PreviewSaveTool\", \"id\": \"30fd0b07-4a08-4cc0-8696-d7575fccd158\"}, {\"attributes\": {\"nonselection_glyph\": {\"type\": \"Line\", \"id\": \"0e74c916-191d-4fa0-bc5b-8ff5d302d4da\"}, \"data_source\": {\"type\": \"ColumnDataSource\", \"id\": \"c901bc38-f802-42a9-9c0b-fa9058d54cec\"}, \"selection_glyph\": null, \"hover_glyph\": null, \"glyph\": {\"type\": \"Line\", \"id\": \"7de48fa3-d669-43db-b190-b034e4c330f6\"}}, \"type\": \"GlyphRenderer\", \"id\": \"afb6cf73-1989-483f-874d-d6e81dd8abeb\"}, {\"attributes\": {\"months\": [0, 2, 4, 6, 8, 10]}, \"type\": \"MonthsTicker\", \"id\": \"d90c5217-5049-4096-b314-661405ba55a5\"}, {\"attributes\": {\"plot\": {\"subtype\": \"Figure\", \"type\": \"Plot\", \"id\": \"f4dd7c56-00f7-4fbe-8889-bc4481e443f7\"}, \"axis_label\": \"content size\", \"formatter\": {\"type\": \"LogTickFormatter\", \"id\": \"4f57e896-65f3-4905-8be0-264a26c859bb\"}, \"ticker\": {\"type\": \"LogTicker\", \"id\": \"4bdb8756-46b4-4168-bd87-b94a4d6e2d75\"}}, \"type\": \"LogAxis\", \"id\": \"e2da5c61-c94f-4056-9efa-276de2e3e9fe\"}, {\"attributes\": {}, \"type\": \"BasicTickFormatter\", \"id\": \"e730ab6f-d919-4fee-bb10-a6d11c11e677\"}, {\"attributes\": {}, \"type\": \"BasicTicker\", \"id\": \"df7ca083-d9f1-4ce5-9dea-86af735d8328\"}, {\"attributes\": {}, \"type\": \"ToolEvents\", \"id\": \"c740aa92-abec-4c89-9961-6715387b6eb2\"}, {\"attributes\": {\"callback\": null, \"end\": 1000000, \"start\": 5}, \"type\": \"Range1d\", \"id\": \"b16e3f6d-3bc9-4c6f-ad50-77e1b8c94c50\"}, {\"attributes\": {\"plot\": {\"subtype\": \"Figure\", \"type\": \"Plot\", \"id\": \"f4dd7c56-00f7-4fbe-8889-bc4481e443f7\"}, \"ticker\": {\"type\": \"LogTicker\", \"id\": \"4bdb8756-46b4-4168-bd87-b94a4d6e2d75\"}}, \"type\": \"Grid\", \"id\": \"7a32e3f0-cba9-4a70-a87f-a6b15eb486da\"}, {\"attributes\": {\"line_color\": {\"value\": \"red\"}, \"x\": {\"field\": \"date\"}, \"y\": {\"field\": \"notFound\"}}, \"type\": \"Line\", \"id\": \"a51a2248-aeb7-48e1-a71e-ce0934c44459\"}, {\"attributes\": {\"months\": [0, 6]}, \"type\": \"MonthsTicker\", \"id\": \"c8f59491-e0fa-4aae-907c-1fe45cc4ca23\"}, {\"attributes\": {\"right\": {\"field\": \"right\"}, \"fill_color\": {\"value\": \"green\"}, \"bottom\": {\"field\": \"bottom\"}, \"top\": {\"field\": \"top\"}, \"fill_alpha\": {\"value\": 0.3}, \"left\": {\"field\": \"left\"}}, \"type\": \"Quad\", \"id\": \"5634d19e-7a22-4744-a4c0-79e95c51c8b9\"}, {\"attributes\": {\"line_color\": {\"value\": \"black\"}, \"line_alpha\": {\"value\": 1.0}, \"render_mode\": \"css\", \"bottom_units\": \"screen\", \"level\": \"overlay\", \"top_units\": \"screen\", \"fill_alpha\": {\"value\": 0.5}, \"plot\": null, \"left_units\": \"screen\", \"line_dash\": [4, 4], \"line_width\": {\"value\": 2}, \"right_units\": \"screen\", \"fill_color\": {\"value\": \"lightgrey\"}}, \"type\": \"BoxAnnotation\", \"id\": \"6adbfaca-a241-433f-b00e-d81b0fcb1e72\"}, {\"attributes\": {\"months\": [0, 4, 8]}, \"type\": \"MonthsTicker\", \"id\": \"f4c30dce-6dca-46c1-aa3e-981e0cd322b4\"}, {\"attributes\": {\"plot\": {\"subtype\": \"Figure\", \"type\": \"Plot\", \"id\": \"f4dd7c56-00f7-4fbe-8889-bc4481e443f7\"}, \"ticker\": {\"type\": \"LogTicker\", \"id\": \"c215958c-5364-4fc6-b480-4fbca22c13aa\"}, \"dimension\": 1}, \"type\": \"Grid\", \"id\": \"4d3e1129-7f7d-481f-8f2b-328c124e2aa2\"}, {\"attributes\": {\"x_range\": {\"type\": \"Range1d\", \"id\": \"cbb646aa-fa3d-4f46-83ca-04216582bd4a\"}, \"title\": \"Number of requests with various response codes over time\", \"y_range\": {\"type\": \"DataRange1d\", \"id\": \"e1139bb4-bcc6-4e72-be99-d06e8b9e2908\"}, \"renderers\": [{\"type\": \"DatetimeAxis\", \"id\": \"67e8e13f-933d-460c-8e97-7a363919fdb9\"}, {\"type\": \"Grid\", \"id\": \"20e67809-839e-4ad8-b2e3-bbfb68b9824d\"}, {\"type\": \"LinearAxis\", \"id\": \"1f50bc01-9197-4200-bb25-ad9560a82c42\"}, {\"type\": \"Grid\", \"id\": \"84a6f820-4318-48c3-826d-d1fa64ab2d54\"}, {\"type\": \"BoxAnnotation\", \"id\": \"6adbfaca-a241-433f-b00e-d81b0fcb1e72\"}, {\"type\": \"Legend\", \"id\": \"2b08f16e-5919-4214-b740-b2cd8c081a3f\"}, {\"type\": \"GlyphRenderer\", \"id\": \"132476fa-a318-49eb-908d-f309619958c0\"}, {\"type\": \"GlyphRenderer\", \"id\": \"afb6cf73-1989-483f-874d-d6e81dd8abeb\"}, {\"type\": \"GlyphRenderer\", \"id\": \"ecf714ae-f7ce-4af5-8ce8-f14cbc7ff296\"}, {\"type\": \"GlyphRenderer\", \"id\": \"267e8a43-7dec-41b2-8a3b-11085027f03e\"}], \"plot_width\": 1000, \"below\": [{\"type\": \"DatetimeAxis\", \"id\": \"67e8e13f-933d-460c-8e97-7a363919fdb9\"}], \"tool_events\": {\"type\": \"ToolEvents\", \"id\": \"bc05d0d9-1e61-452d-96b4-3d52ea8fbdcc\"}, \"plot_height\": 400, \"tools\": [{\"type\": \"ResetTool\", \"id\": \"c7f991c6-348c-4f10-aeda-e3722362ee28\"}, {\"type\": \"BoxZoomTool\", \"id\": \"e07e17fb-5177-459a-b5cf-3e0c06f85f8d\"}, {\"type\": \"PreviewSaveTool\", \"id\": \"30fd0b07-4a08-4cc0-8696-d7575fccd158\"}, {\"type\": \"HoverTool\", \"id\": \"d3f1ec27-f1f5-4155-aa7b-a36d6b88741e\"}], \"left\": [{\"type\": \"LinearAxis\", \"id\": \"1f50bc01-9197-4200-bb25-ad9560a82c42\"}]}, \"type\": \"Plot\", \"id\": \"697fad15-f78d-41f5-885f-559cadf8c023\", \"subtype\": \"Figure\"}, {\"attributes\": {\"plot\": {\"subtype\": \"Figure\", \"type\": \"Plot\", \"id\": \"f4dd7c56-00f7-4fbe-8889-bc4481e443f7\"}, \"axis_label\": \"number of requests\", \"formatter\": {\"type\": \"LogTickFormatter\", \"id\": \"2c2adaf9-9713-4e44-b404-54044ca95fd6\"}, \"ticker\": {\"type\": \"LogTicker\", \"id\": \"c215958c-5364-4fc6-b480-4fbca22c13aa\"}}, \"type\": \"LogAxis\", \"id\": \"79e72a4d-7f65-4cd8-8e46-cebaab42deee\"}, {\"attributes\": {\"callback\": null, \"column_names\": [\"notFound\", \"all\", \"ok\", \"textDate\", \"others\", \"date\"], \"data\": {\"notFound\": [20, 36, 144, 49, 56, 33, 11, 38, 45, 53, 94, 43, 16, 15, 28, 16, 31, 35, 13, 11, 26, 56, 39, 130, 40, 33, 29, 26, 22, 19, 47, 37, 25, 8, 14, 47, 32, 78, 19, 21, 23, 18, 96, 16, 23, 25, 34, 8, 22, 44, 282, 121, 26, 29, 42, 35, 94, 30, 46, 30, 11, 5, 11, 12, 25, 16, 11, 10, 8, 5, 14, 48, 12, 120, 22, 1, 8, 42, 39, 27, 108, 41, 14, 48, 132, 100, 27, 71, 41, 12, 35, 76, 36, 22, 44, 30, 27, 44, 145, 72, 119, 71, 160, 67, 54, 103, 76, 96, 124, 75, 25, 71, 127, 70, 73, 109, 86, 46, 42, 19, 79, 90, 59, 19, 37, 34, 43, 54, 43, 46, 23, 36, 49, 61, 122, 57, 149, 163, 28, 20, 125, 106, 45, 38, 89, 23, 57, 76, 129, 118, 89, 84, 57, 85, 115, 200, 238, 239, 308, 55, 50, 138, 148, 190, 85, 263, 91, 97, 85, 71, 82, 105, 22, 35, 44, 115, 62, 67, 78, 89, 28, 20, 43, 38, 269, 76, 40, 37, 20, 49, 49, 33, 54, 52, 66, 47, 21, 51, 59, 96, 62, 31, 37, 97, 88, 41, 93, 38, 33, 30, 62, 86, 65, 83, 51, 31, 32, 45, 80, 71, 47, 68, 71, 53, 57, 63, 41, 55, 58, 25, 20, 32, 42, 75, 60, 22, 27, 14, 63, 47, 60, 71, 54, 50, 25, 64, 68, 91, 44, 44, 61, 71, 54, 96, 52, 68, 47, 28, 20, 75, 56, 109, 211, 57, 39, 44, 132, 38, 70, 79, 74, 75, 144, 83, 92, 65, 94, 223, 22, 81, 73, 126, 148, 64, 79, 106, 33, 62, 140, 121, 40, 23, 30, 32, 128, 80, 144, 46, 47, 32, 47, 76, 66, 72, 66, 55, 45, 49, 80, 52, 106, 39, 26, 17, 16, 14, 21, 40, 67, 78, 39, 86, 117, 104, 142, 142, 165, 85, 69, 318, 211, 138, 138, 117, 67, 51, 86, 129, 102, 142, 116, 78, 80, 155, 78, 117, 100, 109, 37, 110, 69, 101, 74], \"all\": [705, 1194, 1680, 1889, 1816, 898, 902, 2083, 1886, 2106, 2112, 1775, 568, 582, 1564, 1260, 1376, 1216, 710, 487, 613, 1330, 1207, 2142, 2266, 1266, 648, 784, 1777, 1753, 1520, 1675, 1349, 681, 588, 1660, 2237, 2113, 992, 1324, 712, 591, 1790, 1378, 1524, 1467, 1413, 489, 603, 1708, 1804, 1265, 1149, 1071, 1143, 1102, 1840, 1249, 1118, 908, 457, 123, 387, 280, 513, 465, 301, 336, 301, 251, 491, 1016, 885, 1104, 587, 346, 450, 1345, 1665, 1346, 1830, 1680, 481, 760, 1958, 1488, 1670, 2306, 1958, 624, 788, 1566, 2237, 1923, 2230, 2005, 1339, 1268, 2825, 3244, 2722, 2845, 2531, 2707, 1930, 3589, 5216, 4409, 5025, 2972, 1003, 1938, 3212, 3393, 3531, 2598, 2133, 1676, 1158, 1555, 1870, 2786, 2445, 1824, 1525, 1267, 2057, 2197, 2153, 2097, 1649, 1414, 1623, 2892, 3139, 2682, 2968, 3373, 1505, 1616, 3964, 4471, 4293, 3686, 1968, 1485, 1345, 4787, 6616, 4169, 4885, 2046, 2435, 2160, 4519, 5376, 6353, 4627, 3463, 1652, 1446, 2915, 3131, 3486, 3523, 4016, 2286, 2501, 3396, 3483, 3867, 2338, 1188, 1029, 1180, 1507, 1703, 2306, 2055, 2229, 1665, 966, 1433, 1545, 2337, 1941, 2006, 1055, 822, 1511, 2078, 2426, 2320, 2402, 3307, 2300, 2268, 3318, 2836, 2400, 1654, 900, 1092, 1787, 1729, 1949, 2274, 2270, 1114, 2505, 2923, 2669, 2159, 3330, 2159, 805, 582, 1271, 1642, 1795, 1944, 1734, 999, 1117, 1734, 2378, 1715, 2061, 1670, 1028, 866, 1801, 1832, 2463, 1841, 1797, 1339, 991, 2815, 2022, 2555, 2369, 1988, 984, 1625, 2245, 2197, 2187, 1819, 1604, 810, 1221, 1740, 2580, 1955, 1747, 1285, 829, 758, 1743, 2215, 1830, 1877, 1818, 1028, 935, 2181, 1740, 1906, 1853, 2070, 1290, 1636, 2185, 2916, 2440, 2468, 2657, 1291, 1559, 2378, 2479, 3138, 2666, 2828, 1714, 1541, 1851, 2796, 2795, 2657, 1995, 1178, 1758, 2804, 2115, 2267, 2175, 2053, 991, 1374, 2219, 2374, 2774, 2318, 2260, 1256, 1242, 2207, 1937, 2297, 2018, 1191, 1019, 654, 1065, 1171, 1749, 2382, 3208, 1602, 1613, 3543, 3287, 4746, 3963, 3764, 1883, 2021, 3494, 4079, 4524, 5471, 3381, 2897, 2853, 4358, 4894, 4153, 4004, 3822, 2304, 2174, 4594, 3818, 3968, 3718, 3853, 1548, 2022, 2814, 3708, 2522], \"ok\": [660, 1107, 1431, 1714, 1632, 823, 825, 1925, 1746, 1901, 1889, 1633, 494, 527, 1441, 1175, 1267, 1110, 654, 437, 526, 1124, 1088, 1846, 1910, 1135, 573, 712, 1567, 1425, 1317, 1345, 1148, 650, 534, 1467, 1968, 1760, 910, 1229, 661, 543, 1362, 1262, 1353, 1330, 1202, 422, 554, 1457, 1312, 952, 971, 941, 972, 905, 1276, 1097, 987, 743, 408, 110, 229, 258, 454, 393, 262, 300, 278, 210, 456, 875, 798, 842, 517, 304, 388, 1131, 1351, 1106, 1591, 1262, 425, 609, 1478, 1186, 1396, 2015, 1696, 538, 638, 1204, 1938, 1669, 1983, 1726, 1196, 1082, 2273, 2741, 2315, 2503, 1986, 2393, 1709, 2979, 4431, 3552, 4228, 2408, 848, 1359, 2280, 2783, 2714, 2017, 1586, 1383, 902, 1289, 1456, 2315, 1987, 1554, 1219, 1099, 1670, 1745, 1712, 1733, 1371, 1029, 1351, 2386, 2504, 2246, 2280, 2651, 1282, 1384, 3330, 3659, 3657, 2979, 1439, 1147, 986, 3999, 5561, 3523, 3956, 1385, 1949, 1680, 3270, 3369, 4049, 3183, 2704, 1072, 1128, 2145, 2177, 2710, 3014, 2541, 1604, 1827, 2674, 2711, 2627, 1652, 1012, 883, 930, 1116, 1379, 1926, 1576, 1708, 1054, 779, 1228, 1299, 1287, 1485, 1575, 904, 709, 1183, 1667, 1721, 1846, 1820, 1278, 1684, 1640, 2501, 1965, 1668, 1327, 658, 633, 1442, 1339, 1492, 1359, 1349, 706, 862, 1383, 1718, 1251, 1332, 1024, 636, 471, 1016, 1229, 1492, 1407, 1403, 845, 914, 1421, 1764, 1426, 1614, 1370, 878, 761, 1422, 1550, 1791, 1367, 1426, 1027, 817, 1820, 1639, 1808, 1650, 1586, 699, 1304, 1727, 1665, 1690, 1490, 1233, 621, 964, 1372, 2067, 1635, 1452, 1082, 670, 544, 1396, 1812, 1385, 1461, 1363, 778, 646, 1637, 1316, 1517, 1526, 1697, 990, 1180, 1609, 2204, 1958, 1703, 1773, 1087, 1153, 2056, 2092, 2443, 2242, 2395, 1422, 1276, 1535, 2158, 2319, 2202, 1752, 898, 1375, 1981, 1796, 1881, 1866, 1751, 886, 1160, 1882, 2019, 2358, 2042, 2062, 1174, 1114, 1918, 1675, 1895, 1713, 1038, 906, 567, 939, 1001, 1466, 1955, 2645, 1309, 1312, 2755, 2779, 3581, 2736, 2866, 1555, 1564, 2438, 3003, 3265, 3417, 2472, 2143, 2029, 3336, 3728, 2912, 3046, 2942, 1714, 1690, 3488, 2927, 2995, 2723, 3086, 972, 1509, 2324, 2944, 1844], \"textDate\": [\"1994-10-24\", \"1994-10-25\", \"1994-10-26\", \"1994-10-27\", \"1994-10-28\", \"1994-10-29\", \"1994-10-30\", \"1994-10-31\", \"1994-11-01\", \"1994-11-02\", \"1994-11-03\", \"1994-11-04\", \"1994-11-05\", \"1994-11-06\", \"1994-11-07\", \"1994-11-08\", \"1994-11-09\", \"1994-11-10\", \"1994-11-11\", \"1994-11-12\", \"1994-11-13\", \"1994-11-14\", \"1994-11-15\", \"1994-11-16\", \"1994-11-17\", \"1994-11-18\", \"1994-11-19\", \"1994-11-20\", \"1994-11-21\", \"1994-11-22\", \"1994-11-23\", \"1994-11-24\", \"1994-11-25\", \"1994-11-26\", \"1994-11-27\", \"1994-11-28\", \"1994-11-29\", \"1994-11-30\", \"1994-12-01\", \"1994-12-02\", \"1994-12-03\", \"1994-12-04\", \"1994-12-05\", \"1994-12-06\", \"1994-12-07\", \"1994-12-08\", \"1994-12-09\", \"1994-12-10\", \"1994-12-11\", \"1994-12-12\", \"1994-12-13\", \"1994-12-14\", \"1994-12-15\", \"1994-12-16\", \"1994-12-17\", \"1994-12-18\", \"1994-12-19\", \"1994-12-20\", \"1994-12-21\", \"1994-12-22\", \"1994-12-23\", \"1994-12-24\", \"1994-12-25\", \"1994-12-26\", \"1994-12-27\", \"1994-12-28\", \"1994-12-29\", \"1994-12-30\", \"1994-12-31\", \"1995-01-01\", \"1995-01-02\", \"1995-01-03\", \"1995-01-04\", \"1995-01-05\", \"1995-01-06\", \"1995-01-07\", \"1995-01-08\", \"1995-01-09\", \"1995-01-10\", \"1995-01-11\", \"1995-01-12\", \"1995-01-13\", \"1995-01-14\", \"1995-01-15\", \"1995-01-16\", \"1995-01-17\", \"1995-01-18\", \"1995-01-19\", \"1995-01-20\", \"1995-01-21\", \"1995-01-22\", \"1995-01-23\", \"1995-01-24\", \"1995-01-25\", \"1995-01-26\", \"1995-01-27\", \"1995-01-28\", \"1995-01-29\", \"1995-01-30\", \"1995-01-31\", \"1995-02-01\", \"1995-02-02\", \"1995-02-03\", \"1995-02-04\", \"1995-02-05\", \"1995-02-06\", \"1995-02-07\", \"1995-02-08\", \"1995-02-09\", \"1995-02-10\", \"1995-02-11\", \"1995-02-12\", \"1995-02-13\", \"1995-02-14\", \"1995-02-15\", \"1995-02-16\", \"1995-02-17\", \"1995-02-18\", \"1995-02-19\", \"1995-02-20\", \"1995-02-21\", \"1995-02-22\", \"1995-02-23\", \"1995-02-24\", \"1995-02-25\", \"1995-02-26\", \"1995-02-27\", \"1995-02-28\", \"1995-03-01\", \"1995-03-02\", \"1995-03-03\", \"1995-03-04\", \"1995-03-05\", \"1995-03-06\", \"1995-03-07\", \"1995-03-08\", \"1995-03-09\", \"1995-03-10\", \"1995-03-11\", \"1995-03-12\", \"1995-03-13\", \"1995-03-14\", \"1995-03-15\", \"1995-03-16\", \"1995-03-17\", \"1995-03-18\", \"1995-03-19\", \"1995-03-20\", \"1995-03-21\", \"1995-03-22\", \"1995-03-23\", \"1995-03-24\", \"1995-03-25\", \"1995-03-26\", \"1995-03-27\", \"1995-03-28\", \"1995-03-29\", \"1995-03-30\", \"1995-03-31\", \"1995-04-01\", \"1995-04-02\", \"1995-04-03\", \"1995-04-04\", \"1995-04-05\", \"1995-04-06\", \"1995-04-07\", \"1995-04-08\", \"1995-04-09\", \"1995-04-10\", \"1995-04-11\", \"1995-04-12\", \"1995-04-13\", \"1995-04-14\", \"1995-04-15\", \"1995-04-16\", \"1995-04-17\", \"1995-04-18\", \"1995-04-19\", \"1995-04-20\", \"1995-04-21\", \"1995-04-22\", \"1995-04-23\", \"1995-04-24\", \"1995-04-25\", \"1995-04-26\", \"1995-04-27\", \"1995-04-28\", \"1995-04-29\", \"1995-04-30\", \"1995-05-01\", \"1995-05-02\", \"1995-05-03\", \"1995-05-04\", \"1995-05-05\", \"1995-05-06\", \"1995-05-07\", \"1995-05-08\", \"1995-05-09\", \"1995-05-10\", \"1995-05-11\", \"1995-05-12\", \"1995-05-13\", \"1995-05-14\", \"1995-05-15\", \"1995-05-16\", \"1995-05-17\", \"1995-05-18\", \"1995-05-19\", \"1995-05-20\", \"1995-05-21\", \"1995-05-22\", \"1995-05-23\", \"1995-05-24\", \"1995-05-25\", \"1995-05-26\", \"1995-05-27\", \"1995-05-28\", \"1995-05-29\", \"1995-05-30\", \"1995-05-31\", \"1995-06-01\", \"1995-06-02\", \"1995-06-03\", \"1995-06-04\", \"1995-06-05\", \"1995-06-06\", \"1995-06-07\", \"1995-06-08\", \"1995-06-09\", \"1995-06-10\", \"1995-06-11\", \"1995-06-12\", \"1995-06-13\", \"1995-06-14\", \"1995-06-15\", \"1995-06-16\", \"1995-06-17\", \"1995-06-18\", \"1995-06-19\", \"1995-06-20\", \"1995-06-21\", \"1995-06-22\", \"1995-06-23\", \"1995-06-24\", \"1995-06-25\", \"1995-06-26\", \"1995-06-27\", \"1995-06-28\", \"1995-06-29\", \"1995-06-30\", \"1995-07-01\", \"1995-07-02\", \"1995-07-03\", \"1995-07-04\", \"1995-07-05\", \"1995-07-06\", \"1995-07-07\", \"1995-07-08\", \"1995-07-09\", \"1995-07-10\", \"1995-07-11\", \"1995-07-12\", \"1995-07-13\", \"1995-07-14\", \"1995-07-15\", \"1995-07-16\", \"1995-07-17\", \"1995-07-18\", \"1995-07-19\", \"1995-07-20\", \"1995-07-21\", \"1995-07-22\", \"1995-07-23\", \"1995-07-24\", \"1995-07-25\", \"1995-07-26\", \"1995-07-27\", \"1995-07-28\", \"1995-07-29\", \"1995-07-30\", \"1995-07-31\", \"1995-08-01\", \"1995-08-02\", \"1995-08-03\", \"1995-08-04\", \"1995-08-05\", \"1995-08-06\", \"1995-08-07\", \"1995-08-08\", \"1995-08-09\", \"1995-08-10\", \"1995-08-11\", \"1995-08-12\", \"1995-08-13\", \"1995-08-14\", \"1995-08-15\", \"1995-08-16\", \"1995-08-17\", \"1995-08-18\", \"1995-08-19\", \"1995-08-20\", \"1995-08-21\", \"1995-08-22\", \"1995-08-23\", \"1995-08-24\", \"1995-08-25\", \"1995-08-26\", \"1995-08-27\", \"1995-08-28\", \"1995-08-29\", \"1995-08-30\", \"1995-08-31\", \"1995-09-01\", \"1995-09-02\", \"1995-09-03\", \"1995-09-04\", \"1995-09-05\", \"1995-09-06\", \"1995-09-07\", \"1995-09-08\", \"1995-09-09\", \"1995-09-10\", \"1995-09-11\", \"1995-09-12\", \"1995-09-13\", \"1995-09-14\", \"1995-09-15\", \"1995-09-16\", \"1995-09-17\", \"1995-09-18\", \"1995-09-19\", \"1995-09-20\", \"1995-09-21\", \"1995-09-22\", \"1995-09-23\", \"1995-09-24\", \"1995-09-25\", \"1995-09-26\", \"1995-09-27\", \"1995-09-28\", \"1995-09-29\", \"1995-09-30\", \"1995-10-01\", \"1995-10-02\", \"1995-10-03\", \"1995-10-04\", \"1995-10-05\", \"1995-10-06\", \"1995-10-07\", \"1995-10-08\", \"1995-10-09\", \"1995-10-10\", \"1995-10-11\"], \"others\": [25, 51, 105, 126, 128, 42, 66, 120, 95, 152, 129, 99, 58, 40, 95, 69, 78, 71, 43, 39, 61, 150, 80, 166, 316, 98, 46, 46, 188, 309, 156, 293, 176, 23, 40, 146, 237, 275, 63, 74, 28, 30, 332, 100, 148, 112, 177, 59, 27, 207, 210, 192, 152, 101, 129, 162, 470, 122, 85, 135, 38, 8, 147, 10, 34, 56, 28, 26, 15, 36, 21, 93, 75, 142, 48, 41, 54, 172, 275, 213, 131, 377, 42, 103, 348, 202, 247, 220, 221, 74, 115, 286, 263, 232, 203, 249, 116, 142, 407, 431, 288, 271, 385, 247, 167, 507, 709, 761, 673, 489, 130, 508, 805, 540, 744, 472, 461, 247, 214, 247, 335, 381, 399, 251, 269, 134, 344, 398, 398, 318, 255, 349, 223, 445, 513, 379, 539, 559, 195, 212, 509, 706, 591, 669, 440, 315, 302, 712, 926, 528, 840, 577, 429, 395, 1134, 1807, 2066, 1205, 451, 525, 268, 632, 806, 586, 424, 1212, 591, 577, 637, 701, 1158, 581, 154, 111, 206, 276, 262, 313, 401, 432, 583, 167, 162, 208, 781, 380, 391, 114, 93, 279, 362, 672, 420, 530, 1963, 569, 607, 766, 812, 636, 265, 211, 422, 248, 302, 416, 822, 883, 375, 1613, 1478, 865, 843, 1915, 1084, 138, 79, 210, 333, 232, 490, 263, 83, 150, 256, 551, 248, 392, 242, 125, 85, 347, 240, 597, 414, 349, 285, 160, 932, 336, 687, 648, 348, 235, 296, 454, 464, 406, 285, 327, 128, 186, 314, 417, 268, 227, 156, 131, 194, 272, 347, 336, 205, 398, 211, 245, 412, 386, 319, 248, 299, 225, 312, 493, 620, 417, 671, 661, 182, 325, 249, 261, 547, 360, 354, 186, 232, 254, 498, 355, 415, 220, 250, 351, 695, 239, 242, 263, 255, 73, 167, 261, 289, 344, 210, 143, 37, 79, 209, 210, 296, 266, 127, 96, 71, 112, 149, 243, 360, 485, 254, 215, 671, 404, 1023, 1085, 733, 243, 388, 738, 865, 1121, 1916, 792, 687, 773, 936, 1037, 1139, 816, 764, 512, 404, 951, 813, 856, 895, 658, 539, 403, 421, 663, 604], \"date\": [782956800000.0, 783043200000.0, 783129600000.0, 783216000000.0, 783302400000.0, 783388800000.0, 783475200000.0, 783561600000.0, 783648000000.0, 783734400000.0, 783820800000.0, 783907200000.0, 783993600000.0, 784080000000.0, 784166400000.0, 784252800000.0, 784339200000.0, 784425600000.0, 784512000000.0, 784598400000.0, 784684800000.0, 784771200000.0, 784857600000.0, 784944000000.0, 785030400000.0, 785116800000.0, 785203200000.0, 785289600000.0, 785376000000.0, 785462400000.0, 785548800000.0, 785635200000.0, 785721600000.0, 785808000000.0, 785894400000.0, 785980800000.0, 786067200000.0, 786153600000.0, 786240000000.0, 786326400000.0, 786412800000.0, 786499200000.0, 786585600000.0, 786672000000.0, 786758400000.0, 786844800000.0, 786931200000.0, 787017600000.0, 787104000000.0, 787190400000.0, 787276800000.0, 787363200000.0, 787449600000.0, 787536000000.0, 787622400000.0, 787708800000.0, 787795200000.0, 787881600000.0, 787968000000.0, 788054400000.0, 788140800000.0, 788227200000.0, 788313600000.0, 788400000000.0, 788486400000.0, 788572800000.0, 788659200000.0, 788745600000.0, 788832000000.0, 788918400000.0, 789004800000.0, 789091200000.0, 789177600000.0, 789264000000.0, 789350400000.0, 789436800000.0, 789523200000.0, 789609600000.0, 789696000000.0, 789782400000.0, 789868800000.0, 789955200000.0, 790041600000.0, 790128000000.0, 790214400000.0, 790300800000.0, 790387200000.0, 790473600000.0, 790560000000.0, 790646400000.0, 790732800000.0, 790819200000.0, 790905600000.0, 790992000000.0, 791078400000.0, 791164800000.0, 791251200000.0, 791337600000.0, 791424000000.0, 791510400000.0, 791596800000.0, 791683200000.0, 791769600000.0, 791856000000.0, 791942400000.0, 792028800000.0, 792115200000.0, 792201600000.0, 792288000000.0, 792374400000.0, 792460800000.0, 792547200000.0, 792633600000.0, 792720000000.0, 792806400000.0, 792892800000.0, 792979200000.0, 793065600000.0, 793152000000.0, 793238400000.0, 793324800000.0, 793411200000.0, 793497600000.0, 793584000000.0, 793670400000.0, 793756800000.0, 793843200000.0, 793929600000.0, 794016000000.0, 794102400000.0, 794188800000.0, 794275200000.0, 794361600000.0, 794448000000.0, 794534400000.0, 794620800000.0, 794707200000.0, 794793600000.0, 794880000000.0, 794966400000.0, 795052800000.0, 795139200000.0, 795225600000.0, 795312000000.0, 795398400000.0, 795484800000.0, 795571200000.0, 795657600000.0, 795744000000.0, 795830400000.0, 795916800000.0, 796003200000.0, 796089600000.0, 796176000000.0, 796262400000.0, 796348800000.0, 796435200000.0, 796521600000.0, 796608000000.0, 796694400000.0, 796780800000.0, 796867200000.0, 796953600000.0, 797040000000.0, 797126400000.0, 797212800000.0, 797299200000.0, 797385600000.0, 797472000000.0, 797558400000.0, 797644800000.0, 797731200000.0, 797817600000.0, 797904000000.0, 797990400000.0, 798076800000.0, 798163200000.0, 798249600000.0, 798336000000.0, 798422400000.0, 798508800000.0, 798595200000.0, 798681600000.0, 798768000000.0, 798854400000.0, 798940800000.0, 799027200000.0, 799113600000.0, 799200000000.0, 799286400000.0, 799372800000.0, 799459200000.0, 799545600000.0, 799632000000.0, 799718400000.0, 799804800000.0, 799891200000.0, 799977600000.0, 800064000000.0, 800150400000.0, 800236800000.0, 800323200000.0, 800409600000.0, 800496000000.0, 800582400000.0, 800668800000.0, 800755200000.0, 800841600000.0, 800928000000.0, 801014400000.0, 801100800000.0, 801187200000.0, 801273600000.0, 801360000000.0, 801446400000.0, 801532800000.0, 801619200000.0, 801705600000.0, 801792000000.0, 801878400000.0, 801964800000.0, 802051200000.0, 802137600000.0, 802224000000.0, 802310400000.0, 802396800000.0, 802483200000.0, 802569600000.0, 802656000000.0, 802742400000.0, 802828800000.0, 802915200000.0, 803001600000.0, 803088000000.0, 803174400000.0, 803260800000.0, 803347200000.0, 803433600000.0, 803520000000.0, 803606400000.0, 803692800000.0, 803779200000.0, 803865600000.0, 803952000000.0, 804038400000.0, 804124800000.0, 804211200000.0, 804297600000.0, 804384000000.0, 804470400000.0, 804556800000.0, 804643200000.0, 804729600000.0, 804816000000.0, 804902400000.0, 804988800000.0, 805075200000.0, 805161600000.0, 805248000000.0, 805334400000.0, 805420800000.0, 805507200000.0, 805593600000.0, 805680000000.0, 805766400000.0, 805852800000.0, 805939200000.0, 806025600000.0, 806112000000.0, 806198400000.0, 806284800000.0, 806371200000.0, 806457600000.0, 806544000000.0, 806630400000.0, 806716800000.0, 806803200000.0, 806889600000.0, 806976000000.0, 807062400000.0, 807148800000.0, 807235200000.0, 807321600000.0, 807408000000.0, 807494400000.0, 807580800000.0, 807667200000.0, 807753600000.0, 807840000000.0, 807926400000.0, 808012800000.0, 808099200000.0, 808185600000.0, 808272000000.0, 808358400000.0, 808444800000.0, 808531200000.0, 808617600000.0, 808704000000.0, 808790400000.0, 808876800000.0, 808963200000.0, 809049600000.0, 809136000000.0, 809222400000.0, 809308800000.0, 809395200000.0, 809481600000.0, 809568000000.0, 809654400000.0, 809740800000.0, 809827200000.0, 809913600000.0, 810000000000.0, 810086400000.0, 810172800000.0, 810259200000.0, 810345600000.0, 810432000000.0, 810518400000.0, 810604800000.0, 810691200000.0, 810777600000.0, 810864000000.0, 810950400000.0, 811036800000.0, 811123200000.0, 811209600000.0, 811296000000.0, 811382400000.0, 811468800000.0, 811555200000.0, 811641600000.0, 811728000000.0, 811814400000.0, 811900800000.0, 811987200000.0, 812073600000.0, 812160000000.0, 812246400000.0, 812332800000.0, 812419200000.0, 812505600000.0, 812592000000.0, 812678400000.0, 812764800000.0, 812851200000.0, 812937600000.0, 813024000000.0, 813110400000.0, 813196800000.0, 813283200000.0, 813369600000.0]}}, \"type\": \"ColumnDataSource\", \"id\": \"c901bc38-f802-42a9-9c0b-fa9058d54cec\"}, {\"attributes\": {\"num_minor_ticks\": 5}, \"type\": \"DatetimeTicker\", \"id\": \"4896287e-b17c-4229-bc7c-cf36df47267f\"}, {\"attributes\": {\"min_interval\": 1000.0, \"mantissas\": [1, 2, 5, 10, 15, 20, 30], \"base\": 60, \"max_interval\": 1800000.0, \"num_minor_ticks\": 0}, \"type\": \"AdaptiveTicker\", \"id\": \"6a35a662-5b3b-4622-b657-ec950a8e8085\"}, {\"attributes\": {\"nonselection_glyph\": {\"type\": \"Line\", \"id\": \"a5090fb4-fab2-46dd-954f-f072e95992b0\"}, \"data_source\": {\"type\": \"ColumnDataSource\", \"id\": \"c901bc38-f802-42a9-9c0b-fa9058d54cec\"}, \"selection_glyph\": null, \"hover_glyph\": null, \"glyph\": {\"type\": \"Line\", \"id\": \"7304bca2-fa40-4a49-852c-648b93e1b203\"}}, \"type\": \"GlyphRenderer\", \"id\": \"267e8a43-7dec-41b2-8a3b-11085027f03e\"}, {\"attributes\": {\"num_minor_ticks\": 10}, \"type\": \"LogTicker\", \"id\": \"c215958c-5364-4fc6-b480-4fbca22c13aa\"}, {\"attributes\": {\"nonselection_glyph\": {\"type\": \"Line\", \"id\": \"4c7f104c-f208-4d85-b23f-2e24681c1e02\"}, \"data_source\": {\"type\": \"ColumnDataSource\", \"id\": \"c901bc38-f802-42a9-9c0b-fa9058d54cec\"}, \"selection_glyph\": null, \"hover_glyph\": null, \"glyph\": {\"type\": \"Line\", \"id\": \"a51a2248-aeb7-48e1-a71e-ce0934c44459\"}}, \"type\": \"GlyphRenderer\", \"id\": \"ecf714ae-f7ce-4af5-8ce8-f14cbc7ff296\"}, {\"attributes\": {\"line_color\": {\"value\": \"green\"}, \"x\": {\"field\": \"date\"}, \"y\": {\"field\": \"ok\"}}, \"type\": \"Line\", \"id\": \"7de48fa3-d669-43db-b190-b034e4c330f6\"}, {\"attributes\": {\"plot\": {\"subtype\": \"Figure\", \"type\": \"Plot\", \"id\": \"697fad15-f78d-41f5-885f-559cadf8c023\"}, \"axis_label\": \"number of requests\", \"formatter\": {\"type\": \"BasicTickFormatter\", \"id\": \"e730ab6f-d919-4fee-bb10-a6d11c11e677\"}, \"ticker\": {\"type\": \"BasicTicker\", \"id\": \"df7ca083-d9f1-4ce5-9dea-86af735d8328\"}}, \"type\": \"LinearAxis\", \"id\": \"1f50bc01-9197-4200-bb25-ad9560a82c42\"}, {\"attributes\": {\"plot\": {\"subtype\": \"Figure\", \"type\": \"Plot\", \"id\": \"697fad15-f78d-41f5-885f-559cadf8c023\"}, \"legends\": [[\"all\", [{\"type\": \"GlyphRenderer\", \"id\": \"132476fa-a318-49eb-908d-f309619958c0\"}]], [\"ok\", [{\"type\": \"GlyphRenderer\", \"id\": \"afb6cf73-1989-483f-874d-d6e81dd8abeb\"}]], [\"notFound\", [{\"type\": \"GlyphRenderer\", \"id\": \"ecf714ae-f7ce-4af5-8ce8-f14cbc7ff296\"}]], [\"others\", [{\"type\": \"GlyphRenderer\", \"id\": \"267e8a43-7dec-41b2-8a3b-11085027f03e\"}]]], \"location\": \"top_left\"}, \"type\": \"Legend\", \"id\": \"2b08f16e-5919-4214-b740-b2cd8c081a3f\"}, {\"attributes\": {\"months\": [0, 1, 2, 3, 4, 5, 6, 7, 8, 9, 10, 11]}, \"type\": \"MonthsTicker\", \"id\": \"7bcb97c4-d217-4b88-b00e-7e1178bfdebc\"}, {\"attributes\": {\"days\": [1, 15]}, \"type\": \"DaysTicker\", \"id\": \"2ad3b54b-0f68-4400-9073-63515915392e\"}, {\"attributes\": {\"callback\": null, \"column_names\": [\"top\", \"right\", \"bottom\", \"left\"], \"data\": {\"top\": [18, 730, 125189, 321223, 112341, 7618, 722, 10], \"left\": [1, 10, 100, 1000, 10000, 100000, 1000000, 10000000], \"right\": [10, 100, 1000, 10000, 100000, 1000000, 10000000, 100000000], \"bottom\": [0, 0, 0, 0, 0, 0, 0, 0]}}, \"type\": \"ColumnDataSource\", \"id\": \"18925ca3-caec-42dc-b6be-943a7acd9622\"}, {\"attributes\": {\"plot\": {\"subtype\": \"Figure\", \"type\": \"Plot\", \"id\": \"697fad15-f78d-41f5-885f-559cadf8c023\"}, \"ticker\": {\"type\": \"BasicTicker\", \"id\": \"df7ca083-d9f1-4ce5-9dea-86af735d8328\"}, \"dimension\": 1}, \"type\": \"Grid\", \"id\": \"84a6f820-4318-48c3-826d-d1fa64ab2d54\"}, {\"attributes\": {}, \"type\": \"YearsTicker\", \"id\": \"2271a059-2ad9-447b-af96-74ed313c2b0d\"}, {\"attributes\": {\"line_color\": {\"value\": \"#1f77b4\"}, \"line_alpha\": {\"value\": 0.1}, \"y\": {\"field\": \"all\"}, \"x\": {\"field\": \"date\"}}, \"type\": \"Line\", \"id\": \"99ac3698-3d9c-4785-b746-642a7324ed9a\"}, {\"attributes\": {\"line_color\": {\"value\": \"cyan\"}, \"x\": {\"field\": \"date\"}, \"y\": {\"field\": \"others\"}}, \"type\": \"Line\", \"id\": \"7304bca2-fa40-4a49-852c-648b93e1b203\"}, {\"attributes\": {\"line_color\": {\"value\": \"#1f77b4\"}, \"line_alpha\": {\"value\": 0.1}, \"right\": {\"field\": \"right\"}, \"fill_color\": {\"value\": \"#1f77b4\"}, \"bottom\": {\"field\": \"bottom\"}, \"top\": {\"field\": \"top\"}, \"fill_alpha\": {\"value\": 0.1}, \"left\": {\"field\": \"left\"}}, \"type\": \"Quad\", \"id\": \"778cdad5-07aa-4385-ae1d-33db645df615\"}, {\"attributes\": {\"callback\": null, \"end\": 100000000, \"start\": 1}, \"type\": \"Range1d\", \"id\": \"901868e2-8fde-4b90-ac15-806f34393840\"}, {\"attributes\": {\"min_interval\": 3600000.0, \"mantissas\": [1, 2, 4, 6, 8, 12], \"base\": 24, \"max_interval\": 43200000.0, \"num_minor_ticks\": 0}, \"type\": \"AdaptiveTicker\", \"id\": \"7e079213-f8ce-4e8f-a0ea-455f77bd7ea1\"}, {\"attributes\": {\"nonselection_glyph\": {\"type\": \"Quad\", \"id\": \"778cdad5-07aa-4385-ae1d-33db645df615\"}, \"data_source\": {\"type\": \"ColumnDataSource\", \"id\": \"18925ca3-caec-42dc-b6be-943a7acd9622\"}, \"selection_glyph\": null, \"hover_glyph\": null, \"glyph\": {\"type\": \"Quad\", \"id\": \"5634d19e-7a22-4744-a4c0-79e95c51c8b9\"}}, \"type\": \"GlyphRenderer\", \"id\": \"2ddfde7e-873e-4c59-bcd8-da0ac1bdf391\"}, {\"attributes\": {\"days\": [1, 2, 3, 4, 5, 6, 7, 8, 9, 10, 11, 12, 13, 14, 15, 16, 17, 18, 19, 20, 21, 22, 23, 24, 25, 26, 27, 28, 29, 30, 31]}, \"type\": \"DaysTicker\", \"id\": \"17df9911-3508-4fb2-ab0d-f630bc1ed434\"}, {\"attributes\": {\"days\": [1, 8, 15, 22]}, \"type\": \"DaysTicker\", \"id\": \"cedd22a6-cc58-458f-b73e-36c019acf015\"}]}, \"title\": \"Bokeh Application\"}};\n",
       "            var render_items = [{\"notebook_comms_target\": \"a73205fc-b4c0-4881-b087-a03814c333a4\", \"docid\": \"1a97bf41-9e27-4a8c-a77d-e9c1d7721d2f\", \"elementid\": \"3c49ee59-9ac4-47ef-8abd-aa878c4153e1\", \"modelid\": \"f4dd7c56-00f7-4fbe-8889-bc4481e443f7\"}];\n",
       "            \n",
       "            Bokeh.embed.embed_items(docs_json, render_items);\n",
       "        });\n",
       "      },\n",
       "      function(Bokeh) {\n",
       "      }\n",
       "    ];\n",
       "  \n",
       "    function run_inline_js() {\n",
       "      for (var i = 0; i < inline_js.length; i++) {\n",
       "        inline_js[i](window.Bokeh);\n",
       "      }\n",
       "    }\n",
       "  \n",
       "    if (window._bokeh_is_loading === 0) {\n",
       "      console.log(\"Bokeh: BokehJS loaded, going straight to plotting\");\n",
       "      run_inline_js();\n",
       "    } else {\n",
       "      load_libs(js_urls, function() {\n",
       "        console.log(\"Bokeh: BokehJS plotting callback run at\", now());\n",
       "        run_inline_js();\n",
       "      });\n",
       "    }\n",
       "  }(this));\n",
       "</script>"
      ]
     },
     "metadata": {},
     "output_type": "display_data"
    },
    {
     "data": {
      "text/plain": [
       "<bokeh.io._CommsHandle at 0x7f6830c4e5d0>"
      ]
     },
     "execution_count": 33,
     "metadata": {},
     "output_type": "execute_result"
    }
   ],
   "source": [
    "# use bokeh for plotting with hovering tool\n",
    "source_nonzerosize = ColumnDataSource({'left': nonzerosize_histo[0][0:-1], \n",
    "                                       'right': nonzerosize_histo[0][1:],\n",
    "                                       'top': nonzerosize_histo[1],\n",
    "                                       'bottom': [0]*len(nonzerosize_histo[1])})\n",
    "p3 = figure(plot_width=800, plot_height=400,\n",
    "           tools=\"save, hover\", \n",
    "           title=\"Counting requests with a certain size of the returned content\",\n",
    "           x_axis_type=\"log\",\n",
    "           y_axis_type=\"log\",\n",
    "           x_range=[1, 10**8],\n",
    "           y_range=[5, 10**6],\n",
    "           x_axis_label='content size', \n",
    "           y_axis_label='number of requests'\n",
    "          )\n",
    "\n",
    "output_notebook()\n",
    "#output_file(\"p3.html\")\n",
    "\n",
    "hover_p3 = p3.select(dict(type=HoverTool))\n",
    "hover_p3.tooltips = OrderedDict([('size from ... to', '(@left, @right)'), ('counts', '@top')])\n",
    "\n",
    "p3.quad(left='left', right='right', top='top', bottom='bottom', source=source_nonzerosize,\n",
    "       fill_color='green', fill_alpha=0.3, line_color='black')\n",
    "\n",
    "show(p3)\n"
   ]
  },
  {
   "cell_type": "markdown",
   "metadata": {},
   "source": [
    "The distribution is bell-shaped. There are only 18 requests with very small size (below 10 bytes) of the content returned and only 10 requests with very large size (above 10^7 bytes). The most frequent size of the returned content varies from 10^3 to 10^4 bytes."
   ]
  },
  {
   "cell_type": "markdown",
   "metadata": {},
   "source": [
    "# 3. Exploring 404 Response Codes\n",
    " \n",
    "Let us explore the 404 response code logs (\"Not Found\")."
   ]
  },
  {
   "cell_type": "code",
   "execution_count": 34,
   "metadata": {
    "collapsed": false
   },
   "outputs": [
    {
     "name": "stdout",
     "output_type": "stream",
     "text": [
      "Found 23602 bad records (404 response code URLs)\n",
      "3648 of them are distinct\n"
     ]
    }
   ],
   "source": [
    "code404RecordsRDD = (accessLogsRDD\n",
    "                 .filter(lambda log: log.response_code==404)\n",
    "                 .map(lambda log: log.request)\n",
    "                 .cache())\n",
    "print 'Found %d bad records (404 response code URLs)' % code404RecordsRDD.count()\n",
    "print '%d of them are distinct' % code404RecordsRDD.distinct().count()"
   ]
  },
  {
   "cell_type": "markdown",
   "metadata": {},
   "source": [
    "What are the top-10 most frequent not-found requests? "
   ]
  },
  {
   "cell_type": "code",
   "execution_count": 35,
   "metadata": {
    "collapsed": false
   },
   "outputs": [
    {
     "data": {
      "text/plain": [
       "[(u'index.html', 4704),\n",
       " (u'4115.html', 900),\n",
       " (u'1611.html', 649),\n",
       " (u'5698.xbm', 585),\n",
       " (u'710.txt', 408),\n",
       " (u'2002.html', 258),\n",
       " (u'2177.gif', 193),\n",
       " (u'10695.ps', 161),\n",
       " (u'6555.html', 153),\n",
       " (u'487.gif', 152)]"
      ]
     },
     "execution_count": 35,
     "metadata": {},
     "output_type": "execute_result"
    }
   ],
   "source": [
    "code404RecordsRDD.map(lambda k: (k,1)).reduceByKey(lambda u,v : u+v).takeOrdered(10, lambda x: -x[1])\n",
    "# another option would be to use countByValue action and  return the whole dictionary to the driver program\n",
    "#sorted(code404RecordsRDD.countByValue().iteritems(), key=lambda (k,v): v, reverse=True)[:10]"
   ]
  },
  {
   "cell_type": "markdown",
   "metadata": {
    "collapsed": false
   },
   "source": [
    "Having a look at the most frequently non-found request in this list ('index.html'), we recall that it was also requested most frequently. It would be more interesting to know what are the top-10 404-code records as percentage of their requests"
   ]
  },
  {
   "cell_type": "code",
   "execution_count": 36,
   "metadata": {
    "collapsed": false
   },
   "outputs": [
    {
     "name": "stdout",
     "output_type": "stream",
     "text": [
      "These 10 failed at most (actually always):\n",
      "[(u'2198.html', 1.0),\n",
      " (u'1292.org/contrib/', 1.0),\n",
      " (u'1814.html', 1.0),\n",
      " (u'6693.html', 1.0),\n",
      " (u'10682.html#ksi_info', 1.0),\n",
      " (u'9241.html', 1.0),\n",
      " (u'11750.htmI', 1.0),\n",
      " (u'4769.gif', 1.0),\n",
      " (u'4592.html', 1.0),\n",
      " (u'1999.html', 1.0)]\n",
      "These 10 failed at least (actually never):\n",
      "[(u'2544.jpg', 0.0),\n",
      " (u'3153.html', 0.0),\n",
      " (u'2103.html', 0.0),\n",
      " (u'8792.map?369,274', 0.0),\n",
      " (u'9537.gif', 0.0),\n",
      " (u'2345.gif', 0.0),\n",
      " (u'2990.html', 0.0),\n",
      " (u'10260.gif', 0.0),\n",
      " (u'8962.gif\"', 0.0),\n",
      " (u'8718.html', 0.0)]\n"
     ]
    }
   ],
   "source": [
    "percentage404codeRecordsRDD = (accessLogsRDD\n",
    "                           .map(lambda log: (log.request, log.response_code))\n",
    "                           .combineByKey(lambda v: (int(v==404), 1),\n",
    "                                         lambda x,v: (x[0]+int(v==404), x[1]+1),\n",
    "                                         lambda x,y: (x[0]+y[0], x[1]+y[1]))\n",
    "                           .mapValues(lambda v: v[0]/float(v[1]) )\n",
    "                           .cache())\n",
    "#percentageBadRecordsRDD.take(20)                          \n",
    "print \"These 10 failed at most (actually always):\" \n",
    "pprint(percentage404codeRecordsRDD.takeOrdered(10, lambda x: -x[1]))\n",
    "print \"These 10 failed at least (actually never):\" \n",
    "pprint(percentage404codeRecordsRDD.takeOrdered(10, lambda x: x[1]))                          "
   ]
  },
  {
   "cell_type": "markdown",
   "metadata": {},
   "source": [
    "Let us make a histogram for the percentage of 404 response codes"
   ]
  },
  {
   "cell_type": "code",
   "execution_count": 37,
   "metadata": {
    "collapsed": false
   },
   "outputs": [
    {
     "data": {
      "text/html": [
       "\n",
       "\n",
       "    <script type=\"text/javascript\">\n",
       "      \n",
       "      (function(global) {\n",
       "        function now() {\n",
       "          return new Date();\n",
       "        }\n",
       "      \n",
       "        if (typeof (window._bokeh_onload_callbacks) === \"undefined\") {\n",
       "          window._bokeh_onload_callbacks = [];\n",
       "        }\n",
       "      \n",
       "        function run_callbacks() {\n",
       "          window._bokeh_onload_callbacks.forEach(function(callback) { callback() });\n",
       "          delete window._bokeh_onload_callbacks\n",
       "          console.info(\"Bokeh: all callbacks have finished\");\n",
       "        }\n",
       "      \n",
       "        function load_libs(js_urls, callback) {\n",
       "          window._bokeh_onload_callbacks.push(callback);\n",
       "          if (window._bokeh_is_loading > 0) {\n",
       "            console.log(\"Bokeh: BokehJS is being loaded, scheduling callback at\", now());\n",
       "            return null;\n",
       "          }\n",
       "          if (js_urls == null || js_urls.length === 0) {\n",
       "            run_callbacks();\n",
       "            return null;\n",
       "          }\n",
       "          console.log(\"Bokeh: BokehJS not loaded, scheduling load and callback at\", now());\n",
       "          window._bokeh_is_loading = js_urls.length;\n",
       "          for (var i = 0; i < js_urls.length; i++) {\n",
       "            var url = js_urls[i];\n",
       "            var s = document.createElement('script');\n",
       "            s.src = url;\n",
       "            s.async = false;\n",
       "            s.onreadystatechange = s.onload = function() {\n",
       "              window._bokeh_is_loading--;\n",
       "              if (window._bokeh_is_loading === 0) {\n",
       "                console.log(\"Bokeh: all BokehJS libraries loaded\");\n",
       "                run_callbacks()\n",
       "              }\n",
       "            };\n",
       "            s.onerror = function() {\n",
       "              console.warn(\"failed to load library \" + url);\n",
       "            };\n",
       "            console.log(\"Bokeh: injecting script tag for BokehJS library: \", url);\n",
       "            document.getElementsByTagName(\"head\")[0].appendChild(s);\n",
       "          }\n",
       "        };var js_urls = ['https://cdn.pydata.org/bokeh/release/bokeh-0.11.0.min.js', 'https://cdn.pydata.org/bokeh/release/bokeh-widgets-0.11.0.min.js', 'https://cdn.pydata.org/bokeh/release/bokeh-compiler-0.11.0.min.js'];\n",
       "      \n",
       "        var inline_js = [\n",
       "          function(Bokeh) {\n",
       "            Bokeh.set_log_level(\"info\");\n",
       "          },\n",
       "          function(Bokeh) {\n",
       "            console.log(\"Bokeh: injecting CSS: https://cdn.pydata.org/bokeh/release/bokeh-0.11.0.min.css\");\n",
       "            Bokeh.embed.inject_css(\"https://cdn.pydata.org/bokeh/release/bokeh-0.11.0.min.css\");\n",
       "            console.log(\"Bokeh: injecting CSS: https://cdn.pydata.org/bokeh/release/bokeh-widgets-0.11.0.min.css\");\n",
       "            Bokeh.embed.inject_css(\"https://cdn.pydata.org/bokeh/release/bokeh-widgets-0.11.0.min.css\");\n",
       "          }\n",
       "        ];\n",
       "      \n",
       "        function run_inline_js() {\n",
       "          for (var i = 0; i < inline_js.length; i++) {\n",
       "            inline_js[i](window.Bokeh);\n",
       "          }\n",
       "        }\n",
       "      \n",
       "        if (window._bokeh_is_loading === 0) {\n",
       "          console.log(\"Bokeh: BokehJS loaded, going straight to plotting\");\n",
       "          run_inline_js();\n",
       "        } else {\n",
       "          load_libs(js_urls, function() {\n",
       "            console.log(\"Bokeh: BokehJS plotting callback run at\", now());\n",
       "            run_inline_js();\n",
       "          });\n",
       "        }\n",
       "      }(this));\n",
       "    </script>\n",
       "    <div>\n",
       "        <a href=\"http://bokeh.pydata.org\" target=\"_blank\" class=\"bk-logo bk-logo-small bk-logo-notebook\"></a>\n",
       "        <span>BokehJS successfully loaded.</span>\n",
       "    </div>"
      ]
     },
     "metadata": {},
     "output_type": "display_data"
    },
    {
     "data": {
      "text/html": [
       "\n",
       "\n",
       "    <div class=\"plotdiv\" id=\"243f11b7-81f3-48f2-ac7e-43ddf18c1a72\"></div>\n",
       "<script type=\"text/javascript\">\n",
       "  \n",
       "  (function(global) {\n",
       "    function now() {\n",
       "      return new Date();\n",
       "    }\n",
       "  \n",
       "    if (typeof (window._bokeh_onload_callbacks) === \"undefined\") {\n",
       "      window._bokeh_onload_callbacks = [];\n",
       "    }\n",
       "  \n",
       "    function run_callbacks() {\n",
       "      window._bokeh_onload_callbacks.forEach(function(callback) { callback() });\n",
       "      delete window._bokeh_onload_callbacks\n",
       "      console.info(\"Bokeh: all callbacks have finished\");\n",
       "    }\n",
       "  \n",
       "    function load_libs(js_urls, callback) {\n",
       "      window._bokeh_onload_callbacks.push(callback);\n",
       "      if (window._bokeh_is_loading > 0) {\n",
       "        console.log(\"Bokeh: BokehJS is being loaded, scheduling callback at\", now());\n",
       "        return null;\n",
       "      }\n",
       "      if (js_urls == null || js_urls.length === 0) {\n",
       "        run_callbacks();\n",
       "        return null;\n",
       "      }\n",
       "      console.log(\"Bokeh: BokehJS not loaded, scheduling load and callback at\", now());\n",
       "      window._bokeh_is_loading = js_urls.length;\n",
       "      for (var i = 0; i < js_urls.length; i++) {\n",
       "        var url = js_urls[i];\n",
       "        var s = document.createElement('script');\n",
       "        s.src = url;\n",
       "        s.async = false;\n",
       "        s.onreadystatechange = s.onload = function() {\n",
       "          window._bokeh_is_loading--;\n",
       "          if (window._bokeh_is_loading === 0) {\n",
       "            console.log(\"Bokeh: all BokehJS libraries loaded\");\n",
       "            run_callbacks()\n",
       "          }\n",
       "        };\n",
       "        s.onerror = function() {\n",
       "          console.warn(\"failed to load library \" + url);\n",
       "        };\n",
       "        console.log(\"Bokeh: injecting script tag for BokehJS library: \", url);\n",
       "        document.getElementsByTagName(\"head\")[0].appendChild(s);\n",
       "      }\n",
       "    };var element = document.getElementById(\"243f11b7-81f3-48f2-ac7e-43ddf18c1a72\");\n",
       "    if (element == null) {\n",
       "      console.log(\"Bokeh: ERROR: autoload.js configured with elementid '243f11b7-81f3-48f2-ac7e-43ddf18c1a72' but no matching script tag was found. \")\n",
       "      return false;\n",
       "    }var js_urls = [];\n",
       "  \n",
       "    var inline_js = [\n",
       "      function(Bokeh) {\n",
       "        Bokeh.$(function() {\n",
       "            var docs_json = {\"2155a915-b001-4c30-a24f-27dee788596f\": {\"version\": \"0.11.0\", \"roots\": {\"root_ids\": [\"697fad15-f78d-41f5-885f-559cadf8c023\", \"f4dd7c56-00f7-4fbe-8889-bc4481e443f7\", \"cb7a3d1e-060f-4ea1-95c3-a497a2a4adcf\"], \"references\": [{\"attributes\": {\"line_color\": {\"value\": \"#1f77b4\"}, \"line_alpha\": {\"value\": 0.1}, \"right\": {\"field\": \"right\"}, \"fill_color\": {\"value\": \"#1f77b4\"}, \"bottom\": {\"field\": \"bottom\"}, \"top\": {\"field\": \"top\"}, \"fill_alpha\": {\"value\": 0.1}, \"left\": {\"field\": \"left\"}}, \"type\": \"Quad\", \"id\": \"4c56dfa2-4ba7-4e9a-b4dd-e474900acc80\"}, {\"attributes\": {\"plot\": {\"subtype\": \"Figure\", \"type\": \"Plot\", \"id\": \"f4dd7c56-00f7-4fbe-8889-bc4481e443f7\"}}, \"type\": \"PreviewSaveTool\", \"id\": \"5b68de3f-007f-4639-890b-98ece32bde1f\"}, {\"attributes\": {\"plot\": {\"subtype\": \"Figure\", \"type\": \"Plot\", \"id\": \"697fad15-f78d-41f5-885f-559cadf8c023\"}, \"overlay\": {\"type\": \"BoxAnnotation\", \"id\": \"6adbfaca-a241-433f-b00e-d81b0fcb1e72\"}}, \"type\": \"BoxZoomTool\", \"id\": \"e07e17fb-5177-459a-b5cf-3e0c06f85f8d\"}, {\"attributes\": {\"line_color\": {\"value\": \"#1f77b4\"}, \"line_alpha\": {\"value\": 0.1}, \"y\": {\"field\": \"others\"}, \"x\": {\"field\": \"date\"}}, \"type\": \"Line\", \"id\": \"a5090fb4-fab2-46dd-954f-f072e95992b0\"}, {\"attributes\": {\"line_color\": {\"value\": \"blue\"}, \"x\": {\"field\": \"date\"}, \"y\": {\"field\": \"all\"}}, \"type\": \"Line\", \"id\": \"325fe298-cef5-4d50-8c46-16d396cce267\"}, {\"attributes\": {\"nonselection_glyph\": {\"type\": \"Line\", \"id\": \"99ac3698-3d9c-4785-b746-642a7324ed9a\"}, \"data_source\": {\"type\": \"ColumnDataSource\", \"id\": \"c901bc38-f802-42a9-9c0b-fa9058d54cec\"}, \"selection_glyph\": null, \"hover_glyph\": null, \"glyph\": {\"type\": \"Line\", \"id\": \"325fe298-cef5-4d50-8c46-16d396cce267\"}}, \"type\": \"GlyphRenderer\", \"id\": \"132476fa-a318-49eb-908d-f309619958c0\"}, {\"attributes\": {\"tooltips\": [[\"notFound percentage from ... to\", \"(@left{0%}, @right{0%})\"], [\"counts\", \"@top\"]], \"callback\": null, \"plot\": {\"subtype\": \"Figure\", \"type\": \"Plot\", \"id\": \"cb7a3d1e-060f-4ea1-95c3-a497a2a4adcf\"}}, \"type\": \"HoverTool\", \"id\": \"bf799018-fd5b-49d9-a471-4f5d396397cf\"}, {\"attributes\": {\"tooltips\": [[\"size from ... to\", \"(@left, @right)\"], [\"counts\", \"@top\"]], \"callback\": null, \"plot\": {\"subtype\": \"Figure\", \"type\": \"Plot\", \"id\": \"f4dd7c56-00f7-4fbe-8889-bc4481e443f7\"}}, \"type\": \"HoverTool\", \"id\": \"9c388ccb-54da-4531-97dd-4ab92b4eb9ac\"}, {\"attributes\": {\"line_color\": {\"value\": \"#1f77b4\"}, \"line_alpha\": {\"value\": 0.1}, \"y\": {\"field\": \"notFound\"}, \"x\": {\"field\": \"date\"}}, \"type\": \"Line\", \"id\": \"4c7f104c-f208-4d85-b23f-2e24681c1e02\"}, {\"attributes\": {\"plot\": {\"subtype\": \"Figure\", \"type\": \"Plot\", \"id\": \"cb7a3d1e-060f-4ea1-95c3-a497a2a4adcf\"}, \"ticker\": {\"type\": \"LogTicker\", \"id\": \"19cd34d0-3d11-420d-b3ad-c835e772ba96\"}, \"dimension\": 1}, \"type\": \"Grid\", \"id\": \"10ecf0b5-0993-4501-bdae-00da28296a55\"}, {\"attributes\": {\"x_range\": {\"type\": \"Range1d\", \"id\": \"901868e2-8fde-4b90-ac15-806f34393840\"}, \"y_mapper_type\": \"log\", \"title\": \"Counting requests with a certain size of the returned content\", \"y_range\": {\"type\": \"Range1d\", \"id\": \"b16e3f6d-3bc9-4c6f-ad50-77e1b8c94c50\"}, \"x_mapper_type\": \"log\", \"renderers\": [{\"type\": \"LogAxis\", \"id\": \"e2da5c61-c94f-4056-9efa-276de2e3e9fe\"}, {\"type\": \"Grid\", \"id\": \"7a32e3f0-cba9-4a70-a87f-a6b15eb486da\"}, {\"type\": \"LogAxis\", \"id\": \"79e72a4d-7f65-4cd8-8e46-cebaab42deee\"}, {\"type\": \"Grid\", \"id\": \"4d3e1129-7f7d-481f-8f2b-328c124e2aa2\"}, {\"type\": \"GlyphRenderer\", \"id\": \"2ddfde7e-873e-4c59-bcd8-da0ac1bdf391\"}], \"plot_width\": 800, \"below\": [{\"type\": \"LogAxis\", \"id\": \"e2da5c61-c94f-4056-9efa-276de2e3e9fe\"}], \"tool_events\": {\"type\": \"ToolEvents\", \"id\": \"c740aa92-abec-4c89-9961-6715387b6eb2\"}, \"plot_height\": 400, \"tools\": [{\"type\": \"PreviewSaveTool\", \"id\": \"5b68de3f-007f-4639-890b-98ece32bde1f\"}, {\"type\": \"HoverTool\", \"id\": \"9c388ccb-54da-4531-97dd-4ab92b4eb9ac\"}], \"left\": [{\"type\": \"LogAxis\", \"id\": \"79e72a4d-7f65-4cd8-8e46-cebaab42deee\"}]}, \"type\": \"Plot\", \"id\": \"f4dd7c56-00f7-4fbe-8889-bc4481e443f7\", \"subtype\": \"Figure\"}, {\"attributes\": {\"plot\": {\"subtype\": \"Figure\", \"type\": \"Plot\", \"id\": \"697fad15-f78d-41f5-885f-559cadf8c023\"}, \"ticker\": {\"type\": \"DatetimeTicker\", \"id\": \"4896287e-b17c-4229-bc7c-cf36df47267f\"}}, \"type\": \"Grid\", \"id\": \"20e67809-839e-4ad8-b2e3-bbfb68b9824d\"}, {\"attributes\": {\"plot\": {\"subtype\": \"Figure\", \"type\": \"Plot\", \"id\": \"697fad15-f78d-41f5-885f-559cadf8c023\"}}, \"type\": \"ResetTool\", \"id\": \"c7f991c6-348c-4f10-aeda-e3722362ee28\"}, {\"attributes\": {\"x_range\": {\"type\": \"Range1d\", \"id\": \"41e8640a-735b-49b6-92c8-46027d005ab4\"}, \"y_mapper_type\": \"log\", \"title\": \"Counting requests with a certain percentage of notFound\", \"y_range\": {\"type\": \"Range1d\", \"id\": \"db1bec48-444b-4519-b2fc-b0f109562025\"}, \"renderers\": [{\"type\": \"LinearAxis\", \"id\": \"0915dc29-2ceb-4d57-a54e-f0651a970178\"}, {\"type\": \"Grid\", \"id\": \"74db6278-4160-4c1c-b04e-8145a8dba6ae\"}, {\"type\": \"LogAxis\", \"id\": \"3882a9c1-d320-40cb-904c-eaaef787bc92\"}, {\"type\": \"Grid\", \"id\": \"10ecf0b5-0993-4501-bdae-00da28296a55\"}, {\"type\": \"GlyphRenderer\", \"id\": \"0b5b22a3-6e00-41ee-8436-7b6e2844b828\"}], \"plot_width\": 800, \"below\": [{\"type\": \"LinearAxis\", \"id\": \"0915dc29-2ceb-4d57-a54e-f0651a970178\"}], \"tool_events\": {\"type\": \"ToolEvents\", \"id\": \"7923d13f-1950-4c7d-b2ff-f57f231a119c\"}, \"plot_height\": 400, \"tools\": [{\"type\": \"PreviewSaveTool\", \"id\": \"0182c81b-5f05-4718-8a8c-142b9598247d\"}, {\"type\": \"HoverTool\", \"id\": \"bf799018-fd5b-49d9-a471-4f5d396397cf\"}], \"left\": [{\"type\": \"LogAxis\", \"id\": \"3882a9c1-d320-40cb-904c-eaaef787bc92\"}]}, \"type\": \"Plot\", \"id\": \"cb7a3d1e-060f-4ea1-95c3-a497a2a4adcf\", \"subtype\": \"Figure\"}, {\"attributes\": {\"ticker\": null}, \"type\": \"LogTickFormatter\", \"id\": \"4f57e896-65f3-4905-8be0-264a26c859bb\"}, {\"attributes\": {}, \"type\": \"ToolEvents\", \"id\": \"bc05d0d9-1e61-452d-96b4-3d52ea8fbdcc\"}, {\"attributes\": {\"days\": [1, 4, 7, 10, 13, 16, 19, 22, 25, 28]}, \"type\": \"DaysTicker\", \"id\": \"0391fece-3ff3-4497-8940-7e1dade41785\"}, {\"attributes\": {\"callback\": null}, \"type\": \"DataRange1d\", \"id\": \"e1139bb4-bcc6-4e72-be99-d06e8b9e2908\"}, {\"attributes\": {\"right\": {\"field\": \"right\"}, \"fill_color\": {\"value\": \"blue\"}, \"bottom\": {\"field\": \"bottom\"}, \"top\": {\"field\": \"top\"}, \"fill_alpha\": {\"value\": 0.3}, \"left\": {\"field\": \"left\"}}, \"type\": \"Quad\", \"id\": \"b251fb25-4016-4bfc-b25b-8b1f67a4a605\"}, {\"attributes\": {\"ticker\": null}, \"type\": \"LogTickFormatter\", \"id\": \"2c2adaf9-9713-4e44-b404-54044ca95fd6\"}, {\"attributes\": {\"x_range\": {\"type\": \"Range1d\", \"id\": \"cbb646aa-fa3d-4f46-83ca-04216582bd4a\"}, \"title\": \"Number of requests with various response codes over time\", \"y_range\": {\"type\": \"DataRange1d\", \"id\": \"e1139bb4-bcc6-4e72-be99-d06e8b9e2908\"}, \"renderers\": [{\"type\": \"DatetimeAxis\", \"id\": \"67e8e13f-933d-460c-8e97-7a363919fdb9\"}, {\"type\": \"Grid\", \"id\": \"20e67809-839e-4ad8-b2e3-bbfb68b9824d\"}, {\"type\": \"LinearAxis\", \"id\": \"1f50bc01-9197-4200-bb25-ad9560a82c42\"}, {\"type\": \"Grid\", \"id\": \"84a6f820-4318-48c3-826d-d1fa64ab2d54\"}, {\"type\": \"BoxAnnotation\", \"id\": \"6adbfaca-a241-433f-b00e-d81b0fcb1e72\"}, {\"type\": \"Legend\", \"id\": \"2b08f16e-5919-4214-b740-b2cd8c081a3f\"}, {\"type\": \"GlyphRenderer\", \"id\": \"132476fa-a318-49eb-908d-f309619958c0\"}, {\"type\": \"GlyphRenderer\", \"id\": \"afb6cf73-1989-483f-874d-d6e81dd8abeb\"}, {\"type\": \"GlyphRenderer\", \"id\": \"ecf714ae-f7ce-4af5-8ce8-f14cbc7ff296\"}, {\"type\": \"GlyphRenderer\", \"id\": \"267e8a43-7dec-41b2-8a3b-11085027f03e\"}], \"plot_width\": 1000, \"below\": [{\"type\": \"DatetimeAxis\", \"id\": \"67e8e13f-933d-460c-8e97-7a363919fdb9\"}], \"tool_events\": {\"type\": \"ToolEvents\", \"id\": \"bc05d0d9-1e61-452d-96b4-3d52ea8fbdcc\"}, \"plot_height\": 400, \"tools\": [{\"type\": \"ResetTool\", \"id\": \"c7f991c6-348c-4f10-aeda-e3722362ee28\"}, {\"type\": \"BoxZoomTool\", \"id\": \"e07e17fb-5177-459a-b5cf-3e0c06f85f8d\"}, {\"type\": \"PreviewSaveTool\", \"id\": \"30fd0b07-4a08-4cc0-8696-d7575fccd158\"}, {\"type\": \"HoverTool\", \"id\": \"d3f1ec27-f1f5-4155-aa7b-a36d6b88741e\"}], \"left\": [{\"type\": \"LinearAxis\", \"id\": \"1f50bc01-9197-4200-bb25-ad9560a82c42\"}]}, \"type\": \"Plot\", \"id\": \"697fad15-f78d-41f5-885f-559cadf8c023\", \"subtype\": \"Figure\"}, {\"attributes\": {\"tooltips\": [[\"date\", \"@textDate\"], [\"all\", \"@all\"], [\"ok\", \"@ok\"], [\"notFound\", \"@notFound\"], [\"others\", \"@others\"]], \"callback\": null, \"plot\": {\"subtype\": \"Figure\", \"type\": \"Plot\", \"id\": \"697fad15-f78d-41f5-885f-559cadf8c023\"}}, \"type\": \"HoverTool\", \"id\": \"d3f1ec27-f1f5-4155-aa7b-a36d6b88741e\"}, {\"attributes\": {}, \"type\": \"DatetimeTickFormatter\", \"id\": \"2cb30ba7-57f3-4a98-a024-4dbc645d27d8\"}, {\"attributes\": {}, \"type\": \"BasicTickFormatter\", \"id\": \"f890be33-be25-4796-86a1-e9fb9542c3c6\"}, {\"attributes\": {\"callback\": null, \"end\": 813369600000.0, \"start\": 782956800000.0}, \"type\": \"Range1d\", \"id\": \"cbb646aa-fa3d-4f46-83ca-04216582bd4a\"}, {\"attributes\": {\"plot\": {\"subtype\": \"Figure\", \"type\": \"Plot\", \"id\": \"697fad15-f78d-41f5-885f-559cadf8c023\"}, \"axis_label\": \"date\", \"formatter\": {\"type\": \"DatetimeTickFormatter\", \"id\": \"2cb30ba7-57f3-4a98-a024-4dbc645d27d8\"}, \"ticker\": {\"type\": \"DatetimeTicker\", \"id\": \"4896287e-b17c-4229-bc7c-cf36df47267f\"}}, \"type\": \"DatetimeAxis\", \"id\": \"67e8e13f-933d-460c-8e97-7a363919fdb9\"}, {\"attributes\": {\"callback\": null}, \"type\": \"Range1d\", \"id\": \"41e8640a-735b-49b6-92c8-46027d005ab4\"}, {\"attributes\": {\"line_color\": {\"value\": \"#1f77b4\"}, \"line_alpha\": {\"value\": 0.1}, \"y\": {\"field\": \"ok\"}, \"x\": {\"field\": \"date\"}}, \"type\": \"Line\", \"id\": \"0e74c916-191d-4fa0-bc5b-8ff5d302d4da\"}, {\"attributes\": {\"max_interval\": 500.0, \"num_minor_ticks\": 0}, \"type\": \"AdaptiveTicker\", \"id\": \"e3a7a87e-09b9-40b3-a1c9-0c90ed76047e\"}, {\"attributes\": {\"plot\": {\"subtype\": \"Figure\", \"type\": \"Plot\", \"id\": \"cb7a3d1e-060f-4ea1-95c3-a497a2a4adcf\"}, \"ticker\": {\"type\": \"BasicTicker\", \"id\": \"813f9893-7833-4fec-9cb5-2c0c8f7b29ba\"}}, \"type\": \"Grid\", \"id\": \"74db6278-4160-4c1c-b04e-8145a8dba6ae\"}, {\"attributes\": {\"plot\": {\"subtype\": \"Figure\", \"type\": \"Plot\", \"id\": \"697fad15-f78d-41f5-885f-559cadf8c023\"}}, \"type\": \"PreviewSaveTool\", \"id\": \"30fd0b07-4a08-4cc0-8696-d7575fccd158\"}, {\"attributes\": {\"nonselection_glyph\": {\"type\": \"Line\", \"id\": \"0e74c916-191d-4fa0-bc5b-8ff5d302d4da\"}, \"data_source\": {\"type\": \"ColumnDataSource\", \"id\": \"c901bc38-f802-42a9-9c0b-fa9058d54cec\"}, \"selection_glyph\": null, \"hover_glyph\": null, \"glyph\": {\"type\": \"Line\", \"id\": \"7de48fa3-d669-43db-b190-b034e4c330f6\"}}, \"type\": \"GlyphRenderer\", \"id\": \"afb6cf73-1989-483f-874d-d6e81dd8abeb\"}, {\"attributes\": {\"months\": [0, 2, 4, 6, 8, 10]}, \"type\": \"MonthsTicker\", \"id\": \"d90c5217-5049-4096-b314-661405ba55a5\"}, {\"attributes\": {\"plot\": {\"subtype\": \"Figure\", \"type\": \"Plot\", \"id\": \"cb7a3d1e-060f-4ea1-95c3-a497a2a4adcf\"}}, \"type\": \"PreviewSaveTool\", \"id\": \"0182c81b-5f05-4718-8a8c-142b9598247d\"}, {\"attributes\": {}, \"type\": \"BasicTickFormatter\", \"id\": \"e730ab6f-d919-4fee-bb10-a6d11c11e677\"}, {\"attributes\": {}, \"type\": \"ToolEvents\", \"id\": \"7923d13f-1950-4c7d-b2ff-f57f231a119c\"}, {\"attributes\": {\"nonselection_glyph\": {\"type\": \"Line\", \"id\": \"a5090fb4-fab2-46dd-954f-f072e95992b0\"}, \"data_source\": {\"type\": \"ColumnDataSource\", \"id\": \"c901bc38-f802-42a9-9c0b-fa9058d54cec\"}, \"selection_glyph\": null, \"hover_glyph\": null, \"glyph\": {\"type\": \"Line\", \"id\": \"7304bca2-fa40-4a49-852c-648b93e1b203\"}}, \"type\": \"GlyphRenderer\", \"id\": \"267e8a43-7dec-41b2-8a3b-11085027f03e\"}, {\"attributes\": {\"ticker\": null}, \"type\": \"LogTickFormatter\", \"id\": \"83372e4e-bf70-4f55-b2d9-aad5d74c984d\"}, {\"attributes\": {\"line_color\": {\"value\": \"red\"}, \"x\": {\"field\": \"date\"}, \"y\": {\"field\": \"notFound\"}}, \"type\": \"Line\", \"id\": \"a51a2248-aeb7-48e1-a71e-ce0934c44459\"}, {\"attributes\": {\"callback\": null, \"end\": 100000000, \"start\": 1}, \"type\": \"Range1d\", \"id\": \"901868e2-8fde-4b90-ac15-806f34393840\"}, {\"attributes\": {\"right\": {\"field\": \"right\"}, \"fill_color\": {\"value\": \"green\"}, \"bottom\": {\"field\": \"bottom\"}, \"top\": {\"field\": \"top\"}, \"fill_alpha\": {\"value\": 0.3}, \"left\": {\"field\": \"left\"}}, \"type\": \"Quad\", \"id\": \"5634d19e-7a22-4744-a4c0-79e95c51c8b9\"}, {\"attributes\": {\"num_minor_ticks\": 10}, \"type\": \"LogTicker\", \"id\": \"4bdb8756-46b4-4168-bd87-b94a4d6e2d75\"}, {\"attributes\": {\"nonselection_glyph\": {\"type\": \"Quad\", \"id\": \"778cdad5-07aa-4385-ae1d-33db645df615\"}, \"data_source\": {\"type\": \"ColumnDataSource\", \"id\": \"18925ca3-caec-42dc-b6be-943a7acd9622\"}, \"selection_glyph\": null, \"hover_glyph\": null, \"glyph\": {\"type\": \"Quad\", \"id\": \"5634d19e-7a22-4744-a4c0-79e95c51c8b9\"}}, \"type\": \"GlyphRenderer\", \"id\": \"2ddfde7e-873e-4c59-bcd8-da0ac1bdf391\"}, {\"attributes\": {\"line_color\": {\"value\": \"black\"}, \"line_alpha\": {\"value\": 1.0}, \"render_mode\": \"css\", \"bottom_units\": \"screen\", \"level\": \"overlay\", \"top_units\": \"screen\", \"fill_alpha\": {\"value\": 0.5}, \"plot\": null, \"left_units\": \"screen\", \"line_dash\": [4, 4], \"line_width\": {\"value\": 2}, \"right_units\": \"screen\", \"fill_color\": {\"value\": \"lightgrey\"}}, \"type\": \"BoxAnnotation\", \"id\": \"6adbfaca-a241-433f-b00e-d81b0fcb1e72\"}, {\"attributes\": {\"months\": [0, 4, 8]}, \"type\": \"MonthsTicker\", \"id\": \"f4c30dce-6dca-46c1-aa3e-981e0cd322b4\"}, {\"attributes\": {}, \"type\": \"BasicTicker\", \"id\": \"df7ca083-d9f1-4ce5-9dea-86af735d8328\"}, {\"attributes\": {\"plot\": {\"subtype\": \"Figure\", \"type\": \"Plot\", \"id\": \"f4dd7c56-00f7-4fbe-8889-bc4481e443f7\"}, \"ticker\": {\"type\": \"LogTicker\", \"id\": \"c215958c-5364-4fc6-b480-4fbca22c13aa\"}, \"dimension\": 1}, \"type\": \"Grid\", \"id\": \"4d3e1129-7f7d-481f-8f2b-328c124e2aa2\"}, {\"attributes\": {\"plot\": {\"subtype\": \"Figure\", \"type\": \"Plot\", \"id\": \"cb7a3d1e-060f-4ea1-95c3-a497a2a4adcf\"}, \"axis_label\": \"number of requests\", \"formatter\": {\"type\": \"LogTickFormatter\", \"id\": \"83372e4e-bf70-4f55-b2d9-aad5d74c984d\"}, \"ticker\": {\"type\": \"LogTicker\", \"id\": \"19cd34d0-3d11-420d-b3ad-c835e772ba96\"}}, \"type\": \"LogAxis\", \"id\": \"3882a9c1-d320-40cb-904c-eaaef787bc92\"}, {\"attributes\": {\"plot\": {\"subtype\": \"Figure\", \"type\": \"Plot\", \"id\": \"f4dd7c56-00f7-4fbe-8889-bc4481e443f7\"}, \"axis_label\": \"number of requests\", \"formatter\": {\"type\": \"LogTickFormatter\", \"id\": \"2c2adaf9-9713-4e44-b404-54044ca95fd6\"}, \"ticker\": {\"type\": \"LogTicker\", \"id\": \"c215958c-5364-4fc6-b480-4fbca22c13aa\"}}, \"type\": \"LogAxis\", \"id\": \"79e72a4d-7f65-4cd8-8e46-cebaab42deee\"}, {\"attributes\": {\"line_color\": {\"value\": \"#1f77b4\"}, \"line_alpha\": {\"value\": 0.1}, \"y\": {\"field\": \"all\"}, \"x\": {\"field\": \"date\"}}, \"type\": \"Line\", \"id\": \"99ac3698-3d9c-4785-b746-642a7324ed9a\"}, {\"attributes\": {\"months\": [0, 1, 2, 3, 4, 5, 6, 7, 8, 9, 10, 11]}, \"type\": \"MonthsTicker\", \"id\": \"7bcb97c4-d217-4b88-b00e-7e1178bfdebc\"}, {\"attributes\": {\"num_minor_ticks\": 5}, \"type\": \"DatetimeTicker\", \"id\": \"4896287e-b17c-4229-bc7c-cf36df47267f\"}, {\"attributes\": {\"min_interval\": 1000.0, \"mantissas\": [1, 2, 5, 10, 15, 20, 30], \"base\": 60, \"max_interval\": 1800000.0, \"num_minor_ticks\": 0}, \"type\": \"AdaptiveTicker\", \"id\": \"6a35a662-5b3b-4622-b657-ec950a8e8085\"}, {\"attributes\": {}, \"type\": \"ToolEvents\", \"id\": \"c740aa92-abec-4c89-9961-6715387b6eb2\"}, {\"attributes\": {\"num_minor_ticks\": 10}, \"type\": \"LogTicker\", \"id\": \"c215958c-5364-4fc6-b480-4fbca22c13aa\"}, {\"attributes\": {\"callback\": null, \"end\": 1000000, \"start\": 5}, \"type\": \"Range1d\", \"id\": \"b16e3f6d-3bc9-4c6f-ad50-77e1b8c94c50\"}, {\"attributes\": {\"nonselection_glyph\": {\"type\": \"Line\", \"id\": \"4c7f104c-f208-4d85-b23f-2e24681c1e02\"}, \"data_source\": {\"type\": \"ColumnDataSource\", \"id\": \"c901bc38-f802-42a9-9c0b-fa9058d54cec\"}, \"selection_glyph\": null, \"hover_glyph\": null, \"glyph\": {\"type\": \"Line\", \"id\": \"a51a2248-aeb7-48e1-a71e-ce0934c44459\"}}, \"type\": \"GlyphRenderer\", \"id\": \"ecf714ae-f7ce-4af5-8ce8-f14cbc7ff296\"}, {\"attributes\": {\"line_color\": {\"value\": \"green\"}, \"x\": {\"field\": \"date\"}, \"y\": {\"field\": \"ok\"}}, \"type\": \"Line\", \"id\": \"7de48fa3-d669-43db-b190-b034e4c330f6\"}, {\"attributes\": {\"plot\": {\"subtype\": \"Figure\", \"type\": \"Plot\", \"id\": \"697fad15-f78d-41f5-885f-559cadf8c023\"}, \"axis_label\": \"number of requests\", \"formatter\": {\"type\": \"BasicTickFormatter\", \"id\": \"e730ab6f-d919-4fee-bb10-a6d11c11e677\"}, \"ticker\": {\"type\": \"BasicTicker\", \"id\": \"df7ca083-d9f1-4ce5-9dea-86af735d8328\"}}, \"type\": \"LinearAxis\", \"id\": \"1f50bc01-9197-4200-bb25-ad9560a82c42\"}, {\"attributes\": {\"plot\": {\"subtype\": \"Figure\", \"type\": \"Plot\", \"id\": \"697fad15-f78d-41f5-885f-559cadf8c023\"}, \"legends\": [[\"all\", [{\"type\": \"GlyphRenderer\", \"id\": \"132476fa-a318-49eb-908d-f309619958c0\"}]], [\"ok\", [{\"type\": \"GlyphRenderer\", \"id\": \"afb6cf73-1989-483f-874d-d6e81dd8abeb\"}]], [\"notFound\", [{\"type\": \"GlyphRenderer\", \"id\": \"ecf714ae-f7ce-4af5-8ce8-f14cbc7ff296\"}]], [\"others\", [{\"type\": \"GlyphRenderer\", \"id\": \"267e8a43-7dec-41b2-8a3b-11085027f03e\"}]]], \"location\": \"top_left\"}, \"type\": \"Legend\", \"id\": \"2b08f16e-5919-4214-b740-b2cd8c081a3f\"}, {\"attributes\": {\"plot\": {\"subtype\": \"Figure\", \"type\": \"Plot\", \"id\": \"f4dd7c56-00f7-4fbe-8889-bc4481e443f7\"}, \"ticker\": {\"type\": \"LogTicker\", \"id\": \"4bdb8756-46b4-4168-bd87-b94a4d6e2d75\"}}, \"type\": \"Grid\", \"id\": \"7a32e3f0-cba9-4a70-a87f-a6b15eb486da\"}, {\"attributes\": {}, \"type\": \"BasicTicker\", \"id\": \"813f9893-7833-4fec-9cb5-2c0c8f7b29ba\"}, {\"attributes\": {\"plot\": {\"subtype\": \"Figure\", \"type\": \"Plot\", \"id\": \"cb7a3d1e-060f-4ea1-95c3-a497a2a4adcf\"}, \"axis_label\": \"for a given request, percentage of notFound\", \"formatter\": {\"type\": \"BasicTickFormatter\", \"id\": \"f890be33-be25-4796-86a1-e9fb9542c3c6\"}, \"ticker\": {\"type\": \"BasicTicker\", \"id\": \"813f9893-7833-4fec-9cb5-2c0c8f7b29ba\"}}, \"type\": \"LinearAxis\", \"id\": \"0915dc29-2ceb-4d57-a54e-f0651a970178\"}, {\"attributes\": {\"days\": [1, 15]}, \"type\": \"DaysTicker\", \"id\": \"2ad3b54b-0f68-4400-9073-63515915392e\"}, {\"attributes\": {\"plot\": {\"subtype\": \"Figure\", \"type\": \"Plot\", \"id\": \"f4dd7c56-00f7-4fbe-8889-bc4481e443f7\"}, \"axis_label\": \"content size\", \"formatter\": {\"type\": \"LogTickFormatter\", \"id\": \"4f57e896-65f3-4905-8be0-264a26c859bb\"}, \"ticker\": {\"type\": \"LogTicker\", \"id\": \"4bdb8756-46b4-4168-bd87-b94a4d6e2d75\"}}, \"type\": \"LogAxis\", \"id\": \"e2da5c61-c94f-4056-9efa-276de2e3e9fe\"}, {\"attributes\": {\"callback\": null, \"column_names\": [\"top\", \"right\", \"bottom\", \"left\"], \"data\": {\"top\": [18, 730, 125189, 321223, 112341, 7618, 722, 10], \"left\": [1, 10, 100, 1000, 10000, 100000, 1000000, 10000000], \"right\": [10, 100, 1000, 10000, 100000, 1000000, 10000000, 100000000], \"bottom\": [0, 0, 0, 0, 0, 0, 0, 0]}}, \"type\": \"ColumnDataSource\", \"id\": \"18925ca3-caec-42dc-b6be-943a7acd9622\"}, {\"attributes\": {\"plot\": {\"subtype\": \"Figure\", \"type\": \"Plot\", \"id\": \"697fad15-f78d-41f5-885f-559cadf8c023\"}, \"ticker\": {\"type\": \"BasicTicker\", \"id\": \"df7ca083-d9f1-4ce5-9dea-86af735d8328\"}, \"dimension\": 1}, \"type\": \"Grid\", \"id\": \"84a6f820-4318-48c3-826d-d1fa64ab2d54\"}, {\"attributes\": {}, \"type\": \"YearsTicker\", \"id\": \"2271a059-2ad9-447b-af96-74ed313c2b0d\"}, {\"attributes\": {\"callback\": null, \"column_names\": [\"notFound\", \"all\", \"ok\", \"textDate\", \"others\", \"date\"], \"data\": {\"notFound\": [20, 36, 144, 49, 56, 33, 11, 38, 45, 53, 94, 43, 16, 15, 28, 16, 31, 35, 13, 11, 26, 56, 39, 130, 40, 33, 29, 26, 22, 19, 47, 37, 25, 8, 14, 47, 32, 78, 19, 21, 23, 18, 96, 16, 23, 25, 34, 8, 22, 44, 282, 121, 26, 29, 42, 35, 94, 30, 46, 30, 11, 5, 11, 12, 25, 16, 11, 10, 8, 5, 14, 48, 12, 120, 22, 1, 8, 42, 39, 27, 108, 41, 14, 48, 132, 100, 27, 71, 41, 12, 35, 76, 36, 22, 44, 30, 27, 44, 145, 72, 119, 71, 160, 67, 54, 103, 76, 96, 124, 75, 25, 71, 127, 70, 73, 109, 86, 46, 42, 19, 79, 90, 59, 19, 37, 34, 43, 54, 43, 46, 23, 36, 49, 61, 122, 57, 149, 163, 28, 20, 125, 106, 45, 38, 89, 23, 57, 76, 129, 118, 89, 84, 57, 85, 115, 200, 238, 239, 308, 55, 50, 138, 148, 190, 85, 263, 91, 97, 85, 71, 82, 105, 22, 35, 44, 115, 62, 67, 78, 89, 28, 20, 43, 38, 269, 76, 40, 37, 20, 49, 49, 33, 54, 52, 66, 47, 21, 51, 59, 96, 62, 31, 37, 97, 88, 41, 93, 38, 33, 30, 62, 86, 65, 83, 51, 31, 32, 45, 80, 71, 47, 68, 71, 53, 57, 63, 41, 55, 58, 25, 20, 32, 42, 75, 60, 22, 27, 14, 63, 47, 60, 71, 54, 50, 25, 64, 68, 91, 44, 44, 61, 71, 54, 96, 52, 68, 47, 28, 20, 75, 56, 109, 211, 57, 39, 44, 132, 38, 70, 79, 74, 75, 144, 83, 92, 65, 94, 223, 22, 81, 73, 126, 148, 64, 79, 106, 33, 62, 140, 121, 40, 23, 30, 32, 128, 80, 144, 46, 47, 32, 47, 76, 66, 72, 66, 55, 45, 49, 80, 52, 106, 39, 26, 17, 16, 14, 21, 40, 67, 78, 39, 86, 117, 104, 142, 142, 165, 85, 69, 318, 211, 138, 138, 117, 67, 51, 86, 129, 102, 142, 116, 78, 80, 155, 78, 117, 100, 109, 37, 110, 69, 101, 74], \"all\": [705, 1194, 1680, 1889, 1816, 898, 902, 2083, 1886, 2106, 2112, 1775, 568, 582, 1564, 1260, 1376, 1216, 710, 487, 613, 1330, 1207, 2142, 2266, 1266, 648, 784, 1777, 1753, 1520, 1675, 1349, 681, 588, 1660, 2237, 2113, 992, 1324, 712, 591, 1790, 1378, 1524, 1467, 1413, 489, 603, 1708, 1804, 1265, 1149, 1071, 1143, 1102, 1840, 1249, 1118, 908, 457, 123, 387, 280, 513, 465, 301, 336, 301, 251, 491, 1016, 885, 1104, 587, 346, 450, 1345, 1665, 1346, 1830, 1680, 481, 760, 1958, 1488, 1670, 2306, 1958, 624, 788, 1566, 2237, 1923, 2230, 2005, 1339, 1268, 2825, 3244, 2722, 2845, 2531, 2707, 1930, 3589, 5216, 4409, 5025, 2972, 1003, 1938, 3212, 3393, 3531, 2598, 2133, 1676, 1158, 1555, 1870, 2786, 2445, 1824, 1525, 1267, 2057, 2197, 2153, 2097, 1649, 1414, 1623, 2892, 3139, 2682, 2968, 3373, 1505, 1616, 3964, 4471, 4293, 3686, 1968, 1485, 1345, 4787, 6616, 4169, 4885, 2046, 2435, 2160, 4519, 5376, 6353, 4627, 3463, 1652, 1446, 2915, 3131, 3486, 3523, 4016, 2286, 2501, 3396, 3483, 3867, 2338, 1188, 1029, 1180, 1507, 1703, 2306, 2055, 2229, 1665, 966, 1433, 1545, 2337, 1941, 2006, 1055, 822, 1511, 2078, 2426, 2320, 2402, 3307, 2300, 2268, 3318, 2836, 2400, 1654, 900, 1092, 1787, 1729, 1949, 2274, 2270, 1114, 2505, 2923, 2669, 2159, 3330, 2159, 805, 582, 1271, 1642, 1795, 1944, 1734, 999, 1117, 1734, 2378, 1715, 2061, 1670, 1028, 866, 1801, 1832, 2463, 1841, 1797, 1339, 991, 2815, 2022, 2555, 2369, 1988, 984, 1625, 2245, 2197, 2187, 1819, 1604, 810, 1221, 1740, 2580, 1955, 1747, 1285, 829, 758, 1743, 2215, 1830, 1877, 1818, 1028, 935, 2181, 1740, 1906, 1853, 2070, 1290, 1636, 2185, 2916, 2440, 2468, 2657, 1291, 1559, 2378, 2479, 3138, 2666, 2828, 1714, 1541, 1851, 2796, 2795, 2657, 1995, 1178, 1758, 2804, 2115, 2267, 2175, 2053, 991, 1374, 2219, 2374, 2774, 2318, 2260, 1256, 1242, 2207, 1937, 2297, 2018, 1191, 1019, 654, 1065, 1171, 1749, 2382, 3208, 1602, 1613, 3543, 3287, 4746, 3963, 3764, 1883, 2021, 3494, 4079, 4524, 5471, 3381, 2897, 2853, 4358, 4894, 4153, 4004, 3822, 2304, 2174, 4594, 3818, 3968, 3718, 3853, 1548, 2022, 2814, 3708, 2522], \"ok\": [660, 1107, 1431, 1714, 1632, 823, 825, 1925, 1746, 1901, 1889, 1633, 494, 527, 1441, 1175, 1267, 1110, 654, 437, 526, 1124, 1088, 1846, 1910, 1135, 573, 712, 1567, 1425, 1317, 1345, 1148, 650, 534, 1467, 1968, 1760, 910, 1229, 661, 543, 1362, 1262, 1353, 1330, 1202, 422, 554, 1457, 1312, 952, 971, 941, 972, 905, 1276, 1097, 987, 743, 408, 110, 229, 258, 454, 393, 262, 300, 278, 210, 456, 875, 798, 842, 517, 304, 388, 1131, 1351, 1106, 1591, 1262, 425, 609, 1478, 1186, 1396, 2015, 1696, 538, 638, 1204, 1938, 1669, 1983, 1726, 1196, 1082, 2273, 2741, 2315, 2503, 1986, 2393, 1709, 2979, 4431, 3552, 4228, 2408, 848, 1359, 2280, 2783, 2714, 2017, 1586, 1383, 902, 1289, 1456, 2315, 1987, 1554, 1219, 1099, 1670, 1745, 1712, 1733, 1371, 1029, 1351, 2386, 2504, 2246, 2280, 2651, 1282, 1384, 3330, 3659, 3657, 2979, 1439, 1147, 986, 3999, 5561, 3523, 3956, 1385, 1949, 1680, 3270, 3369, 4049, 3183, 2704, 1072, 1128, 2145, 2177, 2710, 3014, 2541, 1604, 1827, 2674, 2711, 2627, 1652, 1012, 883, 930, 1116, 1379, 1926, 1576, 1708, 1054, 779, 1228, 1299, 1287, 1485, 1575, 904, 709, 1183, 1667, 1721, 1846, 1820, 1278, 1684, 1640, 2501, 1965, 1668, 1327, 658, 633, 1442, 1339, 1492, 1359, 1349, 706, 862, 1383, 1718, 1251, 1332, 1024, 636, 471, 1016, 1229, 1492, 1407, 1403, 845, 914, 1421, 1764, 1426, 1614, 1370, 878, 761, 1422, 1550, 1791, 1367, 1426, 1027, 817, 1820, 1639, 1808, 1650, 1586, 699, 1304, 1727, 1665, 1690, 1490, 1233, 621, 964, 1372, 2067, 1635, 1452, 1082, 670, 544, 1396, 1812, 1385, 1461, 1363, 778, 646, 1637, 1316, 1517, 1526, 1697, 990, 1180, 1609, 2204, 1958, 1703, 1773, 1087, 1153, 2056, 2092, 2443, 2242, 2395, 1422, 1276, 1535, 2158, 2319, 2202, 1752, 898, 1375, 1981, 1796, 1881, 1866, 1751, 886, 1160, 1882, 2019, 2358, 2042, 2062, 1174, 1114, 1918, 1675, 1895, 1713, 1038, 906, 567, 939, 1001, 1466, 1955, 2645, 1309, 1312, 2755, 2779, 3581, 2736, 2866, 1555, 1564, 2438, 3003, 3265, 3417, 2472, 2143, 2029, 3336, 3728, 2912, 3046, 2942, 1714, 1690, 3488, 2927, 2995, 2723, 3086, 972, 1509, 2324, 2944, 1844], \"textDate\": [\"1994-10-24\", \"1994-10-25\", \"1994-10-26\", \"1994-10-27\", \"1994-10-28\", \"1994-10-29\", \"1994-10-30\", \"1994-10-31\", \"1994-11-01\", \"1994-11-02\", \"1994-11-03\", \"1994-11-04\", \"1994-11-05\", \"1994-11-06\", \"1994-11-07\", \"1994-11-08\", \"1994-11-09\", \"1994-11-10\", \"1994-11-11\", \"1994-11-12\", \"1994-11-13\", \"1994-11-14\", \"1994-11-15\", \"1994-11-16\", \"1994-11-17\", \"1994-11-18\", \"1994-11-19\", \"1994-11-20\", \"1994-11-21\", \"1994-11-22\", \"1994-11-23\", \"1994-11-24\", \"1994-11-25\", \"1994-11-26\", \"1994-11-27\", \"1994-11-28\", \"1994-11-29\", \"1994-11-30\", \"1994-12-01\", \"1994-12-02\", \"1994-12-03\", \"1994-12-04\", \"1994-12-05\", \"1994-12-06\", \"1994-12-07\", \"1994-12-08\", \"1994-12-09\", \"1994-12-10\", \"1994-12-11\", \"1994-12-12\", \"1994-12-13\", \"1994-12-14\", \"1994-12-15\", \"1994-12-16\", \"1994-12-17\", \"1994-12-18\", \"1994-12-19\", \"1994-12-20\", \"1994-12-21\", \"1994-12-22\", \"1994-12-23\", \"1994-12-24\", \"1994-12-25\", \"1994-12-26\", \"1994-12-27\", \"1994-12-28\", \"1994-12-29\", \"1994-12-30\", \"1994-12-31\", \"1995-01-01\", \"1995-01-02\", \"1995-01-03\", \"1995-01-04\", \"1995-01-05\", \"1995-01-06\", \"1995-01-07\", \"1995-01-08\", \"1995-01-09\", \"1995-01-10\", \"1995-01-11\", \"1995-01-12\", \"1995-01-13\", \"1995-01-14\", \"1995-01-15\", \"1995-01-16\", \"1995-01-17\", \"1995-01-18\", \"1995-01-19\", \"1995-01-20\", \"1995-01-21\", \"1995-01-22\", \"1995-01-23\", \"1995-01-24\", \"1995-01-25\", \"1995-01-26\", \"1995-01-27\", \"1995-01-28\", \"1995-01-29\", \"1995-01-30\", \"1995-01-31\", \"1995-02-01\", \"1995-02-02\", \"1995-02-03\", \"1995-02-04\", \"1995-02-05\", \"1995-02-06\", \"1995-02-07\", \"1995-02-08\", \"1995-02-09\", \"1995-02-10\", \"1995-02-11\", \"1995-02-12\", \"1995-02-13\", \"1995-02-14\", \"1995-02-15\", \"1995-02-16\", \"1995-02-17\", \"1995-02-18\", \"1995-02-19\", \"1995-02-20\", \"1995-02-21\", \"1995-02-22\", \"1995-02-23\", \"1995-02-24\", \"1995-02-25\", \"1995-02-26\", \"1995-02-27\", \"1995-02-28\", \"1995-03-01\", \"1995-03-02\", \"1995-03-03\", \"1995-03-04\", \"1995-03-05\", \"1995-03-06\", \"1995-03-07\", \"1995-03-08\", \"1995-03-09\", \"1995-03-10\", \"1995-03-11\", \"1995-03-12\", \"1995-03-13\", \"1995-03-14\", \"1995-03-15\", \"1995-03-16\", \"1995-03-17\", \"1995-03-18\", \"1995-03-19\", \"1995-03-20\", \"1995-03-21\", \"1995-03-22\", \"1995-03-23\", \"1995-03-24\", \"1995-03-25\", \"1995-03-26\", \"1995-03-27\", \"1995-03-28\", \"1995-03-29\", \"1995-03-30\", \"1995-03-31\", \"1995-04-01\", \"1995-04-02\", \"1995-04-03\", \"1995-04-04\", \"1995-04-05\", \"1995-04-06\", \"1995-04-07\", \"1995-04-08\", \"1995-04-09\", \"1995-04-10\", \"1995-04-11\", \"1995-04-12\", \"1995-04-13\", \"1995-04-14\", \"1995-04-15\", \"1995-04-16\", \"1995-04-17\", \"1995-04-18\", \"1995-04-19\", \"1995-04-20\", \"1995-04-21\", \"1995-04-22\", \"1995-04-23\", \"1995-04-24\", \"1995-04-25\", \"1995-04-26\", \"1995-04-27\", \"1995-04-28\", \"1995-04-29\", \"1995-04-30\", \"1995-05-01\", \"1995-05-02\", \"1995-05-03\", \"1995-05-04\", \"1995-05-05\", \"1995-05-06\", \"1995-05-07\", \"1995-05-08\", \"1995-05-09\", \"1995-05-10\", \"1995-05-11\", \"1995-05-12\", \"1995-05-13\", \"1995-05-14\", \"1995-05-15\", \"1995-05-16\", \"1995-05-17\", \"1995-05-18\", \"1995-05-19\", \"1995-05-20\", \"1995-05-21\", \"1995-05-22\", \"1995-05-23\", \"1995-05-24\", \"1995-05-25\", \"1995-05-26\", \"1995-05-27\", \"1995-05-28\", \"1995-05-29\", \"1995-05-30\", \"1995-05-31\", \"1995-06-01\", \"1995-06-02\", \"1995-06-03\", \"1995-06-04\", \"1995-06-05\", \"1995-06-06\", \"1995-06-07\", \"1995-06-08\", \"1995-06-09\", \"1995-06-10\", \"1995-06-11\", \"1995-06-12\", \"1995-06-13\", \"1995-06-14\", \"1995-06-15\", \"1995-06-16\", \"1995-06-17\", \"1995-06-18\", \"1995-06-19\", \"1995-06-20\", \"1995-06-21\", \"1995-06-22\", \"1995-06-23\", \"1995-06-24\", \"1995-06-25\", \"1995-06-26\", \"1995-06-27\", \"1995-06-28\", \"1995-06-29\", \"1995-06-30\", \"1995-07-01\", \"1995-07-02\", \"1995-07-03\", \"1995-07-04\", \"1995-07-05\", \"1995-07-06\", \"1995-07-07\", \"1995-07-08\", \"1995-07-09\", \"1995-07-10\", \"1995-07-11\", \"1995-07-12\", \"1995-07-13\", \"1995-07-14\", \"1995-07-15\", \"1995-07-16\", \"1995-07-17\", \"1995-07-18\", \"1995-07-19\", \"1995-07-20\", \"1995-07-21\", \"1995-07-22\", \"1995-07-23\", \"1995-07-24\", \"1995-07-25\", \"1995-07-26\", \"1995-07-27\", \"1995-07-28\", \"1995-07-29\", \"1995-07-30\", \"1995-07-31\", \"1995-08-01\", \"1995-08-02\", \"1995-08-03\", \"1995-08-04\", \"1995-08-05\", \"1995-08-06\", \"1995-08-07\", \"1995-08-08\", \"1995-08-09\", \"1995-08-10\", \"1995-08-11\", \"1995-08-12\", \"1995-08-13\", \"1995-08-14\", \"1995-08-15\", \"1995-08-16\", \"1995-08-17\", \"1995-08-18\", \"1995-08-19\", \"1995-08-20\", \"1995-08-21\", \"1995-08-22\", \"1995-08-23\", \"1995-08-24\", \"1995-08-25\", \"1995-08-26\", \"1995-08-27\", \"1995-08-28\", \"1995-08-29\", \"1995-08-30\", \"1995-08-31\", \"1995-09-01\", \"1995-09-02\", \"1995-09-03\", \"1995-09-04\", \"1995-09-05\", \"1995-09-06\", \"1995-09-07\", \"1995-09-08\", \"1995-09-09\", \"1995-09-10\", \"1995-09-11\", \"1995-09-12\", \"1995-09-13\", \"1995-09-14\", \"1995-09-15\", \"1995-09-16\", \"1995-09-17\", \"1995-09-18\", \"1995-09-19\", \"1995-09-20\", \"1995-09-21\", \"1995-09-22\", \"1995-09-23\", \"1995-09-24\", \"1995-09-25\", \"1995-09-26\", \"1995-09-27\", \"1995-09-28\", \"1995-09-29\", \"1995-09-30\", \"1995-10-01\", \"1995-10-02\", \"1995-10-03\", \"1995-10-04\", \"1995-10-05\", \"1995-10-06\", \"1995-10-07\", \"1995-10-08\", \"1995-10-09\", \"1995-10-10\", \"1995-10-11\"], \"others\": [25, 51, 105, 126, 128, 42, 66, 120, 95, 152, 129, 99, 58, 40, 95, 69, 78, 71, 43, 39, 61, 150, 80, 166, 316, 98, 46, 46, 188, 309, 156, 293, 176, 23, 40, 146, 237, 275, 63, 74, 28, 30, 332, 100, 148, 112, 177, 59, 27, 207, 210, 192, 152, 101, 129, 162, 470, 122, 85, 135, 38, 8, 147, 10, 34, 56, 28, 26, 15, 36, 21, 93, 75, 142, 48, 41, 54, 172, 275, 213, 131, 377, 42, 103, 348, 202, 247, 220, 221, 74, 115, 286, 263, 232, 203, 249, 116, 142, 407, 431, 288, 271, 385, 247, 167, 507, 709, 761, 673, 489, 130, 508, 805, 540, 744, 472, 461, 247, 214, 247, 335, 381, 399, 251, 269, 134, 344, 398, 398, 318, 255, 349, 223, 445, 513, 379, 539, 559, 195, 212, 509, 706, 591, 669, 440, 315, 302, 712, 926, 528, 840, 577, 429, 395, 1134, 1807, 2066, 1205, 451, 525, 268, 632, 806, 586, 424, 1212, 591, 577, 637, 701, 1158, 581, 154, 111, 206, 276, 262, 313, 401, 432, 583, 167, 162, 208, 781, 380, 391, 114, 93, 279, 362, 672, 420, 530, 1963, 569, 607, 766, 812, 636, 265, 211, 422, 248, 302, 416, 822, 883, 375, 1613, 1478, 865, 843, 1915, 1084, 138, 79, 210, 333, 232, 490, 263, 83, 150, 256, 551, 248, 392, 242, 125, 85, 347, 240, 597, 414, 349, 285, 160, 932, 336, 687, 648, 348, 235, 296, 454, 464, 406, 285, 327, 128, 186, 314, 417, 268, 227, 156, 131, 194, 272, 347, 336, 205, 398, 211, 245, 412, 386, 319, 248, 299, 225, 312, 493, 620, 417, 671, 661, 182, 325, 249, 261, 547, 360, 354, 186, 232, 254, 498, 355, 415, 220, 250, 351, 695, 239, 242, 263, 255, 73, 167, 261, 289, 344, 210, 143, 37, 79, 209, 210, 296, 266, 127, 96, 71, 112, 149, 243, 360, 485, 254, 215, 671, 404, 1023, 1085, 733, 243, 388, 738, 865, 1121, 1916, 792, 687, 773, 936, 1037, 1139, 816, 764, 512, 404, 951, 813, 856, 895, 658, 539, 403, 421, 663, 604], \"date\": [782956800000.0, 783043200000.0, 783129600000.0, 783216000000.0, 783302400000.0, 783388800000.0, 783475200000.0, 783561600000.0, 783648000000.0, 783734400000.0, 783820800000.0, 783907200000.0, 783993600000.0, 784080000000.0, 784166400000.0, 784252800000.0, 784339200000.0, 784425600000.0, 784512000000.0, 784598400000.0, 784684800000.0, 784771200000.0, 784857600000.0, 784944000000.0, 785030400000.0, 785116800000.0, 785203200000.0, 785289600000.0, 785376000000.0, 785462400000.0, 785548800000.0, 785635200000.0, 785721600000.0, 785808000000.0, 785894400000.0, 785980800000.0, 786067200000.0, 786153600000.0, 786240000000.0, 786326400000.0, 786412800000.0, 786499200000.0, 786585600000.0, 786672000000.0, 786758400000.0, 786844800000.0, 786931200000.0, 787017600000.0, 787104000000.0, 787190400000.0, 787276800000.0, 787363200000.0, 787449600000.0, 787536000000.0, 787622400000.0, 787708800000.0, 787795200000.0, 787881600000.0, 787968000000.0, 788054400000.0, 788140800000.0, 788227200000.0, 788313600000.0, 788400000000.0, 788486400000.0, 788572800000.0, 788659200000.0, 788745600000.0, 788832000000.0, 788918400000.0, 789004800000.0, 789091200000.0, 789177600000.0, 789264000000.0, 789350400000.0, 789436800000.0, 789523200000.0, 789609600000.0, 789696000000.0, 789782400000.0, 789868800000.0, 789955200000.0, 790041600000.0, 790128000000.0, 790214400000.0, 790300800000.0, 790387200000.0, 790473600000.0, 790560000000.0, 790646400000.0, 790732800000.0, 790819200000.0, 790905600000.0, 790992000000.0, 791078400000.0, 791164800000.0, 791251200000.0, 791337600000.0, 791424000000.0, 791510400000.0, 791596800000.0, 791683200000.0, 791769600000.0, 791856000000.0, 791942400000.0, 792028800000.0, 792115200000.0, 792201600000.0, 792288000000.0, 792374400000.0, 792460800000.0, 792547200000.0, 792633600000.0, 792720000000.0, 792806400000.0, 792892800000.0, 792979200000.0, 793065600000.0, 793152000000.0, 793238400000.0, 793324800000.0, 793411200000.0, 793497600000.0, 793584000000.0, 793670400000.0, 793756800000.0, 793843200000.0, 793929600000.0, 794016000000.0, 794102400000.0, 794188800000.0, 794275200000.0, 794361600000.0, 794448000000.0, 794534400000.0, 794620800000.0, 794707200000.0, 794793600000.0, 794880000000.0, 794966400000.0, 795052800000.0, 795139200000.0, 795225600000.0, 795312000000.0, 795398400000.0, 795484800000.0, 795571200000.0, 795657600000.0, 795744000000.0, 795830400000.0, 795916800000.0, 796003200000.0, 796089600000.0, 796176000000.0, 796262400000.0, 796348800000.0, 796435200000.0, 796521600000.0, 796608000000.0, 796694400000.0, 796780800000.0, 796867200000.0, 796953600000.0, 797040000000.0, 797126400000.0, 797212800000.0, 797299200000.0, 797385600000.0, 797472000000.0, 797558400000.0, 797644800000.0, 797731200000.0, 797817600000.0, 797904000000.0, 797990400000.0, 798076800000.0, 798163200000.0, 798249600000.0, 798336000000.0, 798422400000.0, 798508800000.0, 798595200000.0, 798681600000.0, 798768000000.0, 798854400000.0, 798940800000.0, 799027200000.0, 799113600000.0, 799200000000.0, 799286400000.0, 799372800000.0, 799459200000.0, 799545600000.0, 799632000000.0, 799718400000.0, 799804800000.0, 799891200000.0, 799977600000.0, 800064000000.0, 800150400000.0, 800236800000.0, 800323200000.0, 800409600000.0, 800496000000.0, 800582400000.0, 800668800000.0, 800755200000.0, 800841600000.0, 800928000000.0, 801014400000.0, 801100800000.0, 801187200000.0, 801273600000.0, 801360000000.0, 801446400000.0, 801532800000.0, 801619200000.0, 801705600000.0, 801792000000.0, 801878400000.0, 801964800000.0, 802051200000.0, 802137600000.0, 802224000000.0, 802310400000.0, 802396800000.0, 802483200000.0, 802569600000.0, 802656000000.0, 802742400000.0, 802828800000.0, 802915200000.0, 803001600000.0, 803088000000.0, 803174400000.0, 803260800000.0, 803347200000.0, 803433600000.0, 803520000000.0, 803606400000.0, 803692800000.0, 803779200000.0, 803865600000.0, 803952000000.0, 804038400000.0, 804124800000.0, 804211200000.0, 804297600000.0, 804384000000.0, 804470400000.0, 804556800000.0, 804643200000.0, 804729600000.0, 804816000000.0, 804902400000.0, 804988800000.0, 805075200000.0, 805161600000.0, 805248000000.0, 805334400000.0, 805420800000.0, 805507200000.0, 805593600000.0, 805680000000.0, 805766400000.0, 805852800000.0, 805939200000.0, 806025600000.0, 806112000000.0, 806198400000.0, 806284800000.0, 806371200000.0, 806457600000.0, 806544000000.0, 806630400000.0, 806716800000.0, 806803200000.0, 806889600000.0, 806976000000.0, 807062400000.0, 807148800000.0, 807235200000.0, 807321600000.0, 807408000000.0, 807494400000.0, 807580800000.0, 807667200000.0, 807753600000.0, 807840000000.0, 807926400000.0, 808012800000.0, 808099200000.0, 808185600000.0, 808272000000.0, 808358400000.0, 808444800000.0, 808531200000.0, 808617600000.0, 808704000000.0, 808790400000.0, 808876800000.0, 808963200000.0, 809049600000.0, 809136000000.0, 809222400000.0, 809308800000.0, 809395200000.0, 809481600000.0, 809568000000.0, 809654400000.0, 809740800000.0, 809827200000.0, 809913600000.0, 810000000000.0, 810086400000.0, 810172800000.0, 810259200000.0, 810345600000.0, 810432000000.0, 810518400000.0, 810604800000.0, 810691200000.0, 810777600000.0, 810864000000.0, 810950400000.0, 811036800000.0, 811123200000.0, 811209600000.0, 811296000000.0, 811382400000.0, 811468800000.0, 811555200000.0, 811641600000.0, 811728000000.0, 811814400000.0, 811900800000.0, 811987200000.0, 812073600000.0, 812160000000.0, 812246400000.0, 812332800000.0, 812419200000.0, 812505600000.0, 812592000000.0, 812678400000.0, 812764800000.0, 812851200000.0, 812937600000.0, 813024000000.0, 813110400000.0, 813196800000.0, 813283200000.0, 813369600000.0]}}, \"type\": \"ColumnDataSource\", \"id\": \"c901bc38-f802-42a9-9c0b-fa9058d54cec\"}, {\"attributes\": {\"callback\": null, \"column_names\": [\"top\", \"right\", \"bottom\", \"left\"], \"data\": {\"top\": [8751, 72, 71, 24, 34, 36, 22, 16, 21, 20, 20, 7, 7, 7, 3, 9, 16, 4, 8, 2, 16, 3, 7, 5, 0, 17, 5, 0, 3, 2, 5, 5, 1, 23, 1, 2, 5, 2, 4, 1, 7, 0, 5, 2, 0, 0, 0, 3, 2, 0, 39, 2, 1, 0, 1, 2, 2, 1, 0, 0, 3, 1, 3, 0, 1, 0, 27, 1, 0, 1, 2, 2, 1, 1, 0, 7, 0, 0, 0, 1, 8, 3, 0, 2, 0, 1, 0, 1, 1, 1, 1, 0, 1, 0, 0, 1, 0, 0, 0, 2920], \"left\": [0.0, 0.01, 0.02, 0.03, 0.04, 0.05, 0.06, 0.07, 0.08, 0.09, 0.1, 0.11, 0.12, 0.13, 0.14, 0.15, 0.16, 0.17, 0.18, 0.19, 0.2, 0.21, 0.22, 0.23, 0.24, 0.25, 0.26, 0.27, 0.28, 0.29, 0.3, 0.31, 0.32, 0.33, 0.34, 0.35000000000000003, 0.36, 0.37, 0.38, 0.39, 0.4, 0.41000000000000003, 0.42, 0.43, 0.44, 0.45, 0.46, 0.47000000000000003, 0.48, 0.49, 0.5, 0.51, 0.52, 0.53, 0.54, 0.55, 0.56, 0.5700000000000001, 0.58, 0.59, 0.6, 0.61, 0.62, 0.63, 0.64, 0.65, 0.66, 0.67, 0.68, 0.6900000000000001, 0.7000000000000001, 0.71, 0.72, 0.73, 0.74, 0.75, 0.76, 0.77, 0.78, 0.79, 0.8, 0.81, 0.8200000000000001, 0.8300000000000001, 0.84, 0.85, 0.86, 0.87, 0.88, 0.89, 0.9, 0.91, 0.92, 0.93, 0.9400000000000001, 0.9500000000000001, 0.96, 0.97, 0.98, 0.99], \"right\": [0.01, 0.02, 0.03, 0.04, 0.05, 0.06, 0.07, 0.08, 0.09, 0.1, 0.11, 0.12, 0.13, 0.14, 0.15, 0.16, 0.17, 0.18, 0.19, 0.2, 0.21, 0.22, 0.23, 0.24, 0.25, 0.26, 0.27, 0.28, 0.29, 0.3, 0.31, 0.32, 0.33, 0.34, 0.35000000000000003, 0.36, 0.37, 0.38, 0.39, 0.4, 0.41000000000000003, 0.42, 0.43, 0.44, 0.45, 0.46, 0.47000000000000003, 0.48, 0.49, 0.5, 0.51, 0.52, 0.53, 0.54, 0.55, 0.56, 0.5700000000000001, 0.58, 0.59, 0.6, 0.61, 0.62, 0.63, 0.64, 0.65, 0.66, 0.67, 0.68, 0.6900000000000001, 0.7000000000000001, 0.71, 0.72, 0.73, 0.74, 0.75, 0.76, 0.77, 0.78, 0.79, 0.8, 0.81, 0.8200000000000001, 0.8300000000000001, 0.84, 0.85, 0.86, 0.87, 0.88, 0.89, 0.9, 0.91, 0.92, 0.93, 0.9400000000000001, 0.9500000000000001, 0.96, 0.97, 0.98, 0.99, 1.0], \"bottom\": [0, 0, 0, 0, 0, 0, 0, 0, 0, 0, 0, 0, 0, 0, 0, 0, 0, 0, 0, 0, 0, 0, 0, 0, 0, 0, 0, 0, 0, 0, 0, 0, 0, 0, 0, 0, 0, 0, 0, 0, 0, 0, 0, 0, 0, 0, 0, 0, 0, 0, 0, 0, 0, 0, 0, 0, 0, 0, 0, 0, 0, 0, 0, 0, 0, 0, 0, 0, 0, 0, 0, 0, 0, 0, 0, 0, 0, 0, 0, 0, 0, 0, 0, 0, 0, 0, 0, 0, 0, 0, 0, 0, 0, 0, 0, 0, 0, 0, 0, 0]}}, \"type\": \"ColumnDataSource\", \"id\": \"f23e0c0e-7e98-4bb9-80e4-24f6ebaa943c\"}, {\"attributes\": {\"nonselection_glyph\": {\"type\": \"Quad\", \"id\": \"4c56dfa2-4ba7-4e9a-b4dd-e474900acc80\"}, \"data_source\": {\"type\": \"ColumnDataSource\", \"id\": \"f23e0c0e-7e98-4bb9-80e4-24f6ebaa943c\"}, \"selection_glyph\": null, \"hover_glyph\": null, \"glyph\": {\"type\": \"Quad\", \"id\": \"b251fb25-4016-4bfc-b25b-8b1f67a4a605\"}}, \"type\": \"GlyphRenderer\", \"id\": \"0b5b22a3-6e00-41ee-8436-7b6e2844b828\"}, {\"attributes\": {\"num_minor_ticks\": 10}, \"type\": \"LogTicker\", \"id\": \"19cd34d0-3d11-420d-b3ad-c835e772ba96\"}, {\"attributes\": {\"line_color\": {\"value\": \"#1f77b4\"}, \"line_alpha\": {\"value\": 0.1}, \"right\": {\"field\": \"right\"}, \"fill_color\": {\"value\": \"#1f77b4\"}, \"bottom\": {\"field\": \"bottom\"}, \"top\": {\"field\": \"top\"}, \"fill_alpha\": {\"value\": 0.1}, \"left\": {\"field\": \"left\"}}, \"type\": \"Quad\", \"id\": \"778cdad5-07aa-4385-ae1d-33db645df615\"}, {\"attributes\": {\"months\": [0, 6]}, \"type\": \"MonthsTicker\", \"id\": \"c8f59491-e0fa-4aae-907c-1fe45cc4ca23\"}, {\"attributes\": {\"min_interval\": 3600000.0, \"mantissas\": [1, 2, 4, 6, 8, 12], \"base\": 24, \"max_interval\": 43200000.0, \"num_minor_ticks\": 0}, \"type\": \"AdaptiveTicker\", \"id\": \"7e079213-f8ce-4e8f-a0ea-455f77bd7ea1\"}, {\"attributes\": {\"callback\": null, \"end\": 10000, \"start\": 0.5}, \"type\": \"Range1d\", \"id\": \"db1bec48-444b-4519-b2fc-b0f109562025\"}, {\"attributes\": {\"days\": [1, 2, 3, 4, 5, 6, 7, 8, 9, 10, 11, 12, 13, 14, 15, 16, 17, 18, 19, 20, 21, 22, 23, 24, 25, 26, 27, 28, 29, 30, 31]}, \"type\": \"DaysTicker\", \"id\": \"17df9911-3508-4fb2-ab0d-f630bc1ed434\"}, {\"attributes\": {\"line_color\": {\"value\": \"cyan\"}, \"x\": {\"field\": \"date\"}, \"y\": {\"field\": \"others\"}}, \"type\": \"Line\", \"id\": \"7304bca2-fa40-4a49-852c-648b93e1b203\"}, {\"attributes\": {\"days\": [1, 8, 15, 22]}, \"type\": \"DaysTicker\", \"id\": \"cedd22a6-cc58-458f-b73e-36c019acf015\"}]}, \"title\": \"Bokeh Application\"}};\n",
       "            var render_items = [{\"notebook_comms_target\": \"a3ce6d98-2cfd-4692-b55d-534657755ca7\", \"docid\": \"2155a915-b001-4c30-a24f-27dee788596f\", \"elementid\": \"243f11b7-81f3-48f2-ac7e-43ddf18c1a72\", \"modelid\": \"cb7a3d1e-060f-4ea1-95c3-a497a2a4adcf\"}];\n",
       "            \n",
       "            Bokeh.embed.embed_items(docs_json, render_items);\n",
       "        });\n",
       "      },\n",
       "      function(Bokeh) {\n",
       "      }\n",
       "    ];\n",
       "  \n",
       "    function run_inline_js() {\n",
       "      for (var i = 0; i < inline_js.length; i++) {\n",
       "        inline_js[i](window.Bokeh);\n",
       "      }\n",
       "    }\n",
       "  \n",
       "    if (window._bokeh_is_loading === 0) {\n",
       "      console.log(\"Bokeh: BokehJS loaded, going straight to plotting\");\n",
       "      run_inline_js();\n",
       "    } else {\n",
       "      load_libs(js_urls, function() {\n",
       "        console.log(\"Bokeh: BokehJS plotting callback run at\", now());\n",
       "        run_inline_js();\n",
       "      });\n",
       "    }\n",
       "  }(this));\n",
       "</script>"
      ]
     },
     "metadata": {},
     "output_type": "display_data"
    },
    {
     "data": {
      "text/plain": [
       "<bokeh.io._CommsHandle at 0x7f682656c1d0>"
      ]
     },
     "execution_count": 37,
     "metadata": {},
     "output_type": "execute_result"
    }
   ],
   "source": [
    "percentage404codeRecordsHist = percentage404codeRecordsRDD.values().histogram(100)\n",
    "\n",
    "# use bokeh to plot\n",
    "source_404code = ColumnDataSource({'left': percentage404codeRecordsHist[0][0:-1], \n",
    "                                       'right': percentage404codeRecordsHist[0][1:],\n",
    "                                       'top': percentage404codeRecordsHist[1],\n",
    "                                       'bottom': [0]*len(percentage404codeRecordsHist[1])})\n",
    "p4 = figure(plot_width=800, plot_height=400,\n",
    "           tools=\"save, hover\", \n",
    "           title=\"Counting requests with a certain percentage of notFound\",\n",
    "           y_axis_type=\"log\",\n",
    "           x_range=[0, 1],\n",
    "           y_range=[0.5, 10**4],\n",
    "           x_axis_label='for a given request, percentage of notFound', \n",
    "           y_axis_label='number of requests'\n",
    "          )\n",
    "\n",
    "output_notebook()\n",
    "#output_file(\"p4.html\")\n",
    "\n",
    "hover_p4 = p4.select(dict(type=HoverTool))\n",
    "hover_p4.tooltips = OrderedDict([('notFound percentage from ... to', '(@left{0%}, @right{0%})'), ('counts', '@top')])\n",
    "\n",
    "p4.quad(left='left', right='right', top='top', bottom='bottom', source=source_404code,\n",
    "       fill_color='blue', fill_alpha=0.3, line_color='black')\n",
    "\n",
    "show(p4)\n"
   ]
  },
  {
   "cell_type": "markdown",
   "metadata": {},
   "source": [
    "On the very left of this histogram there are 8751 requests that never (strictly speaking, no more than 1% of the times each was requested) returned \"notFound\" status. Everything looks good for those. On the very right of this histogram there are 2920 requests that very always (stricty speaking, more than 99% of the times each of those was requested) not found. Those definitely require further investigation."
   ]
  }
 ],
 "metadata": {
  "kernelspec": {
   "display_name": "Python 2",
   "language": "python",
   "name": "python2"
  },
  "language_info": {
   "codemirror_mode": {
    "name": "ipython",
    "version": 2
   },
   "file_extension": ".py",
   "mimetype": "text/x-python",
   "name": "python",
   "nbconvert_exporter": "python",
   "pygments_lexer": "ipython2",
   "version": "2.7.10"
  }
 },
 "nbformat": 4,
 "nbformat_minor": 0
}
